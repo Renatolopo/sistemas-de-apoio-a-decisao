{
  "nbformat": 4,
  "nbformat_minor": 0,
  "metadata": {
    "colab": {
      "name": "SAD - Implementação de um classificador.ipynb",
      "provenance": [],
      "authorship_tag": "ABX9TyMMCnKRlV+RVj50Mtd9KpjH",
      "include_colab_link": true
    },
    "kernelspec": {
      "name": "python3",
      "display_name": "Python 3"
    },
    "language_info": {
      "name": "python"
    }
  },
  "cells": [
    {
      "cell_type": "markdown",
      "metadata": {
        "id": "view-in-github",
        "colab_type": "text"
      },
      "source": [
        "<a href=\"https://colab.research.google.com/github/Renatolopo/sistemas-de-apoio-a-decisao/blob/main/SAD_Implementa%C3%A7%C3%A3o_de_um_classificador.ipynb\" target=\"_parent\"><img src=\"https://colab.research.google.com/assets/colab-badge.svg\" alt=\"Open In Colab\"/></a>"
      ]
    },
    {
      "cell_type": "markdown",
      "source": [
        "Renato Lopo"
      ],
      "metadata": {
        "id": "I6JI43L8-0mt"
      }
    },
    {
      "cell_type": "markdown",
      "source": [
        "Escolher uma base de dados que seja do problema de classificação (ou adaptar a base que já está sendo trabalhada).\n",
        "Fazer o pré-processamento dos dados, aplicar os métodos de knn e árvore de decisão. Pesquisar um outro algoritmo de classificação e também aplicar.\n",
        "Apresentar a comparação dos resultados dos classificadores."
      ],
      "metadata": {
        "id": "C9wCXZfh-6D1"
      }
    },
    {
      "cell_type": "markdown",
      "source": [
        "### Importação dos dados"
      ],
      "metadata": {
        "id": "FzAXA8lg_sVs"
      }
    },
    {
      "cell_type": "code",
      "execution_count": null,
      "metadata": {
        "id": "PiE6n0yM-CC-"
      },
      "outputs": [],
      "source": [
        "import pandas as pd"
      ]
    },
    {
      "cell_type": "code",
      "source": [
        "from google.colab import drive\n",
        "drive.mount('/content/drive')"
      ],
      "metadata": {
        "colab": {
          "base_uri": "https://localhost:8080/"
        },
        "id": "2XgNKKQO_hIj",
        "outputId": "719647f7-728d-4e27-ca27-b2a990843df2"
      },
      "execution_count": null,
      "outputs": [
        {
          "output_type": "stream",
          "name": "stdout",
          "text": [
            "Mounted at /content/drive\n"
          ]
        }
      ]
    },
    {
      "cell_type": "markdown",
      "source": [
        "Base de dados: https://www.kaggle.com/vivovinco/nba-player-stats\n",
        "\n",
        "\n",
        "Essa base de dados contem as estatisticas de jogadores de basquete da NBA temporada 2021-2022.\n",
        "\n",
        "O meu objetivo aqui e classificalos usando  a coluna `PTS` (pontos por partida)"
      ],
      "metadata": {
        "id": "mFzgBK2VB_Em"
      }
    },
    {
      "cell_type": "code",
      "source": [
        "df = pd.read_csv(\"/content/drive/MyDrive/Colab Notebooks/2021-2022 NBA Player Stats.csv\", delimiter=';', encoding='ISO-8859-1')\n",
        "df.head()"
      ],
      "metadata": {
        "colab": {
          "base_uri": "https://localhost:8080/",
          "height": 206
        },
        "id": "tQFOzUyI_rMg",
        "outputId": "9386347c-67e0-4654-eec6-256089e3c596"
      },
      "execution_count": null,
      "outputs": [
        {
          "output_type": "execute_result",
          "data": {
            "text/html": [
              "\n",
              "  <div id=\"df-da9941a3-08f0-4e98-ba74-f8a1cafed167\">\n",
              "    <div class=\"colab-df-container\">\n",
              "      <div>\n",
              "<style scoped>\n",
              "    .dataframe tbody tr th:only-of-type {\n",
              "        vertical-align: middle;\n",
              "    }\n",
              "\n",
              "    .dataframe tbody tr th {\n",
              "        vertical-align: top;\n",
              "    }\n",
              "\n",
              "    .dataframe thead th {\n",
              "        text-align: right;\n",
              "    }\n",
              "</style>\n",
              "<table border=\"1\" class=\"dataframe\">\n",
              "  <thead>\n",
              "    <tr style=\"text-align: right;\">\n",
              "      <th></th>\n",
              "      <th>Rk</th>\n",
              "      <th>Player</th>\n",
              "      <th>Pos</th>\n",
              "      <th>Age</th>\n",
              "      <th>Tm</th>\n",
              "      <th>G</th>\n",
              "      <th>GS</th>\n",
              "      <th>MP</th>\n",
              "      <th>FG</th>\n",
              "      <th>FGA</th>\n",
              "      <th>FG%</th>\n",
              "      <th>3P</th>\n",
              "      <th>3PA</th>\n",
              "      <th>3P%</th>\n",
              "      <th>2P</th>\n",
              "      <th>2PA</th>\n",
              "      <th>2P%</th>\n",
              "      <th>eFG%</th>\n",
              "      <th>FT</th>\n",
              "      <th>FTA</th>\n",
              "      <th>FT%</th>\n",
              "      <th>ORB</th>\n",
              "      <th>DRB</th>\n",
              "      <th>TRB</th>\n",
              "      <th>AST</th>\n",
              "      <th>STL</th>\n",
              "      <th>BLK</th>\n",
              "      <th>TOV</th>\n",
              "      <th>PF</th>\n",
              "      <th>PTS</th>\n",
              "    </tr>\n",
              "  </thead>\n",
              "  <tbody>\n",
              "    <tr>\n",
              "      <th>0</th>\n",
              "      <td>1</td>\n",
              "      <td>Precious Achiuwa</td>\n",
              "      <td>C</td>\n",
              "      <td>22</td>\n",
              "      <td>TOR</td>\n",
              "      <td>34</td>\n",
              "      <td>20</td>\n",
              "      <td>25.3</td>\n",
              "      <td>3.4</td>\n",
              "      <td>8.1</td>\n",
              "      <td>0.412</td>\n",
              "      <td>0.3</td>\n",
              "      <td>1.3</td>\n",
              "      <td>0.233</td>\n",
              "      <td>3.1</td>\n",
              "      <td>6.9</td>\n",
              "      <td>0.444</td>\n",
              "      <td>0.430</td>\n",
              "      <td>0.9</td>\n",
              "      <td>1.6</td>\n",
              "      <td>0.574</td>\n",
              "      <td>2.4</td>\n",
              "      <td>5.3</td>\n",
              "      <td>7.7</td>\n",
              "      <td>1.3</td>\n",
              "      <td>0.6</td>\n",
              "      <td>0.6</td>\n",
              "      <td>1.1</td>\n",
              "      <td>2.2</td>\n",
              "      <td>7.9</td>\n",
              "    </tr>\n",
              "    <tr>\n",
              "      <th>1</th>\n",
              "      <td>2</td>\n",
              "      <td>Steven Adams</td>\n",
              "      <td>C</td>\n",
              "      <td>28</td>\n",
              "      <td>MEM</td>\n",
              "      <td>44</td>\n",
              "      <td>43</td>\n",
              "      <td>25.7</td>\n",
              "      <td>2.6</td>\n",
              "      <td>4.9</td>\n",
              "      <td>0.521</td>\n",
              "      <td>0.0</td>\n",
              "      <td>0.0</td>\n",
              "      <td>0.000</td>\n",
              "      <td>2.6</td>\n",
              "      <td>4.9</td>\n",
              "      <td>0.521</td>\n",
              "      <td>0.521</td>\n",
              "      <td>1.6</td>\n",
              "      <td>2.8</td>\n",
              "      <td>0.566</td>\n",
              "      <td>4.3</td>\n",
              "      <td>4.9</td>\n",
              "      <td>9.3</td>\n",
              "      <td>3.0</td>\n",
              "      <td>1.0</td>\n",
              "      <td>0.6</td>\n",
              "      <td>1.6</td>\n",
              "      <td>1.7</td>\n",
              "      <td>6.7</td>\n",
              "    </tr>\n",
              "    <tr>\n",
              "      <th>2</th>\n",
              "      <td>3</td>\n",
              "      <td>Bam Adebayo</td>\n",
              "      <td>C</td>\n",
              "      <td>24</td>\n",
              "      <td>MIA</td>\n",
              "      <td>21</td>\n",
              "      <td>21</td>\n",
              "      <td>32.9</td>\n",
              "      <td>6.9</td>\n",
              "      <td>13.3</td>\n",
              "      <td>0.518</td>\n",
              "      <td>0.0</td>\n",
              "      <td>0.0</td>\n",
              "      <td>0.000</td>\n",
              "      <td>6.9</td>\n",
              "      <td>13.3</td>\n",
              "      <td>0.520</td>\n",
              "      <td>0.518</td>\n",
              "      <td>4.9</td>\n",
              "      <td>6.3</td>\n",
              "      <td>0.767</td>\n",
              "      <td>2.6</td>\n",
              "      <td>7.3</td>\n",
              "      <td>10.0</td>\n",
              "      <td>3.2</td>\n",
              "      <td>1.2</td>\n",
              "      <td>0.5</td>\n",
              "      <td>2.9</td>\n",
              "      <td>3.1</td>\n",
              "      <td>18.7</td>\n",
              "    </tr>\n",
              "    <tr>\n",
              "      <th>3</th>\n",
              "      <td>4</td>\n",
              "      <td>Santi Aldama</td>\n",
              "      <td>PF</td>\n",
              "      <td>21</td>\n",
              "      <td>MEM</td>\n",
              "      <td>25</td>\n",
              "      <td>0</td>\n",
              "      <td>10.5</td>\n",
              "      <td>1.4</td>\n",
              "      <td>3.8</td>\n",
              "      <td>0.372</td>\n",
              "      <td>0.2</td>\n",
              "      <td>1.5</td>\n",
              "      <td>0.105</td>\n",
              "      <td>1.2</td>\n",
              "      <td>2.2</td>\n",
              "      <td>0.554</td>\n",
              "      <td>0.394</td>\n",
              "      <td>0.4</td>\n",
              "      <td>0.8</td>\n",
              "      <td>0.579</td>\n",
              "      <td>0.9</td>\n",
              "      <td>1.6</td>\n",
              "      <td>2.5</td>\n",
              "      <td>0.5</td>\n",
              "      <td>0.1</td>\n",
              "      <td>0.2</td>\n",
              "      <td>0.3</td>\n",
              "      <td>0.9</td>\n",
              "      <td>3.4</td>\n",
              "    </tr>\n",
              "    <tr>\n",
              "      <th>4</th>\n",
              "      <td>5</td>\n",
              "      <td>LaMarcus Aldridge</td>\n",
              "      <td>C</td>\n",
              "      <td>36</td>\n",
              "      <td>BRK</td>\n",
              "      <td>32</td>\n",
              "      <td>10</td>\n",
              "      <td>23.1</td>\n",
              "      <td>5.9</td>\n",
              "      <td>10.3</td>\n",
              "      <td>0.574</td>\n",
              "      <td>0.4</td>\n",
              "      <td>1.1</td>\n",
              "      <td>0.333</td>\n",
              "      <td>5.6</td>\n",
              "      <td>9.2</td>\n",
              "      <td>0.603</td>\n",
              "      <td>0.592</td>\n",
              "      <td>1.6</td>\n",
              "      <td>1.8</td>\n",
              "      <td>0.862</td>\n",
              "      <td>1.5</td>\n",
              "      <td>4.1</td>\n",
              "      <td>5.7</td>\n",
              "      <td>0.9</td>\n",
              "      <td>0.4</td>\n",
              "      <td>1.1</td>\n",
              "      <td>0.8</td>\n",
              "      <td>1.7</td>\n",
              "      <td>13.8</td>\n",
              "    </tr>\n",
              "  </tbody>\n",
              "</table>\n",
              "</div>\n",
              "      <button class=\"colab-df-convert\" onclick=\"convertToInteractive('df-da9941a3-08f0-4e98-ba74-f8a1cafed167')\"\n",
              "              title=\"Convert this dataframe to an interactive table.\"\n",
              "              style=\"display:none;\">\n",
              "        \n",
              "  <svg xmlns=\"http://www.w3.org/2000/svg\" height=\"24px\"viewBox=\"0 0 24 24\"\n",
              "       width=\"24px\">\n",
              "    <path d=\"M0 0h24v24H0V0z\" fill=\"none\"/>\n",
              "    <path d=\"M18.56 5.44l.94 2.06.94-2.06 2.06-.94-2.06-.94-.94-2.06-.94 2.06-2.06.94zm-11 1L8.5 8.5l.94-2.06 2.06-.94-2.06-.94L8.5 2.5l-.94 2.06-2.06.94zm10 10l.94 2.06.94-2.06 2.06-.94-2.06-.94-.94-2.06-.94 2.06-2.06.94z\"/><path d=\"M17.41 7.96l-1.37-1.37c-.4-.4-.92-.59-1.43-.59-.52 0-1.04.2-1.43.59L10.3 9.45l-7.72 7.72c-.78.78-.78 2.05 0 2.83L4 21.41c.39.39.9.59 1.41.59.51 0 1.02-.2 1.41-.59l7.78-7.78 2.81-2.81c.8-.78.8-2.07 0-2.86zM5.41 20L4 18.59l7.72-7.72 1.47 1.35L5.41 20z\"/>\n",
              "  </svg>\n",
              "      </button>\n",
              "      \n",
              "  <style>\n",
              "    .colab-df-container {\n",
              "      display:flex;\n",
              "      flex-wrap:wrap;\n",
              "      gap: 12px;\n",
              "    }\n",
              "\n",
              "    .colab-df-convert {\n",
              "      background-color: #E8F0FE;\n",
              "      border: none;\n",
              "      border-radius: 50%;\n",
              "      cursor: pointer;\n",
              "      display: none;\n",
              "      fill: #1967D2;\n",
              "      height: 32px;\n",
              "      padding: 0 0 0 0;\n",
              "      width: 32px;\n",
              "    }\n",
              "\n",
              "    .colab-df-convert:hover {\n",
              "      background-color: #E2EBFA;\n",
              "      box-shadow: 0px 1px 2px rgba(60, 64, 67, 0.3), 0px 1px 3px 1px rgba(60, 64, 67, 0.15);\n",
              "      fill: #174EA6;\n",
              "    }\n",
              "\n",
              "    [theme=dark] .colab-df-convert {\n",
              "      background-color: #3B4455;\n",
              "      fill: #D2E3FC;\n",
              "    }\n",
              "\n",
              "    [theme=dark] .colab-df-convert:hover {\n",
              "      background-color: #434B5C;\n",
              "      box-shadow: 0px 1px 3px 1px rgba(0, 0, 0, 0.15);\n",
              "      filter: drop-shadow(0px 1px 2px rgba(0, 0, 0, 0.3));\n",
              "      fill: #FFFFFF;\n",
              "    }\n",
              "  </style>\n",
              "\n",
              "      <script>\n",
              "        const buttonEl =\n",
              "          document.querySelector('#df-da9941a3-08f0-4e98-ba74-f8a1cafed167 button.colab-df-convert');\n",
              "        buttonEl.style.display =\n",
              "          google.colab.kernel.accessAllowed ? 'block' : 'none';\n",
              "\n",
              "        async function convertToInteractive(key) {\n",
              "          const element = document.querySelector('#df-da9941a3-08f0-4e98-ba74-f8a1cafed167');\n",
              "          const dataTable =\n",
              "            await google.colab.kernel.invokeFunction('convertToInteractive',\n",
              "                                                     [key], {});\n",
              "          if (!dataTable) return;\n",
              "\n",
              "          const docLinkHtml = 'Like what you see? Visit the ' +\n",
              "            '<a target=\"_blank\" href=https://colab.research.google.com/notebooks/data_table.ipynb>data table notebook</a>'\n",
              "            + ' to learn more about interactive tables.';\n",
              "          element.innerHTML = '';\n",
              "          dataTable['output_type'] = 'display_data';\n",
              "          await google.colab.output.renderOutput(dataTable, element);\n",
              "          const docLink = document.createElement('div');\n",
              "          docLink.innerHTML = docLinkHtml;\n",
              "          element.appendChild(docLink);\n",
              "        }\n",
              "      </script>\n",
              "    </div>\n",
              "  </div>\n",
              "  "
            ],
            "text/plain": [
              "   Rk             Player Pos  Age   Tm   G  ...  AST  STL  BLK  TOV   PF   PTS\n",
              "0   1   Precious Achiuwa   C   22  TOR  34  ...  1.3  0.6  0.6  1.1  2.2   7.9\n",
              "1   2       Steven Adams   C   28  MEM  44  ...  3.0  1.0  0.6  1.6  1.7   6.7\n",
              "2   3        Bam Adebayo   C   24  MIA  21  ...  3.2  1.2  0.5  2.9  3.1  18.7\n",
              "3   4       Santi Aldama  PF   21  MEM  25  ...  0.5  0.1  0.2  0.3  0.9   3.4\n",
              "4   5  LaMarcus Aldridge   C   36  BRK  32  ...  0.9  0.4  1.1  0.8  1.7  13.8\n",
              "\n",
              "[5 rows x 30 columns]"
            ]
          },
          "metadata": {},
          "execution_count": 3
        }
      ]
    },
    {
      "cell_type": "markdown",
      "source": [
        "### Pre-processamento"
      ],
      "metadata": {
        "id": "QbZ4fqifENua"
      }
    },
    {
      "cell_type": "code",
      "source": [
        "df.dtypes"
      ],
      "metadata": {
        "colab": {
          "base_uri": "https://localhost:8080/"
        },
        "id": "sOVulMz3DOpO",
        "outputId": "5264b1aa-ff9e-47f1-cb7b-29458c39a29a"
      },
      "execution_count": null,
      "outputs": [
        {
          "output_type": "execute_result",
          "data": {
            "text/plain": [
              "Rk          int64\n",
              "Player     object\n",
              "Pos        object\n",
              "Age         int64\n",
              "Tm         object\n",
              "G           int64\n",
              "GS          int64\n",
              "MP        float64\n",
              "FG        float64\n",
              "FGA       float64\n",
              "FG%       float64\n",
              "3P        float64\n",
              "3PA       float64\n",
              "3P%       float64\n",
              "2P        float64\n",
              "2PA       float64\n",
              "2P%       float64\n",
              "eFG%      float64\n",
              "FT        float64\n",
              "FTA       float64\n",
              "FT%       float64\n",
              "ORB       float64\n",
              "DRB       float64\n",
              "TRB       float64\n",
              "AST       float64\n",
              "STL       float64\n",
              "BLK       float64\n",
              "TOV       float64\n",
              "PF        float64\n",
              "PTS       float64\n",
              "dtype: object"
            ]
          },
          "metadata": {},
          "execution_count": 4
        }
      ]
    },
    {
      "cell_type": "code",
      "source": [
        "df.Pos.unique()"
      ],
      "metadata": {
        "id": "lOPziMnjEUkE",
        "colab": {
          "base_uri": "https://localhost:8080/"
        },
        "outputId": "6b636817-0dfa-49a2-a91b-049b317e71bc"
      },
      "execution_count": null,
      "outputs": [
        {
          "output_type": "execute_result",
          "data": {
            "text/plain": [
              "array(['C', 'PF', 'SG', 'PG', 'SF'], dtype=object)"
            ]
          },
          "metadata": {},
          "execution_count": 8
        }
      ]
    },
    {
      "cell_type": "code",
      "source": [
        "# converte as informações da coluna Pos em uma variavel númerica\n",
        "df = pd.get_dummies(df, columns=['Pos'])\n",
        "\n",
        "# remove colunas RK, Player, Tm\n",
        "df = df.drop(columns=['Rk', 'Player', 'Tm'])\n",
        "df"
      ],
      "metadata": {
        "colab": {
          "base_uri": "https://localhost:8080/",
          "height": 424
        },
        "id": "-0YkqHOS8rDv",
        "outputId": "188682a1-a121-4c64-a66f-b375f57ea008"
      },
      "execution_count": null,
      "outputs": [
        {
          "output_type": "execute_result",
          "data": {
            "text/html": [
              "\n",
              "  <div id=\"df-50903c2d-6dc6-41eb-a9ed-7fb78d8c4b00\">\n",
              "    <div class=\"colab-df-container\">\n",
              "      <div>\n",
              "<style scoped>\n",
              "    .dataframe tbody tr th:only-of-type {\n",
              "        vertical-align: middle;\n",
              "    }\n",
              "\n",
              "    .dataframe tbody tr th {\n",
              "        vertical-align: top;\n",
              "    }\n",
              "\n",
              "    .dataframe thead th {\n",
              "        text-align: right;\n",
              "    }\n",
              "</style>\n",
              "<table border=\"1\" class=\"dataframe\">\n",
              "  <thead>\n",
              "    <tr style=\"text-align: right;\">\n",
              "      <th></th>\n",
              "      <th>Age</th>\n",
              "      <th>G</th>\n",
              "      <th>GS</th>\n",
              "      <th>MP</th>\n",
              "      <th>FG</th>\n",
              "      <th>FGA</th>\n",
              "      <th>FG%</th>\n",
              "      <th>3P</th>\n",
              "      <th>3PA</th>\n",
              "      <th>3P%</th>\n",
              "      <th>2P</th>\n",
              "      <th>2PA</th>\n",
              "      <th>2P%</th>\n",
              "      <th>eFG%</th>\n",
              "      <th>FT</th>\n",
              "      <th>FTA</th>\n",
              "      <th>FT%</th>\n",
              "      <th>ORB</th>\n",
              "      <th>DRB</th>\n",
              "      <th>TRB</th>\n",
              "      <th>AST</th>\n",
              "      <th>STL</th>\n",
              "      <th>BLK</th>\n",
              "      <th>TOV</th>\n",
              "      <th>PF</th>\n",
              "      <th>PTS</th>\n",
              "      <th>Pos_C</th>\n",
              "      <th>Pos_PF</th>\n",
              "      <th>Pos_PG</th>\n",
              "      <th>Pos_SF</th>\n",
              "      <th>Pos_SG</th>\n",
              "    </tr>\n",
              "  </thead>\n",
              "  <tbody>\n",
              "    <tr>\n",
              "      <th>0</th>\n",
              "      <td>22</td>\n",
              "      <td>34</td>\n",
              "      <td>20</td>\n",
              "      <td>25.3</td>\n",
              "      <td>3.4</td>\n",
              "      <td>8.1</td>\n",
              "      <td>0.412</td>\n",
              "      <td>0.3</td>\n",
              "      <td>1.3</td>\n",
              "      <td>0.233</td>\n",
              "      <td>3.1</td>\n",
              "      <td>6.9</td>\n",
              "      <td>0.444</td>\n",
              "      <td>0.430</td>\n",
              "      <td>0.9</td>\n",
              "      <td>1.6</td>\n",
              "      <td>0.574</td>\n",
              "      <td>2.4</td>\n",
              "      <td>5.3</td>\n",
              "      <td>7.7</td>\n",
              "      <td>1.3</td>\n",
              "      <td>0.6</td>\n",
              "      <td>0.6</td>\n",
              "      <td>1.1</td>\n",
              "      <td>2.2</td>\n",
              "      <td>7.9</td>\n",
              "      <td>1</td>\n",
              "      <td>0</td>\n",
              "      <td>0</td>\n",
              "      <td>0</td>\n",
              "      <td>0</td>\n",
              "    </tr>\n",
              "    <tr>\n",
              "      <th>1</th>\n",
              "      <td>28</td>\n",
              "      <td>44</td>\n",
              "      <td>43</td>\n",
              "      <td>25.7</td>\n",
              "      <td>2.6</td>\n",
              "      <td>4.9</td>\n",
              "      <td>0.521</td>\n",
              "      <td>0.0</td>\n",
              "      <td>0.0</td>\n",
              "      <td>0.000</td>\n",
              "      <td>2.6</td>\n",
              "      <td>4.9</td>\n",
              "      <td>0.521</td>\n",
              "      <td>0.521</td>\n",
              "      <td>1.6</td>\n",
              "      <td>2.8</td>\n",
              "      <td>0.566</td>\n",
              "      <td>4.3</td>\n",
              "      <td>4.9</td>\n",
              "      <td>9.3</td>\n",
              "      <td>3.0</td>\n",
              "      <td>1.0</td>\n",
              "      <td>0.6</td>\n",
              "      <td>1.6</td>\n",
              "      <td>1.7</td>\n",
              "      <td>6.7</td>\n",
              "      <td>1</td>\n",
              "      <td>0</td>\n",
              "      <td>0</td>\n",
              "      <td>0</td>\n",
              "      <td>0</td>\n",
              "    </tr>\n",
              "    <tr>\n",
              "      <th>2</th>\n",
              "      <td>24</td>\n",
              "      <td>21</td>\n",
              "      <td>21</td>\n",
              "      <td>32.9</td>\n",
              "      <td>6.9</td>\n",
              "      <td>13.3</td>\n",
              "      <td>0.518</td>\n",
              "      <td>0.0</td>\n",
              "      <td>0.0</td>\n",
              "      <td>0.000</td>\n",
              "      <td>6.9</td>\n",
              "      <td>13.3</td>\n",
              "      <td>0.520</td>\n",
              "      <td>0.518</td>\n",
              "      <td>4.9</td>\n",
              "      <td>6.3</td>\n",
              "      <td>0.767</td>\n",
              "      <td>2.6</td>\n",
              "      <td>7.3</td>\n",
              "      <td>10.0</td>\n",
              "      <td>3.2</td>\n",
              "      <td>1.2</td>\n",
              "      <td>0.5</td>\n",
              "      <td>2.9</td>\n",
              "      <td>3.1</td>\n",
              "      <td>18.7</td>\n",
              "      <td>1</td>\n",
              "      <td>0</td>\n",
              "      <td>0</td>\n",
              "      <td>0</td>\n",
              "      <td>0</td>\n",
              "    </tr>\n",
              "    <tr>\n",
              "      <th>3</th>\n",
              "      <td>21</td>\n",
              "      <td>25</td>\n",
              "      <td>0</td>\n",
              "      <td>10.5</td>\n",
              "      <td>1.4</td>\n",
              "      <td>3.8</td>\n",
              "      <td>0.372</td>\n",
              "      <td>0.2</td>\n",
              "      <td>1.5</td>\n",
              "      <td>0.105</td>\n",
              "      <td>1.2</td>\n",
              "      <td>2.2</td>\n",
              "      <td>0.554</td>\n",
              "      <td>0.394</td>\n",
              "      <td>0.4</td>\n",
              "      <td>0.8</td>\n",
              "      <td>0.579</td>\n",
              "      <td>0.9</td>\n",
              "      <td>1.6</td>\n",
              "      <td>2.5</td>\n",
              "      <td>0.5</td>\n",
              "      <td>0.1</td>\n",
              "      <td>0.2</td>\n",
              "      <td>0.3</td>\n",
              "      <td>0.9</td>\n",
              "      <td>3.4</td>\n",
              "      <td>0</td>\n",
              "      <td>1</td>\n",
              "      <td>0</td>\n",
              "      <td>0</td>\n",
              "      <td>0</td>\n",
              "    </tr>\n",
              "    <tr>\n",
              "      <th>4</th>\n",
              "      <td>36</td>\n",
              "      <td>32</td>\n",
              "      <td>10</td>\n",
              "      <td>23.1</td>\n",
              "      <td>5.9</td>\n",
              "      <td>10.3</td>\n",
              "      <td>0.574</td>\n",
              "      <td>0.4</td>\n",
              "      <td>1.1</td>\n",
              "      <td>0.333</td>\n",
              "      <td>5.6</td>\n",
              "      <td>9.2</td>\n",
              "      <td>0.603</td>\n",
              "      <td>0.592</td>\n",
              "      <td>1.6</td>\n",
              "      <td>1.8</td>\n",
              "      <td>0.862</td>\n",
              "      <td>1.5</td>\n",
              "      <td>4.1</td>\n",
              "      <td>5.7</td>\n",
              "      <td>0.9</td>\n",
              "      <td>0.4</td>\n",
              "      <td>1.1</td>\n",
              "      <td>0.8</td>\n",
              "      <td>1.7</td>\n",
              "      <td>13.8</td>\n",
              "      <td>1</td>\n",
              "      <td>0</td>\n",
              "      <td>0</td>\n",
              "      <td>0</td>\n",
              "      <td>0</td>\n",
              "    </tr>\n",
              "    <tr>\n",
              "      <th>...</th>\n",
              "      <td>...</td>\n",
              "      <td>...</td>\n",
              "      <td>...</td>\n",
              "      <td>...</td>\n",
              "      <td>...</td>\n",
              "      <td>...</td>\n",
              "      <td>...</td>\n",
              "      <td>...</td>\n",
              "      <td>...</td>\n",
              "      <td>...</td>\n",
              "      <td>...</td>\n",
              "      <td>...</td>\n",
              "      <td>...</td>\n",
              "      <td>...</td>\n",
              "      <td>...</td>\n",
              "      <td>...</td>\n",
              "      <td>...</td>\n",
              "      <td>...</td>\n",
              "      <td>...</td>\n",
              "      <td>...</td>\n",
              "      <td>...</td>\n",
              "      <td>...</td>\n",
              "      <td>...</td>\n",
              "      <td>...</td>\n",
              "      <td>...</td>\n",
              "      <td>...</td>\n",
              "      <td>...</td>\n",
              "      <td>...</td>\n",
              "      <td>...</td>\n",
              "      <td>...</td>\n",
              "      <td>...</td>\n",
              "    </tr>\n",
              "    <tr>\n",
              "      <th>585</th>\n",
              "      <td>33</td>\n",
              "      <td>24</td>\n",
              "      <td>0</td>\n",
              "      <td>13.9</td>\n",
              "      <td>2.7</td>\n",
              "      <td>4.8</td>\n",
              "      <td>0.560</td>\n",
              "      <td>0.0</td>\n",
              "      <td>0.1</td>\n",
              "      <td>0.000</td>\n",
              "      <td>2.7</td>\n",
              "      <td>4.7</td>\n",
              "      <td>0.575</td>\n",
              "      <td>0.560</td>\n",
              "      <td>0.4</td>\n",
              "      <td>0.8</td>\n",
              "      <td>0.450</td>\n",
              "      <td>1.4</td>\n",
              "      <td>2.0</td>\n",
              "      <td>3.4</td>\n",
              "      <td>2.3</td>\n",
              "      <td>0.8</td>\n",
              "      <td>0.3</td>\n",
              "      <td>1.1</td>\n",
              "      <td>1.4</td>\n",
              "      <td>5.8</td>\n",
              "      <td>0</td>\n",
              "      <td>1</td>\n",
              "      <td>0</td>\n",
              "      <td>0</td>\n",
              "      <td>0</td>\n",
              "    </tr>\n",
              "    <tr>\n",
              "      <th>586</th>\n",
              "      <td>23</td>\n",
              "      <td>41</td>\n",
              "      <td>41</td>\n",
              "      <td>34.8</td>\n",
              "      <td>9.3</td>\n",
              "      <td>20.5</td>\n",
              "      <td>0.455</td>\n",
              "      <td>2.8</td>\n",
              "      <td>7.5</td>\n",
              "      <td>0.372</td>\n",
              "      <td>6.5</td>\n",
              "      <td>13.0</td>\n",
              "      <td>0.503</td>\n",
              "      <td>0.523</td>\n",
              "      <td>6.5</td>\n",
              "      <td>7.2</td>\n",
              "      <td>0.901</td>\n",
              "      <td>0.7</td>\n",
              "      <td>3.3</td>\n",
              "      <td>4.0</td>\n",
              "      <td>9.4</td>\n",
              "      <td>1.0</td>\n",
              "      <td>0.1</td>\n",
              "      <td>4.2</td>\n",
              "      <td>1.6</td>\n",
              "      <td>27.9</td>\n",
              "      <td>0</td>\n",
              "      <td>0</td>\n",
              "      <td>1</td>\n",
              "      <td>0</td>\n",
              "      <td>0</td>\n",
              "    </tr>\n",
              "    <tr>\n",
              "      <th>587</th>\n",
              "      <td>23</td>\n",
              "      <td>36</td>\n",
              "      <td>10</td>\n",
              "      <td>15.1</td>\n",
              "      <td>2.7</td>\n",
              "      <td>5.2</td>\n",
              "      <td>0.521</td>\n",
              "      <td>0.0</td>\n",
              "      <td>0.2</td>\n",
              "      <td>0.143</td>\n",
              "      <td>2.7</td>\n",
              "      <td>5.0</td>\n",
              "      <td>0.536</td>\n",
              "      <td>0.524</td>\n",
              "      <td>0.9</td>\n",
              "      <td>1.4</td>\n",
              "      <td>0.640</td>\n",
              "      <td>1.8</td>\n",
              "      <td>4.6</td>\n",
              "      <td>6.4</td>\n",
              "      <td>1.1</td>\n",
              "      <td>0.4</td>\n",
              "      <td>0.5</td>\n",
              "      <td>0.9</td>\n",
              "      <td>1.8</td>\n",
              "      <td>6.4</td>\n",
              "      <td>1</td>\n",
              "      <td>0</td>\n",
              "      <td>0</td>\n",
              "      <td>0</td>\n",
              "      <td>0</td>\n",
              "    </tr>\n",
              "    <tr>\n",
              "      <th>588</th>\n",
              "      <td>29</td>\n",
              "      <td>27</td>\n",
              "      <td>0</td>\n",
              "      <td>13.1</td>\n",
              "      <td>1.9</td>\n",
              "      <td>3.3</td>\n",
              "      <td>0.567</td>\n",
              "      <td>0.0</td>\n",
              "      <td>0.1</td>\n",
              "      <td>0.000</td>\n",
              "      <td>1.9</td>\n",
              "      <td>3.2</td>\n",
              "      <td>0.593</td>\n",
              "      <td>0.567</td>\n",
              "      <td>1.4</td>\n",
              "      <td>1.8</td>\n",
              "      <td>0.776</td>\n",
              "      <td>1.9</td>\n",
              "      <td>2.8</td>\n",
              "      <td>4.6</td>\n",
              "      <td>0.8</td>\n",
              "      <td>0.3</td>\n",
              "      <td>0.2</td>\n",
              "      <td>0.7</td>\n",
              "      <td>2.1</td>\n",
              "      <td>5.2</td>\n",
              "      <td>1</td>\n",
              "      <td>0</td>\n",
              "      <td>0</td>\n",
              "      <td>0</td>\n",
              "      <td>0</td>\n",
              "    </tr>\n",
              "    <tr>\n",
              "      <th>589</th>\n",
              "      <td>24</td>\n",
              "      <td>43</td>\n",
              "      <td>43</td>\n",
              "      <td>24.6</td>\n",
              "      <td>3.8</td>\n",
              "      <td>5.7</td>\n",
              "      <td>0.675</td>\n",
              "      <td>0.0</td>\n",
              "      <td>0.0</td>\n",
              "      <td>0.000</td>\n",
              "      <td>3.8</td>\n",
              "      <td>5.7</td>\n",
              "      <td>0.675</td>\n",
              "      <td>0.675</td>\n",
              "      <td>2.1</td>\n",
              "      <td>2.8</td>\n",
              "      <td>0.754</td>\n",
              "      <td>2.8</td>\n",
              "      <td>5.3</td>\n",
              "      <td>8.1</td>\n",
              "      <td>1.2</td>\n",
              "      <td>0.5</td>\n",
              "      <td>1.0</td>\n",
              "      <td>1.3</td>\n",
              "      <td>2.5</td>\n",
              "      <td>9.8</td>\n",
              "      <td>1</td>\n",
              "      <td>0</td>\n",
              "      <td>0</td>\n",
              "      <td>0</td>\n",
              "      <td>0</td>\n",
              "    </tr>\n",
              "  </tbody>\n",
              "</table>\n",
              "<p>590 rows × 31 columns</p>\n",
              "</div>\n",
              "      <button class=\"colab-df-convert\" onclick=\"convertToInteractive('df-50903c2d-6dc6-41eb-a9ed-7fb78d8c4b00')\"\n",
              "              title=\"Convert this dataframe to an interactive table.\"\n",
              "              style=\"display:none;\">\n",
              "        \n",
              "  <svg xmlns=\"http://www.w3.org/2000/svg\" height=\"24px\"viewBox=\"0 0 24 24\"\n",
              "       width=\"24px\">\n",
              "    <path d=\"M0 0h24v24H0V0z\" fill=\"none\"/>\n",
              "    <path d=\"M18.56 5.44l.94 2.06.94-2.06 2.06-.94-2.06-.94-.94-2.06-.94 2.06-2.06.94zm-11 1L8.5 8.5l.94-2.06 2.06-.94-2.06-.94L8.5 2.5l-.94 2.06-2.06.94zm10 10l.94 2.06.94-2.06 2.06-.94-2.06-.94-.94-2.06-.94 2.06-2.06.94z\"/><path d=\"M17.41 7.96l-1.37-1.37c-.4-.4-.92-.59-1.43-.59-.52 0-1.04.2-1.43.59L10.3 9.45l-7.72 7.72c-.78.78-.78 2.05 0 2.83L4 21.41c.39.39.9.59 1.41.59.51 0 1.02-.2 1.41-.59l7.78-7.78 2.81-2.81c.8-.78.8-2.07 0-2.86zM5.41 20L4 18.59l7.72-7.72 1.47 1.35L5.41 20z\"/>\n",
              "  </svg>\n",
              "      </button>\n",
              "      \n",
              "  <style>\n",
              "    .colab-df-container {\n",
              "      display:flex;\n",
              "      flex-wrap:wrap;\n",
              "      gap: 12px;\n",
              "    }\n",
              "\n",
              "    .colab-df-convert {\n",
              "      background-color: #E8F0FE;\n",
              "      border: none;\n",
              "      border-radius: 50%;\n",
              "      cursor: pointer;\n",
              "      display: none;\n",
              "      fill: #1967D2;\n",
              "      height: 32px;\n",
              "      padding: 0 0 0 0;\n",
              "      width: 32px;\n",
              "    }\n",
              "\n",
              "    .colab-df-convert:hover {\n",
              "      background-color: #E2EBFA;\n",
              "      box-shadow: 0px 1px 2px rgba(60, 64, 67, 0.3), 0px 1px 3px 1px rgba(60, 64, 67, 0.15);\n",
              "      fill: #174EA6;\n",
              "    }\n",
              "\n",
              "    [theme=dark] .colab-df-convert {\n",
              "      background-color: #3B4455;\n",
              "      fill: #D2E3FC;\n",
              "    }\n",
              "\n",
              "    [theme=dark] .colab-df-convert:hover {\n",
              "      background-color: #434B5C;\n",
              "      box-shadow: 0px 1px 3px 1px rgba(0, 0, 0, 0.15);\n",
              "      filter: drop-shadow(0px 1px 2px rgba(0, 0, 0, 0.3));\n",
              "      fill: #FFFFFF;\n",
              "    }\n",
              "  </style>\n",
              "\n",
              "      <script>\n",
              "        const buttonEl =\n",
              "          document.querySelector('#df-50903c2d-6dc6-41eb-a9ed-7fb78d8c4b00 button.colab-df-convert');\n",
              "        buttonEl.style.display =\n",
              "          google.colab.kernel.accessAllowed ? 'block' : 'none';\n",
              "\n",
              "        async function convertToInteractive(key) {\n",
              "          const element = document.querySelector('#df-50903c2d-6dc6-41eb-a9ed-7fb78d8c4b00');\n",
              "          const dataTable =\n",
              "            await google.colab.kernel.invokeFunction('convertToInteractive',\n",
              "                                                     [key], {});\n",
              "          if (!dataTable) return;\n",
              "\n",
              "          const docLinkHtml = 'Like what you see? Visit the ' +\n",
              "            '<a target=\"_blank\" href=https://colab.research.google.com/notebooks/data_table.ipynb>data table notebook</a>'\n",
              "            + ' to learn more about interactive tables.';\n",
              "          element.innerHTML = '';\n",
              "          dataTable['output_type'] = 'display_data';\n",
              "          await google.colab.output.renderOutput(dataTable, element);\n",
              "          const docLink = document.createElement('div');\n",
              "          docLink.innerHTML = docLinkHtml;\n",
              "          element.appendChild(docLink);\n",
              "        }\n",
              "      </script>\n",
              "    </div>\n",
              "  </div>\n",
              "  "
            ],
            "text/plain": [
              "     Age   G  GS    MP   FG   FGA  ...   PTS  Pos_C  Pos_PF  Pos_PG  Pos_SF  Pos_SG\n",
              "0     22  34  20  25.3  3.4   8.1  ...   7.9      1       0       0       0       0\n",
              "1     28  44  43  25.7  2.6   4.9  ...   6.7      1       0       0       0       0\n",
              "2     24  21  21  32.9  6.9  13.3  ...  18.7      1       0       0       0       0\n",
              "3     21  25   0  10.5  1.4   3.8  ...   3.4      0       1       0       0       0\n",
              "4     36  32  10  23.1  5.9  10.3  ...  13.8      1       0       0       0       0\n",
              "..   ...  ..  ..   ...  ...   ...  ...   ...    ...     ...     ...     ...     ...\n",
              "585   33  24   0  13.9  2.7   4.8  ...   5.8      0       1       0       0       0\n",
              "586   23  41  41  34.8  9.3  20.5  ...  27.9      0       0       1       0       0\n",
              "587   23  36  10  15.1  2.7   5.2  ...   6.4      1       0       0       0       0\n",
              "588   29  27   0  13.1  1.9   3.3  ...   5.2      1       0       0       0       0\n",
              "589   24  43  43  24.6  3.8   5.7  ...   9.8      1       0       0       0       0\n",
              "\n",
              "[590 rows x 31 columns]"
            ]
          },
          "metadata": {},
          "execution_count": 11
        }
      ]
    },
    {
      "cell_type": "code",
      "source": [
        "def get_PTS(val):\n",
        "  if val <= 5:\n",
        "    return 5\n",
        "  elif val <= 10:\n",
        "    return 10\n",
        "  elif val <= 15:\n",
        "    return 15\n",
        "  elif val <= 20:\n",
        "    return 20\n",
        "  elif val <= 25:\n",
        "    return 25\n",
        "  else:\n",
        "    return 30"
      ],
      "metadata": {
        "id": "eB-c-kBX9ehI"
      },
      "execution_count": null,
      "outputs": []
    },
    {
      "cell_type": "code",
      "source": [
        "# defino y como valores da coluna PTS, usando o intervalo da função acima para ficar mais simples\n",
        "y = df['PTS'].apply(get_PTS)"
      ],
      "metadata": {
        "id": "rLyL89HE-p5p"
      },
      "execution_count": null,
      "outputs": []
    },
    {
      "cell_type": "code",
      "source": [
        "# definindo x\n",
        "X = df.drop(columns=['PTS'])"
      ],
      "metadata": {
        "id": "Qq0-FaR4_b8R"
      },
      "execution_count": null,
      "outputs": []
    },
    {
      "cell_type": "code",
      "source": [
        "print(\"Dataframe\",df.shape)\n",
        "print(\"Atributos\",X.shape)\n",
        "print(\"Classe\",y.shape)"
      ],
      "metadata": {
        "colab": {
          "base_uri": "https://localhost:8080/"
        },
        "id": "5lDWtn8t_pSt",
        "outputId": "db9f2eaa-8def-4295-f144-f4004c599496"
      },
      "execution_count": null,
      "outputs": [
        {
          "output_type": "stream",
          "name": "stdout",
          "text": [
            "Dataframe (590, 31)\n",
            "Atributos (590, 30)\n",
            "Classe (590,)\n"
          ]
        }
      ]
    },
    {
      "cell_type": "code",
      "source": [
        "# divisão treino e teste\n",
        "\n",
        "from sklearn.model_selection import train_test_split \n",
        "\n",
        "X_train, X_test, y_train, y_test = train_test_split(X,y,test_size=0.20,random_state=22,stratify=y)\n",
        "print(\"X_train\",X_train.shape)\n",
        "print(\"X_test\",X_test.shape)\n",
        "print(\"y_train\",y_train.shape)\n",
        "print(\"y_test\",y_test.shape)"
      ],
      "metadata": {
        "colab": {
          "base_uri": "https://localhost:8080/"
        },
        "id": "reUCAn3r_5tH",
        "outputId": "fec84148-3a2f-4fa9-d5f6-4a07d7679620"
      },
      "execution_count": null,
      "outputs": [
        {
          "output_type": "stream",
          "name": "stdout",
          "text": [
            "X_train (472, 30)\n",
            "X_test (118, 30)\n",
            "y_train (472,)\n",
            "y_test (118,)\n"
          ]
        }
      ]
    },
    {
      "cell_type": "markdown",
      "source": [
        "## KNN"
      ],
      "metadata": {
        "id": "6NInjAS2ALPc"
      }
    },
    {
      "cell_type": "code",
      "source": [
        "import matplotlib.pyplot as plt\n",
        "from sklearn.neighbors import KNeighborsClassifier\n",
        "\n",
        "knn = KNeighborsClassifier(n_neighbors=3)\n",
        "knn.fit(X_train,y_train)"
      ],
      "metadata": {
        "colab": {
          "base_uri": "https://localhost:8080/"
        },
        "id": "BeOVG_zOAKl0",
        "outputId": "44ac83d4-5068-4bab-8e10-2699269c5bb7"
      },
      "execution_count": null,
      "outputs": [
        {
          "output_type": "execute_result",
          "data": {
            "text/plain": [
              "KNeighborsClassifier(n_neighbors=3)"
            ]
          },
          "metadata": {},
          "execution_count": 23
        }
      ]
    },
    {
      "cell_type": "code",
      "source": [
        "resultado = knn.predict(X_test)\n",
        "resultado"
      ],
      "metadata": {
        "colab": {
          "base_uri": "https://localhost:8080/"
        },
        "id": "m8jDK3UOAS21",
        "outputId": "ccb95bdc-12bd-4755-cfeb-6a3f59679ec4"
      },
      "execution_count": null,
      "outputs": [
        {
          "output_type": "execute_result",
          "data": {
            "text/plain": [
              "array([ 5,  5,  5, 10,  5, 10,  5, 10, 15,  5, 15, 10, 10,  5, 10, 10, 20,\n",
              "       10,  5,  5, 15,  5,  5,  5,  5,  5,  5, 10,  5, 10, 10,  5,  5,  5,\n",
              "       15, 15, 15, 10,  5, 10, 25,  5, 10, 25, 10,  5, 25, 10, 20,  5,  5,\n",
              "       10,  5, 15, 10, 10, 25, 10, 15, 10, 10, 10, 10,  5, 10,  5,  5, 10,\n",
              "       25, 10, 10, 10,  5, 10,  5, 15, 15, 10,  5, 10, 10, 10, 10,  5,  5,\n",
              "        5,  5,  5, 20,  5,  5,  5,  5, 10, 10, 15, 20,  5, 10, 25, 10, 15,\n",
              "       20,  5,  5, 15, 20,  5, 10,  5, 30, 10,  5,  5,  5, 10, 10,  5])"
            ]
          },
          "metadata": {},
          "execution_count": 24
        }
      ]
    },
    {
      "cell_type": "markdown",
      "source": [
        "### Avalição do KNN"
      ],
      "metadata": {
        "id": "vz-m0FlOAgUz"
      }
    },
    {
      "cell_type": "code",
      "source": [
        "#matriz de confusão\n",
        "print (pd.crosstab(y_test,resultado, rownames=['Real'], colnames=['Predito'], margins=True))"
      ],
      "metadata": {
        "colab": {
          "base_uri": "https://localhost:8080/"
        },
        "id": "lQ9uX3P8AZ3t",
        "outputId": "7c4087dc-0d6a-46a1-975b-bd3711562269"
      },
      "execution_count": null,
      "outputs": [
        {
          "output_type": "stream",
          "name": "stdout",
          "text": [
            "Predito   5  10  15  20  25  30  All\n",
            "Real                                \n",
            "5        46   2   0   0   0   0   48\n",
            "10        3  31   3   0   0   0   37\n",
            "15        0   9   7   1   0   0   17\n",
            "20        0   1   3   3   3   0   10\n",
            "25        0   0   0   2   2   0    4\n",
            "30        0   0   0   0   1   1    2\n",
            "All      49  43  13   6   6   1  118\n"
          ]
        }
      ]
    },
    {
      "cell_type": "code",
      "source": [
        "from sklearn import metrics\n",
        "print(metrics.classification_report(y_test,resultado))"
      ],
      "metadata": {
        "colab": {
          "base_uri": "https://localhost:8080/"
        },
        "id": "fn_nMgsqAjol",
        "outputId": "59a348f6-c264-4b0a-d4f7-195ca4f4c449"
      },
      "execution_count": null,
      "outputs": [
        {
          "output_type": "stream",
          "name": "stdout",
          "text": [
            "              precision    recall  f1-score   support\n",
            "\n",
            "           5       0.94      0.96      0.95        48\n",
            "          10       0.72      0.84      0.77        37\n",
            "          15       0.54      0.41      0.47        17\n",
            "          20       0.50      0.30      0.37        10\n",
            "          25       0.33      0.50      0.40         4\n",
            "          30       1.00      0.50      0.67         2\n",
            "\n",
            "    accuracy                           0.76       118\n",
            "   macro avg       0.67      0.58      0.61       118\n",
            "weighted avg       0.76      0.76      0.75       118\n",
            "\n"
          ]
        }
      ]
    },
    {
      "cell_type": "code",
      "source": [
        "#Otimizando o parâmetro k utilizando o GridSearch\n",
        "from sklearn.model_selection import GridSearchCV\n",
        "k_list = list(range(1,31))\n",
        "parametros = dict(n_neighbors=k_list)\n",
        "grid = GridSearchCV(knn, parametros, cv=5, scoring='accuracy')"
      ],
      "metadata": {
        "id": "c6STqVnMAwTn"
      },
      "execution_count": null,
      "outputs": []
    },
    {
      "cell_type": "code",
      "source": [
        "grid.fit(X_train,y_train)"
      ],
      "metadata": {
        "colab": {
          "base_uri": "https://localhost:8080/"
        },
        "id": "rcH3EX3RBCvL",
        "outputId": "c734fb2d-6cfa-4a4e-f9f5-86c48857f1d0"
      },
      "execution_count": null,
      "outputs": [
        {
          "output_type": "execute_result",
          "data": {
            "text/plain": [
              "GridSearchCV(cv=5, estimator=KNeighborsClassifier(n_neighbors=3),\n",
              "             param_grid={'n_neighbors': [1, 2, 3, 4, 5, 6, 7, 8, 9, 10, 11, 12,\n",
              "                                         13, 14, 15, 16, 17, 18, 19, 20, 21, 22,\n",
              "                                         23, 24, 25, 26, 27, 28, 29, 30]},\n",
              "             scoring='accuracy')"
            ]
          },
          "metadata": {},
          "execution_count": 28
        }
      ]
    },
    {
      "cell_type": "code",
      "source": [
        "print(\"Melhores parametros {} com o valor de acurácia {} \".format(grid.best_params_,grid.best_score_))"
      ],
      "metadata": {
        "colab": {
          "base_uri": "https://localhost:8080/"
        },
        "id": "6nyQYGqaBFBq",
        "outputId": "6db307f5-e456-46e2-e724-e920d2e86b0c"
      },
      "execution_count": null,
      "outputs": [
        {
          "output_type": "stream",
          "name": "stdout",
          "text": [
            "Melhores parametros {'n_neighbors': 1} com o valor de acurácia 0.7839193729003359 \n"
          ]
        }
      ]
    },
    {
      "cell_type": "code",
      "source": [
        "#gráfico da acurácia em relação ao número de vizinhos\n",
        "import matplotlib.pyplot as plt\n",
        "graphic = grid.cv_results_['mean_test_score']\n",
        "graphic\n",
        "\n",
        "plt.figure(figsize=(10,5))\n",
        "plt.plot(k_list,graphic,color='navy',linestyle='dashed',marker='o')\n",
        "plt.xlabel('K Number of Neighbors', fontdict={'fontsize': 15})\n",
        "plt.ylabel('Accuracy', fontdict={'fontsize': 15})\n",
        "plt.title('K NUMBER X ACCURACY', fontdict={'fontsize': 30})\n",
        "plt.xticks(range(0,31,3),)\n",
        "#plt.xaxis.set_major_locator(MultipleLocator(3))\n",
        "plt.show()"
      ],
      "metadata": {
        "colab": {
          "base_uri": "https://localhost:8080/",
          "height": 368
        },
        "id": "uhmcE3A0BHp6",
        "outputId": "63a13e1f-e6fd-4fa3-b2bf-124adf179597"
      },
      "execution_count": null,
      "outputs": [
        {
          "output_type": "display_data",
          "data": {
            "image/png": "[encoded data removed]",
            "text/plain": [
              "<Figure size 720x360 with 1 Axes>"
            ]
          },
          "metadata": {
            "needs_background": "light"
          }
        }
      ]
    },
    {
      "cell_type": "markdown",
      "source": [
        "## Árvore de decisão"
      ],
      "metadata": {
        "id": "MqfRYLJYBsio"
      }
    },
    {
      "cell_type": "code",
      "source": [
        "#importando um algoritmo de classificação: árvore de decisão\n",
        "from sklearn import tree\n",
        "from sklearn.tree import DecisionTreeClassifier,export_graphviz\n",
        "from sklearn.model_selection import train_test_split\n",
        "from sklearn import metrics\n",
        "import numpy as np"
      ],
      "metadata": {
        "id": "Br95RLuNBM-b"
      },
      "execution_count": null,
      "outputs": []
    },
    {
      "cell_type": "code",
      "source": [
        "#declarar tree como o algoritmo\n",
        "clf = tree.DecisionTreeClassifier()"
      ],
      "metadata": {
        "id": "96iO6iLXB1kM"
      },
      "execution_count": null,
      "outputs": []
    },
    {
      "cell_type": "code",
      "source": [
        "#treinar o algoritmo com a base de treinamento\n",
        "clf = clf.fit(X_train, y_train)"
      ],
      "metadata": {
        "id": "y74SsV25B5Kb"
      },
      "execution_count": null,
      "outputs": []
    },
    {
      "cell_type": "code",
      "source": [
        "#Features mais importantes\n",
        "for feature,importancia in zip(df.columns,clf.feature_importances_):\n",
        "    print(\"{}:{}\".format(feature, importancia))"
      ],
      "metadata": {
        "colab": {
          "base_uri": "https://localhost:8080/"
        },
        "id": "FabY5uSuB61T",
        "outputId": "d7d732f1-56c5-4a2d-d50e-a44363594663"
      },
      "execution_count": null,
      "outputs": [
        {
          "output_type": "stream",
          "name": "stdout",
          "text": [
            "Age:0.0\n",
            "G:0.0\n",
            "GS:0.012287893971947239\n",
            "MP:0.0\n",
            "FG:0.7819385918502673\n",
            "FGA:0.03278118957926908\n",
            "FG%:0.002967247123907714\n",
            "3P:0.023065003445981707\n",
            "3PA:0.03736168286662618\n",
            "3P%:0.005764937269306417\n",
            "2P:0.0\n",
            "2PA:0.0\n",
            "2P%:0.0\n",
            "eFG%:0.00964355315270007\n",
            "FT:0.010680851081376813\n",
            "FTA:0.005587733603531313\n",
            "FT%:0.040918670303351126\n",
            "ORB:0.007121393097378513\n",
            "DRB:0.0044508706858615715\n",
            "TRB:0.0\n",
            "AST:0.015391195865940618\n",
            "STL:0.005341044823033887\n",
            "BLK:0.0\n",
            "TOV:0.0\n",
            "PF:0.0\n",
            "PTS:0.0\n",
            "Pos_C:0.0\n",
            "Pos_PF:0.0\n",
            "Pos_PG:0.0\n",
            "Pos_SF:0.004698141279520547\n"
          ]
        }
      ]
    },
    {
      "cell_type": "code",
      "source": [
        "resultado = clf.predict(X_test)\n",
        "resultado"
      ],
      "metadata": {
        "colab": {
          "base_uri": "https://localhost:8080/"
        },
        "id": "jfUyr9uoB9ge",
        "outputId": "2a371f96-d37c-4f50-8fec-51ef49d4414d"
      },
      "execution_count": null,
      "outputs": [
        {
          "output_type": "execute_result",
          "data": {
            "text/plain": [
              "array([ 5,  5,  5, 10,  5, 15,  5, 15, 15,  5, 15, 10, 15,  5, 15, 10, 20,\n",
              "       15,  5, 10, 15,  5,  5,  5,  5,  5,  5, 10,  5, 15, 10,  5,  5,  5,\n",
              "       15, 15, 15, 15,  5, 15, 25,  5, 10, 20,  5,  5, 25, 10, 20,  5,  5,\n",
              "       10,  5, 20, 10, 10, 30, 10, 20, 10, 15, 10, 10,  5, 10,  5,  5, 10,\n",
              "       20, 10, 10, 10,  5, 10,  5, 15, 15, 10,  5, 10, 10, 10, 10,  5,  5,\n",
              "       10,  5,  5, 15,  5,  5,  5,  5, 15, 10, 20, 20, 10, 15, 20, 10, 10,\n",
              "       25,  5,  5, 15, 20,  5, 20,  5, 25, 15,  5,  5,  5, 10, 10,  5])"
            ]
          },
          "metadata": {},
          "execution_count": 36
        }
      ]
    },
    {
      "cell_type": "code",
      "source": [
        "df[\"Qualidade da predição\"] = clf.predict(X)\n",
        "df.sample(15,random_state=22)"
      ],
      "metadata": {
        "colab": {
          "base_uri": "https://localhost:8080/",
          "height": 520
        },
        "id": "IYmUqRzrCkkD",
        "outputId": "5bbda971-da3f-40ca-db28-d625ad358997"
      },
      "execution_count": null,
      "outputs": [
        {
          "output_type": "execute_result",
          "data": {
            "text/html": [
              "\n",
              "  <div id=\"df-baa7e887-7883-4487-816c-2873f4581cc0\">\n",
              "    <div class=\"colab-df-container\">\n",
              "      <div>\n",
              "<style scoped>\n",
              "    .dataframe tbody tr th:only-of-type {\n",
              "        vertical-align: middle;\n",
              "    }\n",
              "\n",
              "    .dataframe tbody tr th {\n",
              "        vertical-align: top;\n",
              "    }\n",
              "\n",
              "    .dataframe thead th {\n",
              "        text-align: right;\n",
              "    }\n",
              "</style>\n",
              "<table border=\"1\" class=\"dataframe\">\n",
              "  <thead>\n",
              "    <tr style=\"text-align: right;\">\n",
              "      <th></th>\n",
              "      <th>Age</th>\n",
              "      <th>G</th>\n",
              "      <th>GS</th>\n",
              "      <th>MP</th>\n",
              "      <th>FG</th>\n",
              "      <th>FGA</th>\n",
              "      <th>FG%</th>\n",
              "      <th>3P</th>\n",
              "      <th>3PA</th>\n",
              "      <th>3P%</th>\n",
              "      <th>2P</th>\n",
              "      <th>2PA</th>\n",
              "      <th>2P%</th>\n",
              "      <th>eFG%</th>\n",
              "      <th>FT</th>\n",
              "      <th>FTA</th>\n",
              "      <th>FT%</th>\n",
              "      <th>ORB</th>\n",
              "      <th>DRB</th>\n",
              "      <th>TRB</th>\n",
              "      <th>AST</th>\n",
              "      <th>STL</th>\n",
              "      <th>BLK</th>\n",
              "      <th>TOV</th>\n",
              "      <th>PF</th>\n",
              "      <th>PTS</th>\n",
              "      <th>Pos_C</th>\n",
              "      <th>Pos_PF</th>\n",
              "      <th>Pos_PG</th>\n",
              "      <th>Pos_SF</th>\n",
              "      <th>Pos_SG</th>\n",
              "      <th>Qualidade da predição</th>\n",
              "    </tr>\n",
              "  </thead>\n",
              "  <tbody>\n",
              "    <tr>\n",
              "      <th>296</th>\n",
              "      <td>24</td>\n",
              "      <td>2</td>\n",
              "      <td>0</td>\n",
              "      <td>3.0</td>\n",
              "      <td>0.5</td>\n",
              "      <td>1.0</td>\n",
              "      <td>0.500</td>\n",
              "      <td>0.0</td>\n",
              "      <td>0.5</td>\n",
              "      <td>0.000</td>\n",
              "      <td>0.5</td>\n",
              "      <td>0.5</td>\n",
              "      <td>1.000</td>\n",
              "      <td>0.500</td>\n",
              "      <td>0.0</td>\n",
              "      <td>0.0</td>\n",
              "      <td>0.000</td>\n",
              "      <td>0.5</td>\n",
              "      <td>0.5</td>\n",
              "      <td>1.0</td>\n",
              "      <td>0.5</td>\n",
              "      <td>0.5</td>\n",
              "      <td>0.0</td>\n",
              "      <td>1.0</td>\n",
              "      <td>0.5</td>\n",
              "      <td>1.0</td>\n",
              "      <td>0</td>\n",
              "      <td>0</td>\n",
              "      <td>0</td>\n",
              "      <td>1</td>\n",
              "      <td>0</td>\n",
              "      <td>5</td>\n",
              "    </tr>\n",
              "    <tr>\n",
              "      <th>28</th>\n",
              "      <td>27</td>\n",
              "      <td>3</td>\n",
              "      <td>0</td>\n",
              "      <td>4.3</td>\n",
              "      <td>0.0</td>\n",
              "      <td>1.3</td>\n",
              "      <td>0.000</td>\n",
              "      <td>0.0</td>\n",
              "      <td>0.0</td>\n",
              "      <td>0.000</td>\n",
              "      <td>0.0</td>\n",
              "      <td>1.3</td>\n",
              "      <td>0.000</td>\n",
              "      <td>0.000</td>\n",
              "      <td>0.0</td>\n",
              "      <td>1.3</td>\n",
              "      <td>0.000</td>\n",
              "      <td>0.3</td>\n",
              "      <td>0.7</td>\n",
              "      <td>1.0</td>\n",
              "      <td>1.0</td>\n",
              "      <td>0.0</td>\n",
              "      <td>0.0</td>\n",
              "      <td>0.3</td>\n",
              "      <td>0.3</td>\n",
              "      <td>0.0</td>\n",
              "      <td>0</td>\n",
              "      <td>0</td>\n",
              "      <td>1</td>\n",
              "      <td>0</td>\n",
              "      <td>0</td>\n",
              "      <td>5</td>\n",
              "    </tr>\n",
              "    <tr>\n",
              "      <th>519</th>\n",
              "      <td>29</td>\n",
              "      <td>26</td>\n",
              "      <td>21</td>\n",
              "      <td>22.5</td>\n",
              "      <td>3.2</td>\n",
              "      <td>6.9</td>\n",
              "      <td>0.469</td>\n",
              "      <td>0.9</td>\n",
              "      <td>3.0</td>\n",
              "      <td>0.291</td>\n",
              "      <td>2.3</td>\n",
              "      <td>3.8</td>\n",
              "      <td>0.610</td>\n",
              "      <td>0.534</td>\n",
              "      <td>1.0</td>\n",
              "      <td>1.5</td>\n",
              "      <td>0.675</td>\n",
              "      <td>1.2</td>\n",
              "      <td>3.8</td>\n",
              "      <td>5.0</td>\n",
              "      <td>0.8</td>\n",
              "      <td>0.4</td>\n",
              "      <td>0.7</td>\n",
              "      <td>1.2</td>\n",
              "      <td>2.4</td>\n",
              "      <td>8.4</td>\n",
              "      <td>1</td>\n",
              "      <td>0</td>\n",
              "      <td>0</td>\n",
              "      <td>0</td>\n",
              "      <td>0</td>\n",
              "      <td>10</td>\n",
              "    </tr>\n",
              "    <tr>\n",
              "      <th>345</th>\n",
              "      <td>25</td>\n",
              "      <td>30</td>\n",
              "      <td>16</td>\n",
              "      <td>27.6</td>\n",
              "      <td>3.3</td>\n",
              "      <td>7.9</td>\n",
              "      <td>0.416</td>\n",
              "      <td>2.5</td>\n",
              "      <td>6.6</td>\n",
              "      <td>0.377</td>\n",
              "      <td>0.8</td>\n",
              "      <td>1.3</td>\n",
              "      <td>0.615</td>\n",
              "      <td>0.574</td>\n",
              "      <td>2.4</td>\n",
              "      <td>2.9</td>\n",
              "      <td>0.818</td>\n",
              "      <td>0.5</td>\n",
              "      <td>3.1</td>\n",
              "      <td>3.6</td>\n",
              "      <td>0.9</td>\n",
              "      <td>0.7</td>\n",
              "      <td>0.4</td>\n",
              "      <td>0.6</td>\n",
              "      <td>3.0</td>\n",
              "      <td>11.5</td>\n",
              "      <td>0</td>\n",
              "      <td>0</td>\n",
              "      <td>0</td>\n",
              "      <td>0</td>\n",
              "      <td>1</td>\n",
              "      <td>15</td>\n",
              "    </tr>\n",
              "    <tr>\n",
              "      <th>311</th>\n",
              "      <td>24</td>\n",
              "      <td>2</td>\n",
              "      <td>0</td>\n",
              "      <td>4.0</td>\n",
              "      <td>0.0</td>\n",
              "      <td>1.0</td>\n",
              "      <td>0.000</td>\n",
              "      <td>0.0</td>\n",
              "      <td>1.0</td>\n",
              "      <td>0.000</td>\n",
              "      <td>0.0</td>\n",
              "      <td>0.0</td>\n",
              "      <td>0.000</td>\n",
              "      <td>0.000</td>\n",
              "      <td>0.0</td>\n",
              "      <td>0.0</td>\n",
              "      <td>0.000</td>\n",
              "      <td>0.0</td>\n",
              "      <td>0.5</td>\n",
              "      <td>0.5</td>\n",
              "      <td>1.0</td>\n",
              "      <td>0.0</td>\n",
              "      <td>0.0</td>\n",
              "      <td>0.0</td>\n",
              "      <td>0.0</td>\n",
              "      <td>0.0</td>\n",
              "      <td>0</td>\n",
              "      <td>0</td>\n",
              "      <td>0</td>\n",
              "      <td>1</td>\n",
              "      <td>0</td>\n",
              "      <td>5</td>\n",
              "    </tr>\n",
              "    <tr>\n",
              "      <th>425</th>\n",
              "      <td>26</td>\n",
              "      <td>12</td>\n",
              "      <td>0</td>\n",
              "      <td>9.3</td>\n",
              "      <td>1.5</td>\n",
              "      <td>3.2</td>\n",
              "      <td>0.474</td>\n",
              "      <td>0.7</td>\n",
              "      <td>1.3</td>\n",
              "      <td>0.500</td>\n",
              "      <td>0.8</td>\n",
              "      <td>1.8</td>\n",
              "      <td>0.455</td>\n",
              "      <td>0.579</td>\n",
              "      <td>0.8</td>\n",
              "      <td>0.8</td>\n",
              "      <td>1.000</td>\n",
              "      <td>0.4</td>\n",
              "      <td>1.9</td>\n",
              "      <td>2.3</td>\n",
              "      <td>0.5</td>\n",
              "      <td>0.3</td>\n",
              "      <td>0.1</td>\n",
              "      <td>0.7</td>\n",
              "      <td>1.1</td>\n",
              "      <td>4.4</td>\n",
              "      <td>0</td>\n",
              "      <td>1</td>\n",
              "      <td>0</td>\n",
              "      <td>0</td>\n",
              "      <td>0</td>\n",
              "      <td>5</td>\n",
              "    </tr>\n",
              "    <tr>\n",
              "      <th>566</th>\n",
              "      <td>23</td>\n",
              "      <td>27</td>\n",
              "      <td>15</td>\n",
              "      <td>21.8</td>\n",
              "      <td>2.7</td>\n",
              "      <td>5.7</td>\n",
              "      <td>0.484</td>\n",
              "      <td>0.8</td>\n",
              "      <td>2.5</td>\n",
              "      <td>0.313</td>\n",
              "      <td>2.0</td>\n",
              "      <td>3.2</td>\n",
              "      <td>0.616</td>\n",
              "      <td>0.552</td>\n",
              "      <td>1.1</td>\n",
              "      <td>1.6</td>\n",
              "      <td>0.690</td>\n",
              "      <td>0.9</td>\n",
              "      <td>2.6</td>\n",
              "      <td>3.5</td>\n",
              "      <td>1.1</td>\n",
              "      <td>0.8</td>\n",
              "      <td>0.2</td>\n",
              "      <td>0.9</td>\n",
              "      <td>2.0</td>\n",
              "      <td>7.3</td>\n",
              "      <td>0</td>\n",
              "      <td>0</td>\n",
              "      <td>0</td>\n",
              "      <td>0</td>\n",
              "      <td>1</td>\n",
              "      <td>10</td>\n",
              "    </tr>\n",
              "    <tr>\n",
              "      <th>16</th>\n",
              "      <td>36</td>\n",
              "      <td>12</td>\n",
              "      <td>5</td>\n",
              "      <td>19.2</td>\n",
              "      <td>1.3</td>\n",
              "      <td>3.3</td>\n",
              "      <td>0.375</td>\n",
              "      <td>1.0</td>\n",
              "      <td>2.8</td>\n",
              "      <td>0.364</td>\n",
              "      <td>0.3</td>\n",
              "      <td>0.6</td>\n",
              "      <td>0.429</td>\n",
              "      <td>0.525</td>\n",
              "      <td>0.2</td>\n",
              "      <td>0.3</td>\n",
              "      <td>0.500</td>\n",
              "      <td>0.3</td>\n",
              "      <td>2.9</td>\n",
              "      <td>3.3</td>\n",
              "      <td>1.3</td>\n",
              "      <td>0.5</td>\n",
              "      <td>0.2</td>\n",
              "      <td>0.3</td>\n",
              "      <td>0.6</td>\n",
              "      <td>3.7</td>\n",
              "      <td>0</td>\n",
              "      <td>0</td>\n",
              "      <td>0</td>\n",
              "      <td>1</td>\n",
              "      <td>0</td>\n",
              "      <td>5</td>\n",
              "    </tr>\n",
              "    <tr>\n",
              "      <th>172</th>\n",
              "      <td>24</td>\n",
              "      <td>6</td>\n",
              "      <td>0</td>\n",
              "      <td>7.7</td>\n",
              "      <td>0.8</td>\n",
              "      <td>2.2</td>\n",
              "      <td>0.385</td>\n",
              "      <td>0.3</td>\n",
              "      <td>0.8</td>\n",
              "      <td>0.400</td>\n",
              "      <td>0.5</td>\n",
              "      <td>1.3</td>\n",
              "      <td>0.375</td>\n",
              "      <td>0.462</td>\n",
              "      <td>0.3</td>\n",
              "      <td>0.7</td>\n",
              "      <td>0.500</td>\n",
              "      <td>0.8</td>\n",
              "      <td>1.5</td>\n",
              "      <td>2.3</td>\n",
              "      <td>0.3</td>\n",
              "      <td>0.2</td>\n",
              "      <td>0.3</td>\n",
              "      <td>0.5</td>\n",
              "      <td>1.8</td>\n",
              "      <td>2.3</td>\n",
              "      <td>0</td>\n",
              "      <td>1</td>\n",
              "      <td>0</td>\n",
              "      <td>0</td>\n",
              "      <td>0</td>\n",
              "      <td>5</td>\n",
              "    </tr>\n",
              "    <tr>\n",
              "      <th>30</th>\n",
              "      <td>20</td>\n",
              "      <td>36</td>\n",
              "      <td>36</td>\n",
              "      <td>35.5</td>\n",
              "      <td>5.9</td>\n",
              "      <td>12.5</td>\n",
              "      <td>0.477</td>\n",
              "      <td>0.8</td>\n",
              "      <td>2.4</td>\n",
              "      <td>0.310</td>\n",
              "      <td>5.2</td>\n",
              "      <td>10.1</td>\n",
              "      <td>0.517</td>\n",
              "      <td>0.507</td>\n",
              "      <td>2.1</td>\n",
              "      <td>3.0</td>\n",
              "      <td>0.720</td>\n",
              "      <td>2.8</td>\n",
              "      <td>5.1</td>\n",
              "      <td>7.9</td>\n",
              "      <td>3.4</td>\n",
              "      <td>1.0</td>\n",
              "      <td>0.8</td>\n",
              "      <td>1.9</td>\n",
              "      <td>2.9</td>\n",
              "      <td>14.8</td>\n",
              "      <td>0</td>\n",
              "      <td>1</td>\n",
              "      <td>0</td>\n",
              "      <td>0</td>\n",
              "      <td>0</td>\n",
              "      <td>15</td>\n",
              "    </tr>\n",
              "    <tr>\n",
              "      <th>102</th>\n",
              "      <td>27</td>\n",
              "      <td>13</td>\n",
              "      <td>1</td>\n",
              "      <td>10.5</td>\n",
              "      <td>1.1</td>\n",
              "      <td>2.6</td>\n",
              "      <td>0.412</td>\n",
              "      <td>1.0</td>\n",
              "      <td>2.3</td>\n",
              "      <td>0.433</td>\n",
              "      <td>0.1</td>\n",
              "      <td>0.3</td>\n",
              "      <td>0.250</td>\n",
              "      <td>0.603</td>\n",
              "      <td>0.2</td>\n",
              "      <td>0.3</td>\n",
              "      <td>0.500</td>\n",
              "      <td>0.5</td>\n",
              "      <td>1.8</td>\n",
              "      <td>2.3</td>\n",
              "      <td>0.4</td>\n",
              "      <td>0.2</td>\n",
              "      <td>0.2</td>\n",
              "      <td>0.3</td>\n",
              "      <td>0.2</td>\n",
              "      <td>3.3</td>\n",
              "      <td>0</td>\n",
              "      <td>1</td>\n",
              "      <td>0</td>\n",
              "      <td>0</td>\n",
              "      <td>0</td>\n",
              "      <td>5</td>\n",
              "    </tr>\n",
              "    <tr>\n",
              "      <th>398</th>\n",
              "      <td>24</td>\n",
              "      <td>1</td>\n",
              "      <td>0</td>\n",
              "      <td>8.0</td>\n",
              "      <td>3.0</td>\n",
              "      <td>5.0</td>\n",
              "      <td>0.600</td>\n",
              "      <td>0.0</td>\n",
              "      <td>1.0</td>\n",
              "      <td>0.000</td>\n",
              "      <td>3.0</td>\n",
              "      <td>4.0</td>\n",
              "      <td>0.750</td>\n",
              "      <td>0.600</td>\n",
              "      <td>2.0</td>\n",
              "      <td>2.0</td>\n",
              "      <td>1.000</td>\n",
              "      <td>0.0</td>\n",
              "      <td>1.0</td>\n",
              "      <td>1.0</td>\n",
              "      <td>1.0</td>\n",
              "      <td>0.0</td>\n",
              "      <td>0.0</td>\n",
              "      <td>1.0</td>\n",
              "      <td>0.0</td>\n",
              "      <td>8.0</td>\n",
              "      <td>0</td>\n",
              "      <td>0</td>\n",
              "      <td>1</td>\n",
              "      <td>0</td>\n",
              "      <td>0</td>\n",
              "      <td>10</td>\n",
              "    </tr>\n",
              "    <tr>\n",
              "      <th>373</th>\n",
              "      <td>25</td>\n",
              "      <td>40</td>\n",
              "      <td>40</td>\n",
              "      <td>33.5</td>\n",
              "      <td>9.3</td>\n",
              "      <td>20.7</td>\n",
              "      <td>0.450</td>\n",
              "      <td>3.2</td>\n",
              "      <td>9.5</td>\n",
              "      <td>0.339</td>\n",
              "      <td>6.1</td>\n",
              "      <td>11.2</td>\n",
              "      <td>0.545</td>\n",
              "      <td>0.528</td>\n",
              "      <td>3.7</td>\n",
              "      <td>4.2</td>\n",
              "      <td>0.876</td>\n",
              "      <td>0.8</td>\n",
              "      <td>3.1</td>\n",
              "      <td>4.0</td>\n",
              "      <td>5.2</td>\n",
              "      <td>1.6</td>\n",
              "      <td>0.2</td>\n",
              "      <td>3.0</td>\n",
              "      <td>2.5</td>\n",
              "      <td>25.5</td>\n",
              "      <td>0</td>\n",
              "      <td>0</td>\n",
              "      <td>0</td>\n",
              "      <td>0</td>\n",
              "      <td>1</td>\n",
              "      <td>30</td>\n",
              "    </tr>\n",
              "    <tr>\n",
              "      <th>203</th>\n",
              "      <td>21</td>\n",
              "      <td>28</td>\n",
              "      <td>2</td>\n",
              "      <td>14.6</td>\n",
              "      <td>1.8</td>\n",
              "      <td>4.4</td>\n",
              "      <td>0.418</td>\n",
              "      <td>1.4</td>\n",
              "      <td>3.5</td>\n",
              "      <td>0.394</td>\n",
              "      <td>0.4</td>\n",
              "      <td>0.8</td>\n",
              "      <td>0.522</td>\n",
              "      <td>0.578</td>\n",
              "      <td>0.2</td>\n",
              "      <td>0.3</td>\n",
              "      <td>0.667</td>\n",
              "      <td>0.3</td>\n",
              "      <td>1.2</td>\n",
              "      <td>1.5</td>\n",
              "      <td>1.0</td>\n",
              "      <td>0.6</td>\n",
              "      <td>0.1</td>\n",
              "      <td>0.6</td>\n",
              "      <td>1.4</td>\n",
              "      <td>5.3</td>\n",
              "      <td>0</td>\n",
              "      <td>0</td>\n",
              "      <td>0</td>\n",
              "      <td>0</td>\n",
              "      <td>1</td>\n",
              "      <td>10</td>\n",
              "    </tr>\n",
              "    <tr>\n",
              "      <th>219</th>\n",
              "      <td>23</td>\n",
              "      <td>33</td>\n",
              "      <td>0</td>\n",
              "      <td>15.9</td>\n",
              "      <td>3.2</td>\n",
              "      <td>4.8</td>\n",
              "      <td>0.663</td>\n",
              "      <td>0.1</td>\n",
              "      <td>0.1</td>\n",
              "      <td>0.667</td>\n",
              "      <td>3.2</td>\n",
              "      <td>4.8</td>\n",
              "      <td>0.662</td>\n",
              "      <td>0.669</td>\n",
              "      <td>1.1</td>\n",
              "      <td>1.7</td>\n",
              "      <td>0.661</td>\n",
              "      <td>1.7</td>\n",
              "      <td>2.6</td>\n",
              "      <td>4.3</td>\n",
              "      <td>1.8</td>\n",
              "      <td>0.8</td>\n",
              "      <td>1.2</td>\n",
              "      <td>0.9</td>\n",
              "      <td>2.5</td>\n",
              "      <td>7.6</td>\n",
              "      <td>1</td>\n",
              "      <td>0</td>\n",
              "      <td>0</td>\n",
              "      <td>0</td>\n",
              "      <td>0</td>\n",
              "      <td>10</td>\n",
              "    </tr>\n",
              "  </tbody>\n",
              "</table>\n",
              "</div>\n",
              "      <button class=\"colab-df-convert\" onclick=\"convertToInteractive('df-baa7e887-7883-4487-816c-2873f4581cc0')\"\n",
              "              title=\"Convert this dataframe to an interactive table.\"\n",
              "              style=\"display:none;\">\n",
              "        \n",
              "  <svg xmlns=\"http://www.w3.org/2000/svg\" height=\"24px\"viewBox=\"0 0 24 24\"\n",
              "       width=\"24px\">\n",
              "    <path d=\"M0 0h24v24H0V0z\" fill=\"none\"/>\n",
              "    <path d=\"M18.56 5.44l.94 2.06.94-2.06 2.06-.94-2.06-.94-.94-2.06-.94 2.06-2.06.94zm-11 1L8.5 8.5l.94-2.06 2.06-.94-2.06-.94L8.5 2.5l-.94 2.06-2.06.94zm10 10l.94 2.06.94-2.06 2.06-.94-2.06-.94-.94-2.06-.94 2.06-2.06.94z\"/><path d=\"M17.41 7.96l-1.37-1.37c-.4-.4-.92-.59-1.43-.59-.52 0-1.04.2-1.43.59L10.3 9.45l-7.72 7.72c-.78.78-.78 2.05 0 2.83L4 21.41c.39.39.9.59 1.41.59.51 0 1.02-.2 1.41-.59l7.78-7.78 2.81-2.81c.8-.78.8-2.07 0-2.86zM5.41 20L4 18.59l7.72-7.72 1.47 1.35L5.41 20z\"/>\n",
              "  </svg>\n",
              "      </button>\n",
              "      \n",
              "  <style>\n",
              "    .colab-df-container {\n",
              "      display:flex;\n",
              "      flex-wrap:wrap;\n",
              "      gap: 12px;\n",
              "    }\n",
              "\n",
              "    .colab-df-convert {\n",
              "      background-color: #E8F0FE;\n",
              "      border: none;\n",
              "      border-radius: 50%;\n",
              "      cursor: pointer;\n",
              "      display: none;\n",
              "      fill: #1967D2;\n",
              "      height: 32px;\n",
              "      padding: 0 0 0 0;\n",
              "      width: 32px;\n",
              "    }\n",
              "\n",
              "    .colab-df-convert:hover {\n",
              "      background-color: #E2EBFA;\n",
              "      box-shadow: 0px 1px 2px rgba(60, 64, 67, 0.3), 0px 1px 3px 1px rgba(60, 64, 67, 0.15);\n",
              "      fill: #174EA6;\n",
              "    }\n",
              "\n",
              "    [theme=dark] .colab-df-convert {\n",
              "      background-color: #3B4455;\n",
              "      fill: #D2E3FC;\n",
              "    }\n",
              "\n",
              "    [theme=dark] .colab-df-convert:hover {\n",
              "      background-color: #434B5C;\n",
              "      box-shadow: 0px 1px 3px 1px rgba(0, 0, 0, 0.15);\n",
              "      filter: drop-shadow(0px 1px 2px rgba(0, 0, 0, 0.3));\n",
              "      fill: #FFFFFF;\n",
              "    }\n",
              "  </style>\n",
              "\n",
              "      <script>\n",
              "        const buttonEl =\n",
              "          document.querySelector('#df-baa7e887-7883-4487-816c-2873f4581cc0 button.colab-df-convert');\n",
              "        buttonEl.style.display =\n",
              "          google.colab.kernel.accessAllowed ? 'block' : 'none';\n",
              "\n",
              "        async function convertToInteractive(key) {\n",
              "          const element = document.querySelector('#df-baa7e887-7883-4487-816c-2873f4581cc0');\n",
              "          const dataTable =\n",
              "            await google.colab.kernel.invokeFunction('convertToInteractive',\n",
              "                                                     [key], {});\n",
              "          if (!dataTable) return;\n",
              "\n",
              "          const docLinkHtml = 'Like what you see? Visit the ' +\n",
              "            '<a target=\"_blank\" href=https://colab.research.google.com/notebooks/data_table.ipynb>data table notebook</a>'\n",
              "            + ' to learn more about interactive tables.';\n",
              "          element.innerHTML = '';\n",
              "          dataTable['output_type'] = 'display_data';\n",
              "          await google.colab.output.renderOutput(dataTable, element);\n",
              "          const docLink = document.createElement('div');\n",
              "          docLink.innerHTML = docLinkHtml;\n",
              "          element.appendChild(docLink);\n",
              "        }\n",
              "      </script>\n",
              "    </div>\n",
              "  </div>\n",
              "  "
            ],
            "text/plain": [
              "     Age   G  GS    MP  ...  Pos_PG  Pos_SF  Pos_SG  Qualidade da predição\n",
              "296   24   2   0   3.0  ...       0       1       0                      5\n",
              "28    27   3   0   4.3  ...       1       0       0                      5\n",
              "519   29  26  21  22.5  ...       0       0       0                     10\n",
              "345   25  30  16  27.6  ...       0       0       1                     15\n",
              "311   24   2   0   4.0  ...       0       1       0                      5\n",
              "425   26  12   0   9.3  ...       0       0       0                      5\n",
              "566   23  27  15  21.8  ...       0       0       1                     10\n",
              "16    36  12   5  19.2  ...       0       1       0                      5\n",
              "172   24   6   0   7.7  ...       0       0       0                      5\n",
              "30    20  36  36  35.5  ...       0       0       0                     15\n",
              "102   27  13   1  10.5  ...       0       0       0                      5\n",
              "398   24   1   0   8.0  ...       1       0       0                     10\n",
              "373   25  40  40  33.5  ...       0       0       1                     30\n",
              "203   21  28   2  14.6  ...       0       0       1                     10\n",
              "219   23  33   0  15.9  ...       0       0       0                     10\n",
              "\n",
              "[15 rows x 32 columns]"
            ]
          },
          "metadata": {},
          "execution_count": 39
        }
      ]
    },
    {
      "cell_type": "code",
      "source": [
        "#plotar a árvore de decisão\n",
        "import pydot\n",
        "import graphviz\n",
        "\n",
        "dot_data = export_graphviz( \n",
        "         clf, \n",
        "         out_file=None,\n",
        "         feature_names = df.drop(columns=['PTS','Qualidade da predição']).columns,\n",
        "         class_names=['5', '10', '15', '20', '25', '30'],  #colocar as classes do teu modelo\n",
        "         filled=True, rounded=True,\n",
        "         proportion=True,\n",
        "         node_ids=True,\n",
        "         rotate=False,\n",
        "         label='all',\n",
        "         special_characters=True\n",
        "        )  \n",
        "graph = graphviz.Source(dot_data)  \n",
        "graph"
      ],
      "metadata": {
        "colab": {
          "base_uri": "https://localhost:8080/",
          "height": 1000
        },
        "id": "1ji3bv1WCNvu",
        "outputId": "52d1733b-f0a0-45cf-cea3-96370baa820f"
      },
      "execution_count": null,
      "outputs": [
        {
          "output_type": "execute_result",
          "data": {
            "text/plain": [
              "<graphviz.files.Source at 0x7f89ce82cb50>"
            ],
            "image/svg+xml": "<?xml version=\"1.0\" encoding=\"UTF-8\" standalone=\"no\"?>\n<!DOCTYPE svg PUBLIC \"-//W3C//DTD SVG 1.1//EN\"\n \"http://www.w3.org/Graphics/SVG/1.1/DTD/svg11.dtd\">\n<!-- Generated by graphviz version 2.40.1 (20161225.0304)\n -->\n<!-- Title: Tree Pages: 1 -->\n<svg width=\"4931pt\" height=\"1163pt\"\n viewBox=\"0.00 0.00 4931.00 1163.00\" xmlns=\"http://www.w3.org/2000/svg\" xmlns:xlink=\"http://www.w3.org/1999/xlink\">\n<g id=\"graph0\" class=\"graph\" transform=\"scale(1 1) rotate(0) translate(4 1159)\">\n<title>Tree</title>\n<polygon fill=\"#ffffff\" stroke=\"transparent\" points=\"-4,4 -4,-1159 4927,-1159 4927,4 -4,4\"/>\n<!-- 0 -->\n<g id=\"node1\" class=\"node\">\n<title>0</title>\n<path fill=\"#fceee5\" stroke=\"#000000\" d=\"M1304.5,-1155C1304.5,-1155 1011.5,-1155 1011.5,-1155 1005.5,-1155 999.5,-1149 999.5,-1143 999.5,-1143 999.5,-1069 999.5,-1069 999.5,-1063 1005.5,-1057 1011.5,-1057 1011.5,-1057 1304.5,-1057 1304.5,-1057 1310.5,-1057 1316.5,-1063 1316.5,-1069 1316.5,-1069 1316.5,-1143 1316.5,-1143 1316.5,-1149 1310.5,-1155 1304.5,-1155\"/>\n<text text-anchor=\"start\" x=\"1131\" y=\"-1139.8\" font-family=\"Helvetica,sans-Serif\" font-size=\"14.00\" fill=\"#000000\">node #0</text>\n<text text-anchor=\"start\" x=\"1126\" y=\"-1124.8\" font-family=\"Helvetica,sans-Serif\" font-size=\"14.00\" fill=\"#000000\">FG ≤ 1.85</text>\n<text text-anchor=\"start\" x=\"1120\" y=\"-1109.8\" font-family=\"Helvetica,sans-Serif\" font-size=\"14.00\" fill=\"#000000\">gini = 0.714</text>\n<text text-anchor=\"start\" x=\"1097.5\" y=\"-1094.8\" font-family=\"Helvetica,sans-Serif\" font-size=\"14.00\" fill=\"#000000\">samples = 100.0%</text>\n<text text-anchor=\"start\" x=\"1007.5\" y=\"-1079.8\" font-family=\"Helvetica,sans-Serif\" font-size=\"14.00\" fill=\"#000000\">value = [0.4, 0.309, 0.142, 0.089, 0.038, 0.021]</text>\n<text text-anchor=\"start\" x=\"1129\" y=\"-1064.8\" font-family=\"Helvetica,sans-Serif\" font-size=\"14.00\" fill=\"#000000\">class = 5</text>\n</g>\n<!-- 1 -->\n<g id=\"node2\" class=\"node\">\n<title>1</title>\n<path fill=\"#e6843e\" stroke=\"#000000\" d=\"M876.5,-1021C876.5,-1021 633.5,-1021 633.5,-1021 627.5,-1021 621.5,-1015 621.5,-1009 621.5,-1009 621.5,-935 621.5,-935 621.5,-929 627.5,-923 633.5,-923 633.5,-923 876.5,-923 876.5,-923 882.5,-923 888.5,-929 888.5,-935 888.5,-935 888.5,-1009 888.5,-1009 888.5,-1015 882.5,-1021 876.5,-1021\"/>\n<text text-anchor=\"start\" x=\"728\" y=\"-1005.8\" font-family=\"Helvetica,sans-Serif\" font-size=\"14.00\" fill=\"#000000\">node #1</text>\n<text text-anchor=\"start\" x=\"722.5\" y=\"-990.8\" font-family=\"Helvetica,sans-Serif\" font-size=\"14.00\" fill=\"#000000\">FGA ≤ 4.6</text>\n<text text-anchor=\"start\" x=\"717\" y=\"-975.8\" font-family=\"Helvetica,sans-Serif\" font-size=\"14.00\" fill=\"#000000\">gini = 0.052</text>\n<text text-anchor=\"start\" x=\"699\" y=\"-960.8\" font-family=\"Helvetica,sans-Serif\" font-size=\"14.00\" fill=\"#000000\">samples = 39.4%</text>\n<text text-anchor=\"start\" x=\"629.5\" y=\"-945.8\" font-family=\"Helvetica,sans-Serif\" font-size=\"14.00\" fill=\"#000000\">value = [0.973, 0.027, 0.0, 0.0, 0.0, 0.0]</text>\n<text text-anchor=\"start\" x=\"726\" y=\"-930.8\" font-family=\"Helvetica,sans-Serif\" font-size=\"14.00\" fill=\"#000000\">class = 5</text>\n</g>\n<!-- 0&#45;&gt;1 -->\n<g id=\"edge1\" class=\"edge\">\n<title>0&#45;&gt;1</title>\n<path fill=\"none\" stroke=\"#000000\" d=\"M1010.5116,-1056.9592C973.8918,-1044.7829 934.7023,-1031.7521 898.2874,-1019.644\"/>\n<polygon fill=\"#000000\" stroke=\"#000000\" points=\"899.189,-1016.2554 888.5954,-1016.4213 896.9803,-1022.8978 899.189,-1016.2554\"/>\n<text text-anchor=\"middle\" x=\"899.7924\" y=\"-1035.0737\" font-family=\"Helvetica,sans-Serif\" font-size=\"14.00\" fill=\"#000000\">True</text>\n</g>\n<!-- 10 -->\n<g id=\"node11\" class=\"node\">\n<title>10</title>\n<path fill=\"#def6bc\" stroke=\"#000000\" d=\"M1451.5,-1021C1451.5,-1021 1142.5,-1021 1142.5,-1021 1136.5,-1021 1130.5,-1015 1130.5,-1009 1130.5,-1009 1130.5,-935 1130.5,-935 1130.5,-929 1136.5,-923 1142.5,-923 1142.5,-923 1451.5,-923 1451.5,-923 1457.5,-923 1463.5,-929 1463.5,-935 1463.5,-935 1463.5,-1009 1463.5,-1009 1463.5,-1015 1457.5,-1021 1451.5,-1021\"/>\n<text text-anchor=\"start\" x=\"1266\" y=\"-1005.8\" font-family=\"Helvetica,sans-Serif\" font-size=\"14.00\" fill=\"#000000\">node #10</text>\n<text text-anchor=\"start\" x=\"1265\" y=\"-990.8\" font-family=\"Helvetica,sans-Serif\" font-size=\"14.00\" fill=\"#000000\">FG ≤ 3.85</text>\n<text text-anchor=\"start\" x=\"1259\" y=\"-975.8\" font-family=\"Helvetica,sans-Serif\" font-size=\"14.00\" fill=\"#000000\">gini = 0.675</text>\n<text text-anchor=\"start\" x=\"1241\" y=\"-960.8\" font-family=\"Helvetica,sans-Serif\" font-size=\"14.00\" fill=\"#000000\">samples = 60.6%</text>\n<text text-anchor=\"start\" x=\"1138.5\" y=\"-945.8\" font-family=\"Helvetica,sans-Serif\" font-size=\"14.00\" fill=\"#000000\">value = [0.028, 0.493, 0.234, 0.147, 0.063, 0.035]</text>\n<text text-anchor=\"start\" x=\"1263.5\" y=\"-930.8\" font-family=\"Helvetica,sans-Serif\" font-size=\"14.00\" fill=\"#000000\">class = 10</text>\n</g>\n<!-- 0&#45;&gt;10 -->\n<g id=\"edge10\" class=\"edge\">\n<title>0&#45;&gt;10</title>\n<path fill=\"none\" stroke=\"#000000\" d=\"M1208.9692,-1056.8642C1218.6011,-1047.5788 1228.7453,-1037.7995 1238.5852,-1028.3136\"/>\n<polygon fill=\"#000000\" stroke=\"#000000\" points=\"1241.2667,-1030.59 1246.037,-1021.1298 1236.4084,-1025.5505 1241.2667,-1030.59\"/>\n<text text-anchor=\"middle\" x=\"1245.5792\" y=\"-1042.4256\" font-family=\"Helvetica,sans-Serif\" font-size=\"14.00\" fill=\"#000000\">False</text>\n</g>\n<!-- 2 -->\n<g id=\"node3\" class=\"node\">\n<title>2</title>\n<path fill=\"#e5823a\" stroke=\"#000000\" d=\"M490.5,-887C490.5,-887 247.5,-887 247.5,-887 241.5,-887 235.5,-881 235.5,-875 235.5,-875 235.5,-801 235.5,-801 235.5,-795 241.5,-789 247.5,-789 247.5,-789 490.5,-789 490.5,-789 496.5,-789 502.5,-795 502.5,-801 502.5,-801 502.5,-875 502.5,-875 502.5,-881 496.5,-887 490.5,-887\"/>\n<text text-anchor=\"start\" x=\"342\" y=\"-871.8\" font-family=\"Helvetica,sans-Serif\" font-size=\"14.00\" fill=\"#000000\">node #2</text>\n<text text-anchor=\"start\" x=\"338\" y=\"-856.8\" font-family=\"Helvetica,sans-Serif\" font-size=\"14.00\" fill=\"#000000\">3P ≤ 1.15</text>\n<text text-anchor=\"start\" x=\"331\" y=\"-841.8\" font-family=\"Helvetica,sans-Serif\" font-size=\"14.00\" fill=\"#000000\">gini = 0.011</text>\n<text text-anchor=\"start\" x=\"313\" y=\"-826.8\" font-family=\"Helvetica,sans-Serif\" font-size=\"14.00\" fill=\"#000000\">samples = 38.3%</text>\n<text text-anchor=\"start\" x=\"243.5\" y=\"-811.8\" font-family=\"Helvetica,sans-Serif\" font-size=\"14.00\" fill=\"#000000\">value = [0.994, 0.006, 0.0, 0.0, 0.0, 0.0]</text>\n<text text-anchor=\"start\" x=\"340\" y=\"-796.8\" font-family=\"Helvetica,sans-Serif\" font-size=\"14.00\" fill=\"#000000\">class = 5</text>\n</g>\n<!-- 1&#45;&gt;2 -->\n<g id=\"edge2\" class=\"edge\">\n<title>1&#45;&gt;2</title>\n<path fill=\"none\" stroke=\"#000000\" d=\"M621.3498,-925.6033C586.0566,-913.3513 547.8302,-900.081 512.0612,-887.6637\"/>\n<polygon fill=\"#000000\" stroke=\"#000000\" points=\"513.1296,-884.3298 502.5348,-884.3566 510.8339,-890.9427 513.1296,-884.3298\"/>\n</g>\n<!-- 7 -->\n<g id=\"node8\" class=\"node\">\n<title>7</title>\n<path fill=\"#b6ec6a\" stroke=\"#000000\" d=\"M860,-887C860,-887 650,-887 650,-887 644,-887 638,-881 638,-875 638,-875 638,-801 638,-801 638,-795 644,-789 650,-789 650,-789 860,-789 860,-789 866,-789 872,-795 872,-801 872,-801 872,-875 872,-875 872,-881 866,-887 860,-887\"/>\n<text text-anchor=\"start\" x=\"728\" y=\"-871.8\" font-family=\"Helvetica,sans-Serif\" font-size=\"14.00\" fill=\"#000000\">node #7</text>\n<text text-anchor=\"start\" x=\"726.5\" y=\"-856.8\" font-family=\"Helvetica,sans-Serif\" font-size=\"14.00\" fill=\"#000000\">GS ≤ 1.0</text>\n<text text-anchor=\"start\" x=\"721.5\" y=\"-841.8\" font-family=\"Helvetica,sans-Serif\" font-size=\"14.00\" fill=\"#000000\">gini = 0.32</text>\n<text text-anchor=\"start\" x=\"703\" y=\"-826.8\" font-family=\"Helvetica,sans-Serif\" font-size=\"14.00\" fill=\"#000000\">samples = 1.1%</text>\n<text text-anchor=\"start\" x=\"646\" y=\"-811.8\" font-family=\"Helvetica,sans-Serif\" font-size=\"14.00\" fill=\"#000000\">value = [0.2, 0.8, 0.0, 0.0, 0.0, 0.0]</text>\n<text text-anchor=\"start\" x=\"721.5\" y=\"-796.8\" font-family=\"Helvetica,sans-Serif\" font-size=\"14.00\" fill=\"#000000\">class = 10</text>\n</g>\n<!-- 1&#45;&gt;7 -->\n<g id=\"edge7\" class=\"edge\">\n<title>1&#45;&gt;7</title>\n<path fill=\"none\" stroke=\"#000000\" d=\"M755,-922.8642C755,-914.5802 755,-905.903 755,-897.3918\"/>\n<polygon fill=\"#000000\" stroke=\"#000000\" points=\"758.5001,-897.1298 755,-887.1298 751.5001,-897.1299 758.5001,-897.1298\"/>\n</g>\n<!-- 3 -->\n<g id=\"node4\" class=\"node\">\n<title>3</title>\n<path fill=\"#e58139\" stroke=\"#000000\" d=\"M222,-745.5C222,-745.5 12,-745.5 12,-745.5 6,-745.5 0,-739.5 0,-733.5 0,-733.5 0,-674.5 0,-674.5 0,-668.5 6,-662.5 12,-662.5 12,-662.5 222,-662.5 222,-662.5 228,-662.5 234,-668.5 234,-674.5 234,-674.5 234,-733.5 234,-733.5 234,-739.5 228,-745.5 222,-745.5\"/>\n<text text-anchor=\"start\" x=\"90\" y=\"-730.3\" font-family=\"Helvetica,sans-Serif\" font-size=\"14.00\" fill=\"#000000\">node #3</text>\n<text text-anchor=\"start\" x=\"87.5\" y=\"-715.3\" font-family=\"Helvetica,sans-Serif\" font-size=\"14.00\" fill=\"#000000\">gini = 0.0</text>\n<text text-anchor=\"start\" x=\"61\" y=\"-700.3\" font-family=\"Helvetica,sans-Serif\" font-size=\"14.00\" fill=\"#000000\">samples = 37.9%</text>\n<text text-anchor=\"start\" x=\"8\" y=\"-685.3\" font-family=\"Helvetica,sans-Serif\" font-size=\"14.00\" fill=\"#000000\">value = [1.0, 0.0, 0.0, 0.0, 0.0, 0.0]</text>\n<text text-anchor=\"start\" x=\"88\" y=\"-670.3\" font-family=\"Helvetica,sans-Serif\" font-size=\"14.00\" fill=\"#000000\">class = 5</text>\n</g>\n<!-- 2&#45;&gt;3 -->\n<g id=\"edge3\" class=\"edge\">\n<title>2&#45;&gt;3</title>\n<path fill=\"none\" stroke=\"#000000\" d=\"M276.5954,-788.8642C252.9295,-776.28 227.5578,-762.7887 204.1653,-750.3498\"/>\n<polygon fill=\"#000000\" stroke=\"#000000\" points=\"205.7772,-747.2429 195.3046,-745.6381 202.4907,-753.4234 205.7772,-747.2429\"/>\n</g>\n<!-- 4 -->\n<g id=\"node5\" class=\"node\">\n<title>4</title>\n<path fill=\"#ffffff\" stroke=\"#000000\" d=\"M474,-753C474,-753 264,-753 264,-753 258,-753 252,-747 252,-741 252,-741 252,-667 252,-667 252,-661 258,-655 264,-655 264,-655 474,-655 474,-655 480,-655 486,-661 486,-667 486,-667 486,-741 486,-741 486,-747 480,-753 474,-753\"/>\n<text text-anchor=\"start\" x=\"342\" y=\"-737.8\" font-family=\"Helvetica,sans-Serif\" font-size=\"14.00\" fill=\"#000000\">node #4</text>\n<text text-anchor=\"start\" x=\"326.5\" y=\"-722.8\" font-family=\"Helvetica,sans-Serif\" font-size=\"14.00\" fill=\"#000000\">FG% ≤ 0.374</text>\n<text text-anchor=\"start\" x=\"339.5\" y=\"-707.8\" font-family=\"Helvetica,sans-Serif\" font-size=\"14.00\" fill=\"#000000\">gini = 0.5</text>\n<text text-anchor=\"start\" x=\"317\" y=\"-692.8\" font-family=\"Helvetica,sans-Serif\" font-size=\"14.00\" fill=\"#000000\">samples = 0.4%</text>\n<text text-anchor=\"start\" x=\"260\" y=\"-677.8\" font-family=\"Helvetica,sans-Serif\" font-size=\"14.00\" fill=\"#000000\">value = [0.5, 0.5, 0.0, 0.0, 0.0, 0.0]</text>\n<text text-anchor=\"start\" x=\"340\" y=\"-662.8\" font-family=\"Helvetica,sans-Serif\" font-size=\"14.00\" fill=\"#000000\">class = 5</text>\n</g>\n<!-- 2&#45;&gt;4 -->\n<g id=\"edge4\" class=\"edge\">\n<title>2&#45;&gt;4</title>\n<path fill=\"none\" stroke=\"#000000\" d=\"M369,-788.8642C369,-780.5802 369,-771.903 369,-763.3918\"/>\n<polygon fill=\"#000000\" stroke=\"#000000\" points=\"372.5001,-763.1298 369,-753.1298 365.5001,-763.1299 372.5001,-763.1298\"/>\n</g>\n<!-- 5 -->\n<g id=\"node6\" class=\"node\">\n<title>5</title>\n<path fill=\"#e58139\" stroke=\"#000000\" d=\"M336,-611.5C336,-611.5 126,-611.5 126,-611.5 120,-611.5 114,-605.5 114,-599.5 114,-599.5 114,-540.5 114,-540.5 114,-534.5 120,-528.5 126,-528.5 126,-528.5 336,-528.5 336,-528.5 342,-528.5 348,-534.5 348,-540.5 348,-540.5 348,-599.5 348,-599.5 348,-605.5 342,-611.5 336,-611.5\"/>\n<text text-anchor=\"start\" x=\"204\" y=\"-596.3\" font-family=\"Helvetica,sans-Serif\" font-size=\"14.00\" fill=\"#000000\">node #5</text>\n<text text-anchor=\"start\" x=\"201.5\" y=\"-581.3\" font-family=\"Helvetica,sans-Serif\" font-size=\"14.00\" fill=\"#000000\">gini = 0.0</text>\n<text text-anchor=\"start\" x=\"179\" y=\"-566.3\" font-family=\"Helvetica,sans-Serif\" font-size=\"14.00\" fill=\"#000000\">samples = 0.2%</text>\n<text text-anchor=\"start\" x=\"122\" y=\"-551.3\" font-family=\"Helvetica,sans-Serif\" font-size=\"14.00\" fill=\"#000000\">value = [1.0, 0.0, 0.0, 0.0, 0.0, 0.0]</text>\n<text text-anchor=\"start\" x=\"202\" y=\"-536.3\" font-family=\"Helvetica,sans-Serif\" font-size=\"14.00\" fill=\"#000000\">class = 5</text>\n</g>\n<!-- 4&#45;&gt;5 -->\n<g id=\"edge5\" class=\"edge\">\n<title>4&#45;&gt;5</title>\n<path fill=\"none\" stroke=\"#000000\" d=\"M318.3975,-654.8642C306.294,-643.1115 293.3757,-630.5677 281.2865,-618.8289\"/>\n<polygon fill=\"#000000\" stroke=\"#000000\" points=\"283.4936,-616.0935 273.8811,-611.6381 278.6171,-621.1155 283.4936,-616.0935\"/>\n</g>\n<!-- 6 -->\n<g id=\"node7\" class=\"node\">\n<title>6</title>\n<path fill=\"#9de539\" stroke=\"#000000\" d=\"M588,-611.5C588,-611.5 378,-611.5 378,-611.5 372,-611.5 366,-605.5 366,-599.5 366,-599.5 366,-540.5 366,-540.5 366,-534.5 372,-528.5 378,-528.5 378,-528.5 588,-528.5 588,-528.5 594,-528.5 600,-534.5 600,-540.5 600,-540.5 600,-599.5 600,-599.5 600,-605.5 594,-611.5 588,-611.5\"/>\n<text text-anchor=\"start\" x=\"456\" y=\"-596.3\" font-family=\"Helvetica,sans-Serif\" font-size=\"14.00\" fill=\"#000000\">node #6</text>\n<text text-anchor=\"start\" x=\"453.5\" y=\"-581.3\" font-family=\"Helvetica,sans-Serif\" font-size=\"14.00\" fill=\"#000000\">gini = 0.0</text>\n<text text-anchor=\"start\" x=\"431\" y=\"-566.3\" font-family=\"Helvetica,sans-Serif\" font-size=\"14.00\" fill=\"#000000\">samples = 0.2%</text>\n<text text-anchor=\"start\" x=\"374\" y=\"-551.3\" font-family=\"Helvetica,sans-Serif\" font-size=\"14.00\" fill=\"#000000\">value = [0.0, 1.0, 0.0, 0.0, 0.0, 0.0]</text>\n<text text-anchor=\"start\" x=\"449.5\" y=\"-536.3\" font-family=\"Helvetica,sans-Serif\" font-size=\"14.00\" fill=\"#000000\">class = 10</text>\n</g>\n<!-- 4&#45;&gt;6 -->\n<g id=\"edge6\" class=\"edge\">\n<title>4&#45;&gt;6</title>\n<path fill=\"none\" stroke=\"#000000\" d=\"M410.8021,-654.8642C420.612,-643.3333 431.0698,-631.0408 440.893,-619.4942\"/>\n<polygon fill=\"#000000\" stroke=\"#000000\" points=\"443.7625,-621.5227 447.5765,-611.6381 438.4309,-616.9868 443.7625,-621.5227\"/>\n</g>\n<!-- 8 -->\n<g id=\"node9\" class=\"node\">\n<title>8</title>\n<path fill=\"#9de539\" stroke=\"#000000\" d=\"M726,-745.5C726,-745.5 516,-745.5 516,-745.5 510,-745.5 504,-739.5 504,-733.5 504,-733.5 504,-674.5 504,-674.5 504,-668.5 510,-662.5 516,-662.5 516,-662.5 726,-662.5 726,-662.5 732,-662.5 738,-668.5 738,-674.5 738,-674.5 738,-733.5 738,-733.5 738,-739.5 732,-745.5 726,-745.5\"/>\n<text text-anchor=\"start\" x=\"594\" y=\"-730.3\" font-family=\"Helvetica,sans-Serif\" font-size=\"14.00\" fill=\"#000000\">node #8</text>\n<text text-anchor=\"start\" x=\"591.5\" y=\"-715.3\" font-family=\"Helvetica,sans-Serif\" font-size=\"14.00\" fill=\"#000000\">gini = 0.0</text>\n<text text-anchor=\"start\" x=\"569\" y=\"-700.3\" font-family=\"Helvetica,sans-Serif\" font-size=\"14.00\" fill=\"#000000\">samples = 0.8%</text>\n<text text-anchor=\"start\" x=\"512\" y=\"-685.3\" font-family=\"Helvetica,sans-Serif\" font-size=\"14.00\" fill=\"#000000\">value = [0.0, 1.0, 0.0, 0.0, 0.0, 0.0]</text>\n<text text-anchor=\"start\" x=\"587.5\" y=\"-670.3\" font-family=\"Helvetica,sans-Serif\" font-size=\"14.00\" fill=\"#000000\">class = 10</text>\n</g>\n<!-- 7&#45;&gt;8 -->\n<g id=\"edge8\" class=\"edge\">\n<title>7&#45;&gt;8</title>\n<path fill=\"none\" stroke=\"#000000\" d=\"M705.8642,-788.8642C694.1115,-777.1115 681.5677,-764.5677 669.8289,-752.8289\"/>\n<polygon fill=\"#000000\" stroke=\"#000000\" points=\"672.1841,-750.2343 662.6381,-745.6381 667.2343,-755.1841 672.1841,-750.2343\"/>\n</g>\n<!-- 9 -->\n<g id=\"node10\" class=\"node\">\n<title>9</title>\n<path fill=\"#e58139\" stroke=\"#000000\" d=\"M978,-745.5C978,-745.5 768,-745.5 768,-745.5 762,-745.5 756,-739.5 756,-733.5 756,-733.5 756,-674.5 756,-674.5 756,-668.5 762,-662.5 768,-662.5 768,-662.5 978,-662.5 978,-662.5 984,-662.5 990,-668.5 990,-674.5 990,-674.5 990,-733.5 990,-733.5 990,-739.5 984,-745.5 978,-745.5\"/>\n<text text-anchor=\"start\" x=\"846\" y=\"-730.3\" font-family=\"Helvetica,sans-Serif\" font-size=\"14.00\" fill=\"#000000\">node #9</text>\n<text text-anchor=\"start\" x=\"843.5\" y=\"-715.3\" font-family=\"Helvetica,sans-Serif\" font-size=\"14.00\" fill=\"#000000\">gini = 0.0</text>\n<text text-anchor=\"start\" x=\"821\" y=\"-700.3\" font-family=\"Helvetica,sans-Serif\" font-size=\"14.00\" fill=\"#000000\">samples = 0.2%</text>\n<text text-anchor=\"start\" x=\"764\" y=\"-685.3\" font-family=\"Helvetica,sans-Serif\" font-size=\"14.00\" fill=\"#000000\">value = [1.0, 0.0, 0.0, 0.0, 0.0, 0.0]</text>\n<text text-anchor=\"start\" x=\"844\" y=\"-670.3\" font-family=\"Helvetica,sans-Serif\" font-size=\"14.00\" fill=\"#000000\">class = 5</text>\n</g>\n<!-- 7&#45;&gt;9 -->\n<g id=\"edge9\" class=\"edge\">\n<title>7&#45;&gt;9</title>\n<path fill=\"none\" stroke=\"#000000\" d=\"M798.2688,-788.8642C808.5206,-777.2224 819.4559,-764.8043 829.7087,-753.1613\"/>\n<polygon fill=\"#000000\" stroke=\"#000000\" points=\"832.3515,-755.4562 836.3336,-745.6381 827.098,-750.83 832.3515,-755.4562\"/>\n</g>\n<!-- 11 -->\n<g id=\"node12\" class=\"node\">\n<title>11</title>\n<path fill=\"#aae853\" stroke=\"#000000\" d=\"M1422.5,-887C1422.5,-887 1171.5,-887 1171.5,-887 1165.5,-887 1159.5,-881 1159.5,-875 1159.5,-875 1159.5,-801 1159.5,-801 1159.5,-795 1165.5,-789 1171.5,-789 1171.5,-789 1422.5,-789 1422.5,-789 1428.5,-789 1434.5,-795 1434.5,-801 1434.5,-801 1434.5,-875 1434.5,-875 1434.5,-881 1428.5,-887 1422.5,-887\"/>\n<text text-anchor=\"start\" x=\"1266\" y=\"-871.8\" font-family=\"Helvetica,sans-Serif\" font-size=\"14.00\" fill=\"#000000\">node #11</text>\n<text text-anchor=\"start\" x=\"1262\" y=\"-856.8\" font-family=\"Helvetica,sans-Serif\" font-size=\"14.00\" fill=\"#000000\">3PA ≤ 5.05</text>\n<text text-anchor=\"start\" x=\"1263.5\" y=\"-841.8\" font-family=\"Helvetica,sans-Serif\" font-size=\"14.00\" fill=\"#000000\">gini = 0.22</text>\n<text text-anchor=\"start\" x=\"1241\" y=\"-826.8\" font-family=\"Helvetica,sans-Serif\" font-size=\"14.00\" fill=\"#000000\">samples = 33.3%</text>\n<text text-anchor=\"start\" x=\"1167.5\" y=\"-811.8\" font-family=\"Helvetica,sans-Serif\" font-size=\"14.00\" fill=\"#000000\">value = [0.051, 0.879, 0.07, 0.0, 0.0, 0.0]</text>\n<text text-anchor=\"start\" x=\"1263.5\" y=\"-796.8\" font-family=\"Helvetica,sans-Serif\" font-size=\"14.00\" fill=\"#000000\">class = 10</text>\n</g>\n<!-- 10&#45;&gt;11 -->\n<g id=\"edge11\" class=\"edge\">\n<title>10&#45;&gt;11</title>\n<path fill=\"none\" stroke=\"#000000\" d=\"M1297,-922.8642C1297,-914.5802 1297,-905.903 1297,-897.3918\"/>\n<polygon fill=\"#000000\" stroke=\"#000000\" points=\"1300.5001,-897.1298 1297,-887.1298 1293.5001,-897.1299 1300.5001,-897.1298\"/>\n</g>\n<!-- 28 -->\n<g id=\"node29\" class=\"node\">\n<title>28</title>\n<path fill=\"#dffbeb\" stroke=\"#000000\" d=\"M2212,-887C2212,-887 1928,-887 1928,-887 1922,-887 1916,-881 1916,-875 1916,-875 1916,-801 1916,-801 1916,-795 1922,-789 1928,-789 1928,-789 2212,-789 2212,-789 2218,-789 2224,-795 2224,-801 2224,-801 2224,-875 2224,-875 2224,-881 2218,-887 2212,-887\"/>\n<text text-anchor=\"start\" x=\"2039\" y=\"-871.8\" font-family=\"Helvetica,sans-Serif\" font-size=\"14.00\" fill=\"#000000\">node #28</text>\n<text text-anchor=\"start\" x=\"2038\" y=\"-856.8\" font-family=\"Helvetica,sans-Serif\" font-size=\"14.00\" fill=\"#000000\">FG ≤ 5.55</text>\n<text text-anchor=\"start\" x=\"2036.5\" y=\"-841.8\" font-family=\"Helvetica,sans-Serif\" font-size=\"14.00\" fill=\"#000000\">gini = 0.68</text>\n<text text-anchor=\"start\" x=\"2014\" y=\"-826.8\" font-family=\"Helvetica,sans-Serif\" font-size=\"14.00\" fill=\"#000000\">samples = 27.3%</text>\n<text text-anchor=\"start\" x=\"1924\" y=\"-811.8\" font-family=\"Helvetica,sans-Serif\" font-size=\"14.00\" fill=\"#000000\">value = [0.0, 0.023, 0.434, 0.326, 0.14, 0.078]</text>\n<text text-anchor=\"start\" x=\"2036.5\" y=\"-796.8\" font-family=\"Helvetica,sans-Serif\" font-size=\"14.00\" fill=\"#000000\">class = 15</text>\n</g>\n<!-- 10&#45;&gt;28 -->\n<g id=\"edge28\" class=\"edge\">\n<title>10&#45;&gt;28</title>\n<path fill=\"none\" stroke=\"#000000\" d=\"M1463.7778,-943.089C1594.5192,-920.4249 1775.4898,-889.0535 1905.6135,-866.4965\"/>\n<polygon fill=\"#000000\" stroke=\"#000000\" points=\"1906.423,-869.9085 1915.6782,-864.7518 1905.2273,-863.0113 1906.423,-869.9085\"/>\n</g>\n<!-- 12 -->\n<g id=\"node13\" class=\"node\">\n<title>12</title>\n<path fill=\"#a5e74a\" stroke=\"#000000\" d=\"M1280,-753C1280,-753 1020,-753 1020,-753 1014,-753 1008,-747 1008,-741 1008,-741 1008,-667 1008,-667 1008,-661 1014,-655 1020,-655 1020,-655 1280,-655 1280,-655 1286,-655 1292,-661 1292,-667 1292,-667 1292,-741 1292,-741 1292,-747 1286,-753 1280,-753\"/>\n<text text-anchor=\"start\" x=\"1119\" y=\"-737.8\" font-family=\"Helvetica,sans-Serif\" font-size=\"14.00\" fill=\"#000000\">node #12</text>\n<text text-anchor=\"start\" x=\"1118\" y=\"-722.8\" font-family=\"Helvetica,sans-Serif\" font-size=\"14.00\" fill=\"#000000\">FG ≤ 2.05</text>\n<text text-anchor=\"start\" x=\"1112\" y=\"-707.8\" font-family=\"Helvetica,sans-Serif\" font-size=\"14.00\" fill=\"#000000\">gini = 0.152</text>\n<text text-anchor=\"start\" x=\"1094\" y=\"-692.8\" font-family=\"Helvetica,sans-Serif\" font-size=\"14.00\" fill=\"#000000\">samples = 31.4%</text>\n<text text-anchor=\"start\" x=\"1016\" y=\"-677.8\" font-family=\"Helvetica,sans-Serif\" font-size=\"14.00\" fill=\"#000000\">value = [0.054, 0.919, 0.027, 0.0, 0.0, 0.0]</text>\n<text text-anchor=\"start\" x=\"1116.5\" y=\"-662.8\" font-family=\"Helvetica,sans-Serif\" font-size=\"14.00\" fill=\"#000000\">class = 10</text>\n</g>\n<!-- 11&#45;&gt;12 -->\n<g id=\"edge12\" class=\"edge\">\n<title>11&#45;&gt;12</title>\n<path fill=\"none\" stroke=\"#000000\" d=\"M1243.0973,-788.8642C1232.8112,-779.4878 1221.9726,-769.6077 1211.4708,-760.0346\"/>\n<polygon fill=\"#000000\" stroke=\"#000000\" points=\"1213.6443,-757.28 1203.8962,-753.1298 1208.9286,-762.4532 1213.6443,-757.28\"/>\n</g>\n<!-- 25 -->\n<g id=\"node26\" class=\"node\">\n<title>25</title>\n<path fill=\"#72eca5\" stroke=\"#000000\" d=\"M1565.5,-753C1565.5,-753 1322.5,-753 1322.5,-753 1316.5,-753 1310.5,-747 1310.5,-741 1310.5,-741 1310.5,-667 1310.5,-667 1310.5,-661 1316.5,-655 1322.5,-655 1322.5,-655 1565.5,-655 1565.5,-655 1571.5,-655 1577.5,-661 1577.5,-667 1577.5,-667 1577.5,-741 1577.5,-741 1577.5,-747 1571.5,-753 1565.5,-753\"/>\n<text text-anchor=\"start\" x=\"1413\" y=\"-737.8\" font-family=\"Helvetica,sans-Serif\" font-size=\"14.00\" fill=\"#000000\">node #25</text>\n<text text-anchor=\"start\" x=\"1412\" y=\"-722.8\" font-family=\"Helvetica,sans-Serif\" font-size=\"14.00\" fill=\"#000000\">FG ≤ 3.25</text>\n<text text-anchor=\"start\" x=\"1406\" y=\"-707.8\" font-family=\"Helvetica,sans-Serif\" font-size=\"14.00\" fill=\"#000000\">gini = 0.346</text>\n<text text-anchor=\"start\" x=\"1392\" y=\"-692.8\" font-family=\"Helvetica,sans-Serif\" font-size=\"14.00\" fill=\"#000000\">samples = 1.9%</text>\n<text text-anchor=\"start\" x=\"1318.5\" y=\"-677.8\" font-family=\"Helvetica,sans-Serif\" font-size=\"14.00\" fill=\"#000000\">value = [0.0, 0.222, 0.778, 0.0, 0.0, 0.0]</text>\n<text text-anchor=\"start\" x=\"1410.5\" y=\"-662.8\" font-family=\"Helvetica,sans-Serif\" font-size=\"14.00\" fill=\"#000000\">class = 15</text>\n</g>\n<!-- 11&#45;&gt;25 -->\n<g id=\"edge25\" class=\"edge\">\n<title>11&#45;&gt;25</title>\n<path fill=\"none\" stroke=\"#000000\" d=\"M1350.9027,-788.8642C1361.1888,-779.4878 1372.0274,-769.6077 1382.5292,-760.0346\"/>\n<polygon fill=\"#000000\" stroke=\"#000000\" points=\"1385.0714,-762.4532 1390.1038,-753.1298 1380.3557,-757.28 1385.0714,-762.4532\"/>\n</g>\n<!-- 13 -->\n<g id=\"node14\" class=\"node\">\n<title>13</title>\n<path fill=\"#f4fce9\" stroke=\"#000000\" d=\"M986.5,-619C986.5,-619 743.5,-619 743.5,-619 737.5,-619 731.5,-613 731.5,-607 731.5,-607 731.5,-533 731.5,-533 731.5,-527 737.5,-521 743.5,-521 743.5,-521 986.5,-521 986.5,-521 992.5,-521 998.5,-527 998.5,-533 998.5,-533 998.5,-607 998.5,-607 998.5,-613 992.5,-619 986.5,-619\"/>\n<text text-anchor=\"start\" x=\"834\" y=\"-603.8\" font-family=\"Helvetica,sans-Serif\" font-size=\"14.00\" fill=\"#000000\">node #13</text>\n<text text-anchor=\"start\" x=\"823.5\" y=\"-588.8\" font-family=\"Helvetica,sans-Serif\" font-size=\"14.00\" fill=\"#000000\">FT% ≤ 0.634</text>\n<text text-anchor=\"start\" x=\"827\" y=\"-573.8\" font-family=\"Helvetica,sans-Serif\" font-size=\"14.00\" fill=\"#000000\">gini = 0.498</text>\n<text text-anchor=\"start\" x=\"813\" y=\"-558.8\" font-family=\"Helvetica,sans-Serif\" font-size=\"14.00\" fill=\"#000000\">samples = 3.6%</text>\n<text text-anchor=\"start\" x=\"739.5\" y=\"-543.8\" font-family=\"Helvetica,sans-Serif\" font-size=\"14.00\" fill=\"#000000\">value = [0.471, 0.529, 0.0, 0.0, 0.0, 0.0]</text>\n<text text-anchor=\"start\" x=\"831.5\" y=\"-528.8\" font-family=\"Helvetica,sans-Serif\" font-size=\"14.00\" fill=\"#000000\">class = 10</text>\n</g>\n<!-- 12&#45;&gt;13 -->\n<g id=\"edge13\" class=\"edge\">\n<title>12&#45;&gt;13</title>\n<path fill=\"none\" stroke=\"#000000\" d=\"M1045.4948,-654.8642C1023.713,-644.6229 1000.6534,-633.7809 978.5624,-623.3943\"/>\n<polygon fill=\"#000000\" stroke=\"#000000\" points=\"980.0314,-620.2174 969.4925,-619.1298 977.0529,-626.5522 980.0314,-620.2174\"/>\n</g>\n<!-- 18 -->\n<g id=\"node19\" class=\"node\">\n<title>18</title>\n<path fill=\"#a0e63f\" stroke=\"#000000\" d=\"M1271.5,-619C1271.5,-619 1028.5,-619 1028.5,-619 1022.5,-619 1016.5,-613 1016.5,-607 1016.5,-607 1016.5,-533 1016.5,-533 1016.5,-527 1022.5,-521 1028.5,-521 1028.5,-521 1271.5,-521 1271.5,-521 1277.5,-521 1283.5,-527 1283.5,-533 1283.5,-533 1283.5,-607 1283.5,-607 1283.5,-613 1277.5,-619 1271.5,-619\"/>\n<text text-anchor=\"start\" x=\"1119\" y=\"-603.8\" font-family=\"Helvetica,sans-Serif\" font-size=\"14.00\" fill=\"#000000\">node #18</text>\n<text text-anchor=\"start\" x=\"1117.5\" y=\"-588.8\" font-family=\"Helvetica,sans-Serif\" font-size=\"14.00\" fill=\"#000000\">FGA ≤ 7.8</text>\n<text text-anchor=\"start\" x=\"1112\" y=\"-573.8\" font-family=\"Helvetica,sans-Serif\" font-size=\"14.00\" fill=\"#000000\">gini = 0.059</text>\n<text text-anchor=\"start\" x=\"1094\" y=\"-558.8\" font-family=\"Helvetica,sans-Serif\" font-size=\"14.00\" fill=\"#000000\">samples = 27.8%</text>\n<text text-anchor=\"start\" x=\"1024.5\" y=\"-543.8\" font-family=\"Helvetica,sans-Serif\" font-size=\"14.00\" fill=\"#000000\">value = [0.0, 0.969, 0.031, 0.0, 0.0, 0.0]</text>\n<text text-anchor=\"start\" x=\"1116.5\" y=\"-528.8\" font-family=\"Helvetica,sans-Serif\" font-size=\"14.00\" fill=\"#000000\">class = 10</text>\n</g>\n<!-- 12&#45;&gt;18 -->\n<g id=\"edge18\" class=\"edge\">\n<title>12&#45;&gt;18</title>\n<path fill=\"none\" stroke=\"#000000\" d=\"M1150,-654.8642C1150,-646.5802 1150,-637.903 1150,-629.3918\"/>\n<polygon fill=\"#000000\" stroke=\"#000000\" points=\"1153.5001,-629.1298 1150,-619.1298 1146.5001,-629.1299 1153.5001,-629.1298\"/>\n</g>\n<!-- 14 -->\n<g id=\"node15\" class=\"node\">\n<title>14</title>\n<path fill=\"#e58139\" stroke=\"#000000\" d=\"M724,-477.5C724,-477.5 514,-477.5 514,-477.5 508,-477.5 502,-471.5 502,-465.5 502,-465.5 502,-406.5 502,-406.5 502,-400.5 508,-394.5 514,-394.5 514,-394.5 724,-394.5 724,-394.5 730,-394.5 736,-400.5 736,-406.5 736,-406.5 736,-465.5 736,-465.5 736,-471.5 730,-477.5 724,-477.5\"/>\n<text text-anchor=\"start\" x=\"588\" y=\"-462.3\" font-family=\"Helvetica,sans-Serif\" font-size=\"14.00\" fill=\"#000000\">node #14</text>\n<text text-anchor=\"start\" x=\"589.5\" y=\"-447.3\" font-family=\"Helvetica,sans-Serif\" font-size=\"14.00\" fill=\"#000000\">gini = 0.0</text>\n<text text-anchor=\"start\" x=\"567\" y=\"-432.3\" font-family=\"Helvetica,sans-Serif\" font-size=\"14.00\" fill=\"#000000\">samples = 1.5%</text>\n<text text-anchor=\"start\" x=\"510\" y=\"-417.3\" font-family=\"Helvetica,sans-Serif\" font-size=\"14.00\" fill=\"#000000\">value = [1.0, 0.0, 0.0, 0.0, 0.0, 0.0]</text>\n<text text-anchor=\"start\" x=\"590\" y=\"-402.3\" font-family=\"Helvetica,sans-Serif\" font-size=\"14.00\" fill=\"#000000\">class = 5</text>\n</g>\n<!-- 13&#45;&gt;14 -->\n<g id=\"edge14\" class=\"edge\">\n<title>13&#45;&gt;14</title>\n<path fill=\"none\" stroke=\"#000000\" d=\"M774.7955,-520.8642C751.7949,-508.3354 727.1436,-494.9075 704.3919,-482.5143\"/>\n<polygon fill=\"#000000\" stroke=\"#000000\" points=\"705.8961,-479.3481 695.4402,-477.6381 702.5476,-485.4953 705.8961,-479.3481\"/>\n</g>\n<!-- 15 -->\n<g id=\"node16\" class=\"node\">\n<title>15</title>\n<path fill=\"#a8e84f\" stroke=\"#000000\" d=\"M976,-485C976,-485 766,-485 766,-485 760,-485 754,-479 754,-473 754,-473 754,-399 754,-399 754,-393 760,-387 766,-387 766,-387 976,-387 976,-387 982,-387 988,-393 988,-399 988,-399 988,-473 988,-473 988,-479 982,-485 976,-485\"/>\n<text text-anchor=\"start\" x=\"840\" y=\"-469.8\" font-family=\"Helvetica,sans-Serif\" font-size=\"14.00\" fill=\"#000000\">node #15</text>\n<text text-anchor=\"start\" x=\"836\" y=\"-454.8\" font-family=\"Helvetica,sans-Serif\" font-size=\"14.00\" fill=\"#000000\">STL ≤ 0.25</text>\n<text text-anchor=\"start\" x=\"837.5\" y=\"-439.8\" font-family=\"Helvetica,sans-Serif\" font-size=\"14.00\" fill=\"#000000\">gini = 0.18</text>\n<text text-anchor=\"start\" x=\"819\" y=\"-424.8\" font-family=\"Helvetica,sans-Serif\" font-size=\"14.00\" fill=\"#000000\">samples = 2.1%</text>\n<text text-anchor=\"start\" x=\"762\" y=\"-409.8\" font-family=\"Helvetica,sans-Serif\" font-size=\"14.00\" fill=\"#000000\">value = [0.1, 0.9, 0.0, 0.0, 0.0, 0.0]</text>\n<text text-anchor=\"start\" x=\"837.5\" y=\"-394.8\" font-family=\"Helvetica,sans-Serif\" font-size=\"14.00\" fill=\"#000000\">class = 10</text>\n</g>\n<!-- 13&#45;&gt;15 -->\n<g id=\"edge15\" class=\"edge\">\n<title>13&#45;&gt;15</title>\n<path fill=\"none\" stroke=\"#000000\" d=\"M867.2001,-520.8642C867.571,-512.5802 867.9596,-503.903 868.3407,-495.3918\"/>\n<polygon fill=\"#000000\" stroke=\"#000000\" points=\"871.8492,-495.2764 868.8002,-485.1298 864.8563,-494.9632 871.8492,-495.2764\"/>\n</g>\n<!-- 16 -->\n<g id=\"node17\" class=\"node\">\n<title>16</title>\n<path fill=\"#e58139\" stroke=\"#000000\" d=\"M850,-343.5C850,-343.5 640,-343.5 640,-343.5 634,-343.5 628,-337.5 628,-331.5 628,-331.5 628,-272.5 628,-272.5 628,-266.5 634,-260.5 640,-260.5 640,-260.5 850,-260.5 850,-260.5 856,-260.5 862,-266.5 862,-272.5 862,-272.5 862,-331.5 862,-331.5 862,-337.5 856,-343.5 850,-343.5\"/>\n<text text-anchor=\"start\" x=\"714\" y=\"-328.3\" font-family=\"Helvetica,sans-Serif\" font-size=\"14.00\" fill=\"#000000\">node #16</text>\n<text text-anchor=\"start\" x=\"715.5\" y=\"-313.3\" font-family=\"Helvetica,sans-Serif\" font-size=\"14.00\" fill=\"#000000\">gini = 0.0</text>\n<text text-anchor=\"start\" x=\"693\" y=\"-298.3\" font-family=\"Helvetica,sans-Serif\" font-size=\"14.00\" fill=\"#000000\">samples = 0.2%</text>\n<text text-anchor=\"start\" x=\"636\" y=\"-283.3\" font-family=\"Helvetica,sans-Serif\" font-size=\"14.00\" fill=\"#000000\">value = [1.0, 0.0, 0.0, 0.0, 0.0, 0.0]</text>\n<text text-anchor=\"start\" x=\"716\" y=\"-268.3\" font-family=\"Helvetica,sans-Serif\" font-size=\"14.00\" fill=\"#000000\">class = 5</text>\n</g>\n<!-- 15&#45;&gt;16 -->\n<g id=\"edge16\" class=\"edge\">\n<title>15&#45;&gt;16</title>\n<path fill=\"none\" stroke=\"#000000\" d=\"M824.7977,-386.8642C813.8509,-375.2224 802.1742,-362.8043 791.2263,-351.1613\"/>\n<polygon fill=\"#000000\" stroke=\"#000000\" points=\"793.5524,-348.5258 784.1523,-343.6381 788.4527,-353.321 793.5524,-348.5258\"/>\n</g>\n<!-- 17 -->\n<g id=\"node18\" class=\"node\">\n<title>17</title>\n<path fill=\"#9de539\" stroke=\"#000000\" d=\"M1102,-343.5C1102,-343.5 892,-343.5 892,-343.5 886,-343.5 880,-337.5 880,-331.5 880,-331.5 880,-272.5 880,-272.5 880,-266.5 886,-260.5 892,-260.5 892,-260.5 1102,-260.5 1102,-260.5 1108,-260.5 1114,-266.5 1114,-272.5 1114,-272.5 1114,-331.5 1114,-331.5 1114,-337.5 1108,-343.5 1102,-343.5\"/>\n<text text-anchor=\"start\" x=\"966\" y=\"-328.3\" font-family=\"Helvetica,sans-Serif\" font-size=\"14.00\" fill=\"#000000\">node #17</text>\n<text text-anchor=\"start\" x=\"967.5\" y=\"-313.3\" font-family=\"Helvetica,sans-Serif\" font-size=\"14.00\" fill=\"#000000\">gini = 0.0</text>\n<text text-anchor=\"start\" x=\"945\" y=\"-298.3\" font-family=\"Helvetica,sans-Serif\" font-size=\"14.00\" fill=\"#000000\">samples = 1.9%</text>\n<text text-anchor=\"start\" x=\"888\" y=\"-283.3\" font-family=\"Helvetica,sans-Serif\" font-size=\"14.00\" fill=\"#000000\">value = [0.0, 1.0, 0.0, 0.0, 0.0, 0.0]</text>\n<text text-anchor=\"start\" x=\"963.5\" y=\"-268.3\" font-family=\"Helvetica,sans-Serif\" font-size=\"14.00\" fill=\"#000000\">class = 10</text>\n</g>\n<!-- 15&#45;&gt;17 -->\n<g id=\"edge17\" class=\"edge\">\n<title>15&#45;&gt;17</title>\n<path fill=\"none\" stroke=\"#000000\" d=\"M917.2023,-386.8642C928.1491,-375.2224 939.8258,-362.8043 950.7737,-351.1613\"/>\n<polygon fill=\"#000000\" stroke=\"#000000\" points=\"953.5473,-353.321 957.8477,-343.6381 948.4476,-348.5258 953.5473,-353.321\"/>\n</g>\n<!-- 19 -->\n<g id=\"node20\" class=\"node\">\n<title>19</title>\n<path fill=\"#9de539\" stroke=\"#000000\" d=\"M1238,-477.5C1238,-477.5 1028,-477.5 1028,-477.5 1022,-477.5 1016,-471.5 1016,-465.5 1016,-465.5 1016,-406.5 1016,-406.5 1016,-400.5 1022,-394.5 1028,-394.5 1028,-394.5 1238,-394.5 1238,-394.5 1244,-394.5 1250,-400.5 1250,-406.5 1250,-406.5 1250,-465.5 1250,-465.5 1250,-471.5 1244,-477.5 1238,-477.5\"/>\n<text text-anchor=\"start\" x=\"1102\" y=\"-462.3\" font-family=\"Helvetica,sans-Serif\" font-size=\"14.00\" fill=\"#000000\">node #19</text>\n<text text-anchor=\"start\" x=\"1103.5\" y=\"-447.3\" font-family=\"Helvetica,sans-Serif\" font-size=\"14.00\" fill=\"#000000\">gini = 0.0</text>\n<text text-anchor=\"start\" x=\"1077\" y=\"-432.3\" font-family=\"Helvetica,sans-Serif\" font-size=\"14.00\" fill=\"#000000\">samples = 24.8%</text>\n<text text-anchor=\"start\" x=\"1024\" y=\"-417.3\" font-family=\"Helvetica,sans-Serif\" font-size=\"14.00\" fill=\"#000000\">value = [0.0, 1.0, 0.0, 0.0, 0.0, 0.0]</text>\n<text text-anchor=\"start\" x=\"1099.5\" y=\"-402.3\" font-family=\"Helvetica,sans-Serif\" font-size=\"14.00\" fill=\"#000000\">class = 10</text>\n</g>\n<!-- 18&#45;&gt;19 -->\n<g id=\"edge19\" class=\"edge\">\n<title>18&#45;&gt;19</title>\n<path fill=\"none\" stroke=\"#000000\" d=\"M1143.7664,-520.8642C1142.4019,-510.1094 1140.9535,-498.6921 1139.5761,-487.8354\"/>\n<polygon fill=\"#000000\" stroke=\"#000000\" points=\"1143.0133,-487.1181 1138.2825,-477.6381 1136.0689,-487.9992 1143.0133,-487.1181\"/>\n</g>\n<!-- 20 -->\n<g id=\"node21\" class=\"node\">\n<title>20</title>\n<path fill=\"#c4ef88\" stroke=\"#000000\" d=\"M1523.5,-485C1523.5,-485 1280.5,-485 1280.5,-485 1274.5,-485 1268.5,-479 1268.5,-473 1268.5,-473 1268.5,-399 1268.5,-399 1268.5,-393 1274.5,-387 1280.5,-387 1280.5,-387 1523.5,-387 1523.5,-387 1529.5,-387 1535.5,-393 1535.5,-399 1535.5,-399 1535.5,-473 1535.5,-473 1535.5,-479 1529.5,-485 1523.5,-485\"/>\n<text text-anchor=\"start\" x=\"1371\" y=\"-469.8\" font-family=\"Helvetica,sans-Serif\" font-size=\"14.00\" fill=\"#000000\">node #20</text>\n<text text-anchor=\"start\" x=\"1375\" y=\"-454.8\" font-family=\"Helvetica,sans-Serif\" font-size=\"14.00\" fill=\"#000000\">3P ≤ 1.5</text>\n<text text-anchor=\"start\" x=\"1364\" y=\"-439.8\" font-family=\"Helvetica,sans-Serif\" font-size=\"14.00\" fill=\"#000000\">gini = 0.408</text>\n<text text-anchor=\"start\" x=\"1350\" y=\"-424.8\" font-family=\"Helvetica,sans-Serif\" font-size=\"14.00\" fill=\"#000000\">samples = 3.0%</text>\n<text text-anchor=\"start\" x=\"1276.5\" y=\"-409.8\" font-family=\"Helvetica,sans-Serif\" font-size=\"14.00\" fill=\"#000000\">value = [0.0, 0.714, 0.286, 0.0, 0.0, 0.0]</text>\n<text text-anchor=\"start\" x=\"1368.5\" y=\"-394.8\" font-family=\"Helvetica,sans-Serif\" font-size=\"14.00\" fill=\"#000000\">class = 10</text>\n</g>\n<!-- 18&#45;&gt;20 -->\n<g id=\"edge20\" class=\"edge\">\n<title>18&#45;&gt;20</title>\n<path fill=\"none\" stroke=\"#000000\" d=\"M1242.4046,-520.8642C1261.3219,-510.805 1281.3293,-500.1662 1300.5443,-489.9486\"/>\n<polygon fill=\"#000000\" stroke=\"#000000\" points=\"1302.4205,-492.9151 1309.6066,-485.1298 1299.134,-486.7346 1302.4205,-492.9151\"/>\n</g>\n<!-- 21 -->\n<g id=\"node22\" class=\"node\">\n<title>21</title>\n<path fill=\"#9de539\" stroke=\"#000000\" d=\"M1487,-343.5C1487,-343.5 1277,-343.5 1277,-343.5 1271,-343.5 1265,-337.5 1265,-331.5 1265,-331.5 1265,-272.5 1265,-272.5 1265,-266.5 1271,-260.5 1277,-260.5 1277,-260.5 1487,-260.5 1487,-260.5 1493,-260.5 1499,-266.5 1499,-272.5 1499,-272.5 1499,-331.5 1499,-331.5 1499,-337.5 1493,-343.5 1487,-343.5\"/>\n<text text-anchor=\"start\" x=\"1351\" y=\"-328.3\" font-family=\"Helvetica,sans-Serif\" font-size=\"14.00\" fill=\"#000000\">node #21</text>\n<text text-anchor=\"start\" x=\"1352.5\" y=\"-313.3\" font-family=\"Helvetica,sans-Serif\" font-size=\"14.00\" fill=\"#000000\">gini = 0.0</text>\n<text text-anchor=\"start\" x=\"1330\" y=\"-298.3\" font-family=\"Helvetica,sans-Serif\" font-size=\"14.00\" fill=\"#000000\">samples = 1.7%</text>\n<text text-anchor=\"start\" x=\"1273\" y=\"-283.3\" font-family=\"Helvetica,sans-Serif\" font-size=\"14.00\" fill=\"#000000\">value = [0.0, 1.0, 0.0, 0.0, 0.0, 0.0]</text>\n<text text-anchor=\"start\" x=\"1348.5\" y=\"-268.3\" font-family=\"Helvetica,sans-Serif\" font-size=\"14.00\" fill=\"#000000\">class = 10</text>\n</g>\n<!-- 20&#45;&gt;21 -->\n<g id=\"edge21\" class=\"edge\">\n<title>20&#45;&gt;21</title>\n<path fill=\"none\" stroke=\"#000000\" d=\"M1394.6663,-386.8642C1393.0611,-376.1094 1391.357,-364.6921 1389.7366,-353.8354\"/>\n<polygon fill=\"#000000\" stroke=\"#000000\" points=\"1393.1526,-353.0119 1388.2146,-343.6381 1386.2293,-354.0453 1393.1526,-353.0119\"/>\n</g>\n<!-- 22 -->\n<g id=\"node23\" class=\"node\">\n<title>22</title>\n<path fill=\"#9cf2c0\" stroke=\"#000000\" d=\"M1772.5,-351C1772.5,-351 1529.5,-351 1529.5,-351 1523.5,-351 1517.5,-345 1517.5,-339 1517.5,-339 1517.5,-265 1517.5,-265 1517.5,-259 1523.5,-253 1529.5,-253 1529.5,-253 1772.5,-253 1772.5,-253 1778.5,-253 1784.5,-259 1784.5,-265 1784.5,-265 1784.5,-339 1784.5,-339 1784.5,-345 1778.5,-351 1772.5,-351\"/>\n<text text-anchor=\"start\" x=\"1620\" y=\"-335.8\" font-family=\"Helvetica,sans-Serif\" font-size=\"14.00\" fill=\"#000000\">node #22</text>\n<text text-anchor=\"start\" x=\"1616\" y=\"-320.8\" font-family=\"Helvetica,sans-Serif\" font-size=\"14.00\" fill=\"#000000\">3PA ≤ 4.95</text>\n<text text-anchor=\"start\" x=\"1613\" y=\"-305.8\" font-family=\"Helvetica,sans-Serif\" font-size=\"14.00\" fill=\"#000000\">gini = 0.444</text>\n<text text-anchor=\"start\" x=\"1599\" y=\"-290.8\" font-family=\"Helvetica,sans-Serif\" font-size=\"14.00\" fill=\"#000000\">samples = 1.3%</text>\n<text text-anchor=\"start\" x=\"1525.5\" y=\"-275.8\" font-family=\"Helvetica,sans-Serif\" font-size=\"14.00\" fill=\"#000000\">value = [0.0, 0.333, 0.667, 0.0, 0.0, 0.0]</text>\n<text text-anchor=\"start\" x=\"1617.5\" y=\"-260.8\" font-family=\"Helvetica,sans-Serif\" font-size=\"14.00\" fill=\"#000000\">class = 15</text>\n</g>\n<!-- 20&#45;&gt;22 -->\n<g id=\"edge22\" class=\"edge\">\n<title>20&#45;&gt;22</title>\n<path fill=\"none\" stroke=\"#000000\" d=\"M1493.3045,-386.8642C1511.9967,-376.805 1531.7658,-366.1662 1550.7521,-355.9486\"/>\n<polygon fill=\"#000000\" stroke=\"#000000\" points=\"1552.5593,-358.9508 1559.7065,-351.1298 1549.242,-352.7867 1552.5593,-358.9508\"/>\n</g>\n<!-- 23 -->\n<g id=\"node24\" class=\"node\">\n<title>23</title>\n<path fill=\"#39e581\" stroke=\"#000000\" d=\"M1516,-209.5C1516,-209.5 1306,-209.5 1306,-209.5 1300,-209.5 1294,-203.5 1294,-197.5 1294,-197.5 1294,-138.5 1294,-138.5 1294,-132.5 1300,-126.5 1306,-126.5 1306,-126.5 1516,-126.5 1516,-126.5 1522,-126.5 1528,-132.5 1528,-138.5 1528,-138.5 1528,-197.5 1528,-197.5 1528,-203.5 1522,-209.5 1516,-209.5\"/>\n<text text-anchor=\"start\" x=\"1380\" y=\"-194.3\" font-family=\"Helvetica,sans-Serif\" font-size=\"14.00\" fill=\"#000000\">node #23</text>\n<text text-anchor=\"start\" x=\"1381.5\" y=\"-179.3\" font-family=\"Helvetica,sans-Serif\" font-size=\"14.00\" fill=\"#000000\">gini = 0.0</text>\n<text text-anchor=\"start\" x=\"1359\" y=\"-164.3\" font-family=\"Helvetica,sans-Serif\" font-size=\"14.00\" fill=\"#000000\">samples = 0.8%</text>\n<text text-anchor=\"start\" x=\"1302\" y=\"-149.3\" font-family=\"Helvetica,sans-Serif\" font-size=\"14.00\" fill=\"#000000\">value = [0.0, 0.0, 1.0, 0.0, 0.0, 0.0]</text>\n<text text-anchor=\"start\" x=\"1377.5\" y=\"-134.3\" font-family=\"Helvetica,sans-Serif\" font-size=\"14.00\" fill=\"#000000\">class = 15</text>\n</g>\n<!-- 22&#45;&gt;23 -->\n<g id=\"edge23\" class=\"edge\">\n<title>22&#45;&gt;23</title>\n<path fill=\"none\" stroke=\"#000000\" d=\"M1562.9956,-252.8642C1540.556,-240.3354 1516.506,-226.9075 1494.3092,-214.5143\"/>\n<polygon fill=\"#000000\" stroke=\"#000000\" points=\"1496.0133,-211.4572 1485.5758,-209.6381 1492.6008,-217.5691 1496.0133,-211.4572\"/>\n</g>\n<!-- 24 -->\n<g id=\"node25\" class=\"node\">\n<title>24</title>\n<path fill=\"#9de539\" stroke=\"#000000\" d=\"M1768,-209.5C1768,-209.5 1558,-209.5 1558,-209.5 1552,-209.5 1546,-203.5 1546,-197.5 1546,-197.5 1546,-138.5 1546,-138.5 1546,-132.5 1552,-126.5 1558,-126.5 1558,-126.5 1768,-126.5 1768,-126.5 1774,-126.5 1780,-132.5 1780,-138.5 1780,-138.5 1780,-197.5 1780,-197.5 1780,-203.5 1774,-209.5 1768,-209.5\"/>\n<text text-anchor=\"start\" x=\"1632\" y=\"-194.3\" font-family=\"Helvetica,sans-Serif\" font-size=\"14.00\" fill=\"#000000\">node #24</text>\n<text text-anchor=\"start\" x=\"1633.5\" y=\"-179.3\" font-family=\"Helvetica,sans-Serif\" font-size=\"14.00\" fill=\"#000000\">gini = 0.0</text>\n<text text-anchor=\"start\" x=\"1611\" y=\"-164.3\" font-family=\"Helvetica,sans-Serif\" font-size=\"14.00\" fill=\"#000000\">samples = 0.4%</text>\n<text text-anchor=\"start\" x=\"1554\" y=\"-149.3\" font-family=\"Helvetica,sans-Serif\" font-size=\"14.00\" fill=\"#000000\">value = [0.0, 1.0, 0.0, 0.0, 0.0, 0.0]</text>\n<text text-anchor=\"start\" x=\"1629.5\" y=\"-134.3\" font-family=\"Helvetica,sans-Serif\" font-size=\"14.00\" fill=\"#000000\">class = 10</text>\n</g>\n<!-- 22&#45;&gt;24 -->\n<g id=\"edge24\" class=\"edge\">\n<title>22&#45;&gt;24</title>\n<path fill=\"none\" stroke=\"#000000\" d=\"M1655.4002,-252.8642C1656.3633,-242.1094 1657.3858,-230.6921 1658.358,-219.8354\"/>\n<polygon fill=\"#000000\" stroke=\"#000000\" points=\"1661.8652,-219.9105 1659.2712,-209.6381 1654.8931,-219.2861 1661.8652,-219.9105\"/>\n</g>\n<!-- 26 -->\n<g id=\"node27\" class=\"node\">\n<title>26</title>\n<path fill=\"#9de539\" stroke=\"#000000\" d=\"M1524,-611.5C1524,-611.5 1314,-611.5 1314,-611.5 1308,-611.5 1302,-605.5 1302,-599.5 1302,-599.5 1302,-540.5 1302,-540.5 1302,-534.5 1308,-528.5 1314,-528.5 1314,-528.5 1524,-528.5 1524,-528.5 1530,-528.5 1536,-534.5 1536,-540.5 1536,-540.5 1536,-599.5 1536,-599.5 1536,-605.5 1530,-611.5 1524,-611.5\"/>\n<text text-anchor=\"start\" x=\"1388\" y=\"-596.3\" font-family=\"Helvetica,sans-Serif\" font-size=\"14.00\" fill=\"#000000\">node #26</text>\n<text text-anchor=\"start\" x=\"1389.5\" y=\"-581.3\" font-family=\"Helvetica,sans-Serif\" font-size=\"14.00\" fill=\"#000000\">gini = 0.0</text>\n<text text-anchor=\"start\" x=\"1367\" y=\"-566.3\" font-family=\"Helvetica,sans-Serif\" font-size=\"14.00\" fill=\"#000000\">samples = 0.4%</text>\n<text text-anchor=\"start\" x=\"1310\" y=\"-551.3\" font-family=\"Helvetica,sans-Serif\" font-size=\"14.00\" fill=\"#000000\">value = [0.0, 1.0, 0.0, 0.0, 0.0, 0.0]</text>\n<text text-anchor=\"start\" x=\"1385.5\" y=\"-536.3\" font-family=\"Helvetica,sans-Serif\" font-size=\"14.00\" fill=\"#000000\">class = 10</text>\n</g>\n<!-- 25&#45;&gt;26 -->\n<g id=\"edge26\" class=\"edge\">\n<title>25&#45;&gt;26</title>\n<path fill=\"none\" stroke=\"#000000\" d=\"M1434.8329,-654.8642C1432.8057,-643.9985 1430.6524,-632.4566 1428.6082,-621.4998\"/>\n<polygon fill=\"#000000\" stroke=\"#000000\" points=\"1432.043,-620.8266 1426.7683,-611.6381 1425.1618,-622.1105 1432.043,-620.8266\"/>\n</g>\n<!-- 27 -->\n<g id=\"node28\" class=\"node\">\n<title>27</title>\n<path fill=\"#39e581\" stroke=\"#000000\" d=\"M1776,-611.5C1776,-611.5 1566,-611.5 1566,-611.5 1560,-611.5 1554,-605.5 1554,-599.5 1554,-599.5 1554,-540.5 1554,-540.5 1554,-534.5 1560,-528.5 1566,-528.5 1566,-528.5 1776,-528.5 1776,-528.5 1782,-528.5 1788,-534.5 1788,-540.5 1788,-540.5 1788,-599.5 1788,-599.5 1788,-605.5 1782,-611.5 1776,-611.5\"/>\n<text text-anchor=\"start\" x=\"1640\" y=\"-596.3\" font-family=\"Helvetica,sans-Serif\" font-size=\"14.00\" fill=\"#000000\">node #27</text>\n<text text-anchor=\"start\" x=\"1641.5\" y=\"-581.3\" font-family=\"Helvetica,sans-Serif\" font-size=\"14.00\" fill=\"#000000\">gini = 0.0</text>\n<text text-anchor=\"start\" x=\"1619\" y=\"-566.3\" font-family=\"Helvetica,sans-Serif\" font-size=\"14.00\" fill=\"#000000\">samples = 1.5%</text>\n<text text-anchor=\"start\" x=\"1562\" y=\"-551.3\" font-family=\"Helvetica,sans-Serif\" font-size=\"14.00\" fill=\"#000000\">value = [0.0, 0.0, 1.0, 0.0, 0.0, 0.0]</text>\n<text text-anchor=\"start\" x=\"1637.5\" y=\"-536.3\" font-family=\"Helvetica,sans-Serif\" font-size=\"14.00\" fill=\"#000000\">class = 15</text>\n</g>\n<!-- 25&#45;&gt;27 -->\n<g id=\"edge27\" class=\"edge\">\n<title>25&#45;&gt;27</title>\n<path fill=\"none\" stroke=\"#000000\" d=\"M1527.2374,-654.8642C1548.2738,-642.4463 1570.8064,-629.1451 1591.6456,-616.8435\"/>\n<polygon fill=\"#000000\" stroke=\"#000000\" points=\"1593.6314,-619.7357 1600.4638,-611.6381 1590.073,-613.7076 1593.6314,-619.7357\"/>\n</g>\n<!-- 29 -->\n<g id=\"node30\" class=\"node\">\n<title>29</title>\n<path fill=\"#56e993\" stroke=\"#000000\" d=\"M2195.5,-753C2195.5,-753 1944.5,-753 1944.5,-753 1938.5,-753 1932.5,-747 1932.5,-741 1932.5,-741 1932.5,-667 1932.5,-667 1932.5,-661 1938.5,-655 1944.5,-655 1944.5,-655 2195.5,-655 2195.5,-655 2201.5,-655 2207.5,-661 2207.5,-667 2207.5,-667 2207.5,-741 2207.5,-741 2207.5,-747 2201.5,-753 2195.5,-753\"/>\n<text text-anchor=\"start\" x=\"2039\" y=\"-737.8\" font-family=\"Helvetica,sans-Serif\" font-size=\"14.00\" fill=\"#000000\">node #29</text>\n<text text-anchor=\"start\" x=\"2028.5\" y=\"-722.8\" font-family=\"Helvetica,sans-Serif\" font-size=\"14.00\" fill=\"#000000\">FT% ≤ 0.621</text>\n<text text-anchor=\"start\" x=\"2032\" y=\"-707.8\" font-family=\"Helvetica,sans-Serif\" font-size=\"14.00\" fill=\"#000000\">gini = 0.239</text>\n<text text-anchor=\"start\" x=\"2014\" y=\"-692.8\" font-family=\"Helvetica,sans-Serif\" font-size=\"14.00\" fill=\"#000000\">samples = 12.7%</text>\n<text text-anchor=\"start\" x=\"1940.5\" y=\"-677.8\" font-family=\"Helvetica,sans-Serif\" font-size=\"14.00\" fill=\"#000000\">value = [0.0, 0.05, 0.867, 0.083, 0.0, 0.0]</text>\n<text text-anchor=\"start\" x=\"2036.5\" y=\"-662.8\" font-family=\"Helvetica,sans-Serif\" font-size=\"14.00\" fill=\"#000000\">class = 15</text>\n</g>\n<!-- 28&#45;&gt;29 -->\n<g id=\"edge29\" class=\"edge\">\n<title>28&#45;&gt;29</title>\n<path fill=\"none\" stroke=\"#000000\" d=\"M2070,-788.8642C2070,-780.5802 2070,-771.903 2070,-763.3918\"/>\n<polygon fill=\"#000000\" stroke=\"#000000\" points=\"2073.5001,-763.1298 2070,-753.1298 2066.5001,-763.1299 2073.5001,-763.1298\"/>\n</g>\n<!-- 44 -->\n<g id=\"node45\" class=\"node\">\n<title>44</title>\n<path fill=\"#b5daf5\" stroke=\"#000000\" d=\"M3515,-753C3515,-753 3239,-753 3239,-753 3233,-753 3227,-747 3227,-741 3227,-741 3227,-667 3227,-667 3227,-661 3233,-655 3239,-655 3239,-655 3515,-655 3515,-655 3521,-655 3527,-661 3527,-667 3527,-667 3527,-741 3527,-741 3527,-747 3521,-753 3515,-753\"/>\n<text text-anchor=\"start\" x=\"3346\" y=\"-737.8\" font-family=\"Helvetica,sans-Serif\" font-size=\"14.00\" fill=\"#000000\">node #44</text>\n<text text-anchor=\"start\" x=\"3345\" y=\"-722.8\" font-family=\"Helvetica,sans-Serif\" font-size=\"14.00\" fill=\"#000000\">FG ≤ 7.55</text>\n<text text-anchor=\"start\" x=\"3343.5\" y=\"-707.8\" font-family=\"Helvetica,sans-Serif\" font-size=\"14.00\" fill=\"#000000\">gini = 0.62</text>\n<text text-anchor=\"start\" x=\"3321\" y=\"-692.8\" font-family=\"Helvetica,sans-Serif\" font-size=\"14.00\" fill=\"#000000\">samples = 14.6%</text>\n<text text-anchor=\"start\" x=\"3235\" y=\"-677.8\" font-family=\"Helvetica,sans-Serif\" font-size=\"14.00\" fill=\"#000000\">value = [0.0, 0.0, 0.058, 0.536, 0.261, 0.145]</text>\n<text text-anchor=\"start\" x=\"3343.5\" y=\"-662.8\" font-family=\"Helvetica,sans-Serif\" font-size=\"14.00\" fill=\"#000000\">class = 20</text>\n</g>\n<!-- 28&#45;&gt;44 -->\n<g id=\"edge44\" class=\"edge\">\n<title>28&#45;&gt;44</title>\n<path fill=\"none\" stroke=\"#000000\" d=\"M2224.0949,-822.2014C2473.6035,-796.6206 2963.5822,-746.3856 3216.8936,-720.4149\"/>\n<polygon fill=\"#000000\" stroke=\"#000000\" points=\"3217.3274,-723.8888 3226.9183,-719.3871 3216.6134,-716.9254 3217.3274,-723.8888\"/>\n</g>\n<!-- 30 -->\n<g id=\"node31\" class=\"node\">\n<title>30</title>\n<path fill=\"#beee7b\" stroke=\"#000000\" d=\"M2045.5,-619C2045.5,-619 1818.5,-619 1818.5,-619 1812.5,-619 1806.5,-613 1806.5,-607 1806.5,-607 1806.5,-533 1806.5,-533 1806.5,-527 1812.5,-521 1818.5,-521 1818.5,-521 2045.5,-521 2045.5,-521 2051.5,-521 2057.5,-527 2057.5,-533 2057.5,-533 2057.5,-607 2057.5,-607 2057.5,-613 2051.5,-619 2045.5,-619\"/>\n<text text-anchor=\"start\" x=\"1901\" y=\"-603.8\" font-family=\"Helvetica,sans-Serif\" font-size=\"14.00\" fill=\"#000000\">node #30</text>\n<text text-anchor=\"start\" x=\"1900\" y=\"-588.8\" font-family=\"Helvetica,sans-Serif\" font-size=\"14.00\" fill=\"#000000\">FG ≤ 4.65</text>\n<text text-anchor=\"start\" x=\"1894\" y=\"-573.8\" font-family=\"Helvetica,sans-Serif\" font-size=\"14.00\" fill=\"#000000\">gini = 0.375</text>\n<text text-anchor=\"start\" x=\"1880\" y=\"-558.8\" font-family=\"Helvetica,sans-Serif\" font-size=\"14.00\" fill=\"#000000\">samples = 0.8%</text>\n<text text-anchor=\"start\" x=\"1814.5\" y=\"-543.8\" font-family=\"Helvetica,sans-Serif\" font-size=\"14.00\" fill=\"#000000\">value = [0.0, 0.75, 0.25, 0.0, 0.0, 0.0]</text>\n<text text-anchor=\"start\" x=\"1898.5\" y=\"-528.8\" font-family=\"Helvetica,sans-Serif\" font-size=\"14.00\" fill=\"#000000\">class = 10</text>\n</g>\n<!-- 29&#45;&gt;30 -->\n<g id=\"edge30\" class=\"edge\">\n<title>29&#45;&gt;30</title>\n<path fill=\"none\" stroke=\"#000000\" d=\"M2019.3975,-654.8642C2009.8349,-645.5788 1999.7637,-635.7995 1989.9946,-626.3136\"/>\n<polygon fill=\"#000000\" stroke=\"#000000\" points=\"1992.2089,-623.5852 1982.5964,-619.1298 1987.3325,-628.6072 1992.2089,-623.5852\"/>\n</g>\n<!-- 33 -->\n<g id=\"node34\" class=\"node\">\n<title>33</title>\n<path fill=\"#4ce88d\" stroke=\"#000000\" d=\"M2330.5,-619C2330.5,-619 2087.5,-619 2087.5,-619 2081.5,-619 2075.5,-613 2075.5,-607 2075.5,-607 2075.5,-533 2075.5,-533 2075.5,-527 2081.5,-521 2087.5,-521 2087.5,-521 2330.5,-521 2330.5,-521 2336.5,-521 2342.5,-527 2342.5,-533 2342.5,-533 2342.5,-607 2342.5,-607 2342.5,-613 2336.5,-619 2330.5,-619\"/>\n<text text-anchor=\"start\" x=\"2178\" y=\"-603.8\" font-family=\"Helvetica,sans-Serif\" font-size=\"14.00\" fill=\"#000000\">node #33</text>\n<text text-anchor=\"start\" x=\"2168\" y=\"-588.8\" font-family=\"Helvetica,sans-Serif\" font-size=\"14.00\" fill=\"#000000\">FGA ≤ 12.85</text>\n<text text-anchor=\"start\" x=\"2171\" y=\"-573.8\" font-family=\"Helvetica,sans-Serif\" font-size=\"14.00\" fill=\"#000000\">gini = 0.163</text>\n<text text-anchor=\"start\" x=\"2153\" y=\"-558.8\" font-family=\"Helvetica,sans-Serif\" font-size=\"14.00\" fill=\"#000000\">samples = 11.9%</text>\n<text text-anchor=\"start\" x=\"2083.5\" y=\"-543.8\" font-family=\"Helvetica,sans-Serif\" font-size=\"14.00\" fill=\"#000000\">value = [0.0, 0.0, 0.911, 0.089, 0.0, 0.0]</text>\n<text text-anchor=\"start\" x=\"2175.5\" y=\"-528.8\" font-family=\"Helvetica,sans-Serif\" font-size=\"14.00\" fill=\"#000000\">class = 15</text>\n</g>\n<!-- 29&#45;&gt;33 -->\n<g id=\"edge33\" class=\"edge\">\n<title>29&#45;&gt;33</title>\n<path fill=\"none\" stroke=\"#000000\" d=\"M2120.9692,-654.8642C2130.6011,-645.5788 2140.7453,-635.7995 2150.5852,-626.3136\"/>\n<polygon fill=\"#000000\" stroke=\"#000000\" points=\"2153.2667,-628.59 2158.037,-619.1298 2148.4084,-623.5505 2153.2667,-628.59\"/>\n</g>\n<!-- 31 -->\n<g id=\"node32\" class=\"node\">\n<title>31</title>\n<path fill=\"#9de539\" stroke=\"#000000\" d=\"M1785,-477.5C1785,-477.5 1575,-477.5 1575,-477.5 1569,-477.5 1563,-471.5 1563,-465.5 1563,-465.5 1563,-406.5 1563,-406.5 1563,-400.5 1569,-394.5 1575,-394.5 1575,-394.5 1785,-394.5 1785,-394.5 1791,-394.5 1797,-400.5 1797,-406.5 1797,-406.5 1797,-465.5 1797,-465.5 1797,-471.5 1791,-477.5 1785,-477.5\"/>\n<text text-anchor=\"start\" x=\"1649\" y=\"-462.3\" font-family=\"Helvetica,sans-Serif\" font-size=\"14.00\" fill=\"#000000\">node #31</text>\n<text text-anchor=\"start\" x=\"1650.5\" y=\"-447.3\" font-family=\"Helvetica,sans-Serif\" font-size=\"14.00\" fill=\"#000000\">gini = 0.0</text>\n<text text-anchor=\"start\" x=\"1628\" y=\"-432.3\" font-family=\"Helvetica,sans-Serif\" font-size=\"14.00\" fill=\"#000000\">samples = 0.6%</text>\n<text text-anchor=\"start\" x=\"1571\" y=\"-417.3\" font-family=\"Helvetica,sans-Serif\" font-size=\"14.00\" fill=\"#000000\">value = [0.0, 1.0, 0.0, 0.0, 0.0, 0.0]</text>\n<text text-anchor=\"start\" x=\"1646.5\" y=\"-402.3\" font-family=\"Helvetica,sans-Serif\" font-size=\"14.00\" fill=\"#000000\">class = 10</text>\n</g>\n<!-- 30&#45;&gt;31 -->\n<g id=\"edge31\" class=\"edge\">\n<title>30&#45;&gt;31</title>\n<path fill=\"none\" stroke=\"#000000\" d=\"M1839.5954,-520.8642C1815.9295,-508.28 1790.5578,-494.7887 1767.1653,-482.3498\"/>\n<polygon fill=\"#000000\" stroke=\"#000000\" points=\"1768.7772,-479.2429 1758.3046,-477.6381 1765.4907,-485.4234 1768.7772,-479.2429\"/>\n</g>\n<!-- 32 -->\n<g id=\"node33\" class=\"node\">\n<title>32</title>\n<path fill=\"#39e581\" stroke=\"#000000\" d=\"M2037,-477.5C2037,-477.5 1827,-477.5 1827,-477.5 1821,-477.5 1815,-471.5 1815,-465.5 1815,-465.5 1815,-406.5 1815,-406.5 1815,-400.5 1821,-394.5 1827,-394.5 1827,-394.5 2037,-394.5 2037,-394.5 2043,-394.5 2049,-400.5 2049,-406.5 2049,-406.5 2049,-465.5 2049,-465.5 2049,-471.5 2043,-477.5 2037,-477.5\"/>\n<text text-anchor=\"start\" x=\"1901\" y=\"-462.3\" font-family=\"Helvetica,sans-Serif\" font-size=\"14.00\" fill=\"#000000\">node #32</text>\n<text text-anchor=\"start\" x=\"1902.5\" y=\"-447.3\" font-family=\"Helvetica,sans-Serif\" font-size=\"14.00\" fill=\"#000000\">gini = 0.0</text>\n<text text-anchor=\"start\" x=\"1880\" y=\"-432.3\" font-family=\"Helvetica,sans-Serif\" font-size=\"14.00\" fill=\"#000000\">samples = 0.2%</text>\n<text text-anchor=\"start\" x=\"1823\" y=\"-417.3\" font-family=\"Helvetica,sans-Serif\" font-size=\"14.00\" fill=\"#000000\">value = [0.0, 0.0, 1.0, 0.0, 0.0, 0.0]</text>\n<text text-anchor=\"start\" x=\"1898.5\" y=\"-402.3\" font-family=\"Helvetica,sans-Serif\" font-size=\"14.00\" fill=\"#000000\">class = 15</text>\n</g>\n<!-- 30&#45;&gt;32 -->\n<g id=\"edge32\" class=\"edge\">\n<title>30&#45;&gt;32</title>\n<path fill=\"none\" stroke=\"#000000\" d=\"M1932,-520.8642C1932,-510.1094 1932,-498.6921 1932,-487.8354\"/>\n<polygon fill=\"#000000\" stroke=\"#000000\" points=\"1935.5001,-487.6381 1932,-477.6381 1928.5001,-487.6382 1935.5001,-487.6381\"/>\n</g>\n<!-- 34 -->\n<g id=\"node35\" class=\"node\">\n<title>34</title>\n<path fill=\"#41e686\" stroke=\"#000000\" d=\"M2322.5,-485C2322.5,-485 2079.5,-485 2079.5,-485 2073.5,-485 2067.5,-479 2067.5,-473 2067.5,-473 2067.5,-399 2067.5,-399 2067.5,-393 2073.5,-387 2079.5,-387 2079.5,-387 2322.5,-387 2322.5,-387 2328.5,-387 2334.5,-393 2334.5,-399 2334.5,-399 2334.5,-473 2334.5,-473 2334.5,-479 2328.5,-485 2322.5,-485\"/>\n<text text-anchor=\"start\" x=\"2170\" y=\"-469.8\" font-family=\"Helvetica,sans-Serif\" font-size=\"14.00\" fill=\"#000000\">node #34</text>\n<text text-anchor=\"start\" x=\"2170\" y=\"-454.8\" font-family=\"Helvetica,sans-Serif\" font-size=\"14.00\" fill=\"#000000\">FTA ≤ 4.8</text>\n<text text-anchor=\"start\" x=\"2163\" y=\"-439.8\" font-family=\"Helvetica,sans-Serif\" font-size=\"14.00\" fill=\"#000000\">gini = 0.075</text>\n<text text-anchor=\"start\" x=\"2145\" y=\"-424.8\" font-family=\"Helvetica,sans-Serif\" font-size=\"14.00\" fill=\"#000000\">samples = 10.8%</text>\n<text text-anchor=\"start\" x=\"2075.5\" y=\"-409.8\" font-family=\"Helvetica,sans-Serif\" font-size=\"14.00\" fill=\"#000000\">value = [0.0, 0.0, 0.961, 0.039, 0.0, 0.0]</text>\n<text text-anchor=\"start\" x=\"2167.5\" y=\"-394.8\" font-family=\"Helvetica,sans-Serif\" font-size=\"14.00\" fill=\"#000000\">class = 15</text>\n</g>\n<!-- 33&#45;&gt;34 -->\n<g id=\"edge34\" class=\"edge\">\n<title>33&#45;&gt;34</title>\n<path fill=\"none\" stroke=\"#000000\" d=\"M2206.0665,-520.8642C2205.5719,-512.5802 2205.0539,-503.903 2204.5458,-495.3918\"/>\n<polygon fill=\"#000000\" stroke=\"#000000\" points=\"2208.0229,-494.9034 2203.9331,-485.1298 2201.0354,-495.3207 2208.0229,-494.9034\"/>\n</g>\n<!-- 41 -->\n<g id=\"node42\" class=\"node\">\n<title>41</title>\n<path fill=\"#bddef6\" stroke=\"#000000\" d=\"M2575,-485C2575,-485 2365,-485 2365,-485 2359,-485 2353,-479 2353,-473 2353,-473 2353,-399 2353,-399 2353,-393 2359,-387 2365,-387 2365,-387 2575,-387 2575,-387 2581,-387 2587,-393 2587,-399 2587,-399 2587,-473 2587,-473 2587,-479 2581,-485 2575,-485\"/>\n<text text-anchor=\"start\" x=\"2439\" y=\"-469.8\" font-family=\"Helvetica,sans-Serif\" font-size=\"14.00\" fill=\"#000000\">node #41</text>\n<text text-anchor=\"start\" x=\"2432\" y=\"-454.8\" font-family=\"Helvetica,sans-Serif\" font-size=\"14.00\" fill=\"#000000\">ORB ≤ 0.55</text>\n<text text-anchor=\"start\" x=\"2436.5\" y=\"-439.8\" font-family=\"Helvetica,sans-Serif\" font-size=\"14.00\" fill=\"#000000\">gini = 0.48</text>\n<text text-anchor=\"start\" x=\"2418\" y=\"-424.8\" font-family=\"Helvetica,sans-Serif\" font-size=\"14.00\" fill=\"#000000\">samples = 1.1%</text>\n<text text-anchor=\"start\" x=\"2361\" y=\"-409.8\" font-family=\"Helvetica,sans-Serif\" font-size=\"14.00\" fill=\"#000000\">value = [0.0, 0.0, 0.4, 0.6, 0.0, 0.0]</text>\n<text text-anchor=\"start\" x=\"2436.5\" y=\"-394.8\" font-family=\"Helvetica,sans-Serif\" font-size=\"14.00\" fill=\"#000000\">class = 20</text>\n</g>\n<!-- 33&#45;&gt;41 -->\n<g id=\"edge41\" class=\"edge\">\n<title>33&#45;&gt;41</title>\n<path fill=\"none\" stroke=\"#000000\" d=\"M2304.7047,-520.8642C2324.3864,-510.7595 2345.2071,-500.0699 2365.191,-489.81\"/>\n<polygon fill=\"#000000\" stroke=\"#000000\" points=\"2367.0094,-492.8108 2374.3068,-485.1298 2363.8122,-486.5836 2367.0094,-492.8108\"/>\n</g>\n<!-- 35 -->\n<g id=\"node36\" class=\"node\">\n<title>35</title>\n<path fill=\"#3de684\" stroke=\"#000000\" d=\"M2053.5,-351C2053.5,-351 1826.5,-351 1826.5,-351 1820.5,-351 1814.5,-345 1814.5,-339 1814.5,-339 1814.5,-265 1814.5,-265 1814.5,-259 1820.5,-253 1826.5,-253 1826.5,-253 2053.5,-253 2053.5,-253 2059.5,-253 2065.5,-259 2065.5,-265 2065.5,-265 2065.5,-339 2065.5,-339 2065.5,-345 2059.5,-351 2053.5,-351\"/>\n<text text-anchor=\"start\" x=\"1909\" y=\"-335.8\" font-family=\"Helvetica,sans-Serif\" font-size=\"14.00\" fill=\"#000000\">node #35</text>\n<text text-anchor=\"start\" x=\"1898.5\" y=\"-320.8\" font-family=\"Helvetica,sans-Serif\" font-size=\"14.00\" fill=\"#000000\">FT% ≤ 0.898</text>\n<text text-anchor=\"start\" x=\"1902\" y=\"-305.8\" font-family=\"Helvetica,sans-Serif\" font-size=\"14.00\" fill=\"#000000\">gini = 0.039</text>\n<text text-anchor=\"start\" x=\"1884\" y=\"-290.8\" font-family=\"Helvetica,sans-Serif\" font-size=\"14.00\" fill=\"#000000\">samples = 10.6%</text>\n<text text-anchor=\"start\" x=\"1822.5\" y=\"-275.8\" font-family=\"Helvetica,sans-Serif\" font-size=\"14.00\" fill=\"#000000\">value = [0.0, 0.0, 0.98, 0.02, 0.0, 0.0]</text>\n<text text-anchor=\"start\" x=\"1906.5\" y=\"-260.8\" font-family=\"Helvetica,sans-Serif\" font-size=\"14.00\" fill=\"#000000\">class = 15</text>\n</g>\n<!-- 34&#45;&gt;35 -->\n<g id=\"edge35\" class=\"edge\">\n<title>34&#45;&gt;35</title>\n<path fill=\"none\" stroke=\"#000000\" d=\"M2105.2953,-386.8642C2085.6136,-376.7595 2064.7929,-366.0699 2044.809,-355.81\"/>\n<polygon fill=\"#000000\" stroke=\"#000000\" points=\"2046.1878,-352.5836 2035.6932,-351.1298 2042.9906,-358.8108 2046.1878,-352.5836\"/>\n</g>\n<!-- 40 -->\n<g id=\"node41\" class=\"node\">\n<title>40</title>\n<path fill=\"#399de5\" stroke=\"#000000\" d=\"M2306,-343.5C2306,-343.5 2096,-343.5 2096,-343.5 2090,-343.5 2084,-337.5 2084,-331.5 2084,-331.5 2084,-272.5 2084,-272.5 2084,-266.5 2090,-260.5 2096,-260.5 2096,-260.5 2306,-260.5 2306,-260.5 2312,-260.5 2318,-266.5 2318,-272.5 2318,-272.5 2318,-331.5 2318,-331.5 2318,-337.5 2312,-343.5 2306,-343.5\"/>\n<text text-anchor=\"start\" x=\"2170\" y=\"-328.3\" font-family=\"Helvetica,sans-Serif\" font-size=\"14.00\" fill=\"#000000\">node #40</text>\n<text text-anchor=\"start\" x=\"2171.5\" y=\"-313.3\" font-family=\"Helvetica,sans-Serif\" font-size=\"14.00\" fill=\"#000000\">gini = 0.0</text>\n<text text-anchor=\"start\" x=\"2149\" y=\"-298.3\" font-family=\"Helvetica,sans-Serif\" font-size=\"14.00\" fill=\"#000000\">samples = 0.2%</text>\n<text text-anchor=\"start\" x=\"2092\" y=\"-283.3\" font-family=\"Helvetica,sans-Serif\" font-size=\"14.00\" fill=\"#000000\">value = [0.0, 0.0, 0.0, 1.0, 0.0, 0.0]</text>\n<text text-anchor=\"start\" x=\"2167.5\" y=\"-268.3\" font-family=\"Helvetica,sans-Serif\" font-size=\"14.00\" fill=\"#000000\">class = 20</text>\n</g>\n<!-- 34&#45;&gt;40 -->\n<g id=\"edge40\" class=\"edge\">\n<title>34&#45;&gt;40</title>\n<path fill=\"none\" stroke=\"#000000\" d=\"M2201,-386.8642C2201,-376.1094 2201,-364.6921 2201,-353.8354\"/>\n<polygon fill=\"#000000\" stroke=\"#000000\" points=\"2204.5001,-353.6381 2201,-343.6381 2197.5001,-353.6382 2204.5001,-353.6381\"/>\n</g>\n<!-- 36 -->\n<g id=\"node37\" class=\"node\">\n<title>36</title>\n<path fill=\"#39e581\" stroke=\"#000000\" d=\"M2033,-209.5C2033,-209.5 1823,-209.5 1823,-209.5 1817,-209.5 1811,-203.5 1811,-197.5 1811,-197.5 1811,-138.5 1811,-138.5 1811,-132.5 1817,-126.5 1823,-126.5 1823,-126.5 2033,-126.5 2033,-126.5 2039,-126.5 2045,-132.5 2045,-138.5 2045,-138.5 2045,-197.5 2045,-197.5 2045,-203.5 2039,-209.5 2033,-209.5\"/>\n<text text-anchor=\"start\" x=\"1897\" y=\"-194.3\" font-family=\"Helvetica,sans-Serif\" font-size=\"14.00\" fill=\"#000000\">node #36</text>\n<text text-anchor=\"start\" x=\"1898.5\" y=\"-179.3\" font-family=\"Helvetica,sans-Serif\" font-size=\"14.00\" fill=\"#000000\">gini = 0.0</text>\n<text text-anchor=\"start\" x=\"1872\" y=\"-164.3\" font-family=\"Helvetica,sans-Serif\" font-size=\"14.00\" fill=\"#000000\">samples = 10.2%</text>\n<text text-anchor=\"start\" x=\"1819\" y=\"-149.3\" font-family=\"Helvetica,sans-Serif\" font-size=\"14.00\" fill=\"#000000\">value = [0.0, 0.0, 1.0, 0.0, 0.0, 0.0]</text>\n<text text-anchor=\"start\" x=\"1894.5\" y=\"-134.3\" font-family=\"Helvetica,sans-Serif\" font-size=\"14.00\" fill=\"#000000\">class = 15</text>\n</g>\n<!-- 35&#45;&gt;36 -->\n<g id=\"edge36\" class=\"edge\">\n<title>35&#45;&gt;36</title>\n<path fill=\"none\" stroke=\"#000000\" d=\"M1935.5998,-252.8642C1934.6367,-242.1094 1933.6142,-230.6921 1932.642,-219.8354\"/>\n<polygon fill=\"#000000\" stroke=\"#000000\" points=\"1936.1069,-219.2861 1931.7288,-209.6381 1929.1348,-219.9105 1936.1069,-219.2861\"/>\n</g>\n<!-- 37 -->\n<g id=\"node38\" class=\"node\">\n<title>37</title>\n<path fill=\"#ffffff\" stroke=\"#000000\" d=\"M2285,-217C2285,-217 2075,-217 2075,-217 2069,-217 2063,-211 2063,-205 2063,-205 2063,-131 2063,-131 2063,-125 2069,-119 2075,-119 2075,-119 2285,-119 2285,-119 2291,-119 2297,-125 2297,-131 2297,-131 2297,-205 2297,-205 2297,-211 2291,-217 2285,-217\"/>\n<text text-anchor=\"start\" x=\"2149\" y=\"-201.8\" font-family=\"Helvetica,sans-Serif\" font-size=\"14.00\" fill=\"#000000\">node #37</text>\n<text text-anchor=\"start\" x=\"2145\" y=\"-186.8\" font-family=\"Helvetica,sans-Serif\" font-size=\"14.00\" fill=\"#000000\">3PA ≤ 5.05</text>\n<text text-anchor=\"start\" x=\"2150.5\" y=\"-171.8\" font-family=\"Helvetica,sans-Serif\" font-size=\"14.00\" fill=\"#000000\">gini = 0.5</text>\n<text text-anchor=\"start\" x=\"2128\" y=\"-156.8\" font-family=\"Helvetica,sans-Serif\" font-size=\"14.00\" fill=\"#000000\">samples = 0.4%</text>\n<text text-anchor=\"start\" x=\"2071\" y=\"-141.8\" font-family=\"Helvetica,sans-Serif\" font-size=\"14.00\" fill=\"#000000\">value = [0.0, 0.0, 0.5, 0.5, 0.0, 0.0]</text>\n<text text-anchor=\"start\" x=\"2146.5\" y=\"-126.8\" font-family=\"Helvetica,sans-Serif\" font-size=\"14.00\" fill=\"#000000\">class = 15</text>\n</g>\n<!-- 35&#45;&gt;37 -->\n<g id=\"edge37\" class=\"edge\">\n<title>35&#45;&gt;37</title>\n<path fill=\"none\" stroke=\"#000000\" d=\"M2028.0044,-252.8642C2045.9394,-242.8505 2064.9031,-232.2625 2083.1271,-222.0874\"/>\n<polygon fill=\"#000000\" stroke=\"#000000\" points=\"2084.9813,-225.0608 2092.0063,-217.1298 2081.5688,-218.9489 2084.9813,-225.0608\"/>\n</g>\n<!-- 38 -->\n<g id=\"node39\" class=\"node\">\n<title>38</title>\n<path fill=\"#39e581\" stroke=\"#000000\" d=\"M2159,-83C2159,-83 1949,-83 1949,-83 1943,-83 1937,-77 1937,-71 1937,-71 1937,-12 1937,-12 1937,-6 1943,0 1949,0 1949,0 2159,0 2159,0 2165,0 2171,-6 2171,-12 2171,-12 2171,-71 2171,-71 2171,-77 2165,-83 2159,-83\"/>\n<text text-anchor=\"start\" x=\"2023\" y=\"-67.8\" font-family=\"Helvetica,sans-Serif\" font-size=\"14.00\" fill=\"#000000\">node #38</text>\n<text text-anchor=\"start\" x=\"2024.5\" y=\"-52.8\" font-family=\"Helvetica,sans-Serif\" font-size=\"14.00\" fill=\"#000000\">gini = 0.0</text>\n<text text-anchor=\"start\" x=\"2002\" y=\"-37.8\" font-family=\"Helvetica,sans-Serif\" font-size=\"14.00\" fill=\"#000000\">samples = 0.2%</text>\n<text text-anchor=\"start\" x=\"1945\" y=\"-22.8\" font-family=\"Helvetica,sans-Serif\" font-size=\"14.00\" fill=\"#000000\">value = [0.0, 0.0, 1.0, 0.0, 0.0, 0.0]</text>\n<text text-anchor=\"start\" x=\"2020.5\" y=\"-7.8\" font-family=\"Helvetica,sans-Serif\" font-size=\"14.00\" fill=\"#000000\">class = 15</text>\n</g>\n<!-- 37&#45;&gt;38 -->\n<g id=\"edge38\" class=\"edge\">\n<title>37&#45;&gt;38</title>\n<path fill=\"none\" stroke=\"#000000\" d=\"M2130.9243,-118.7296C2121.6553,-109.4238 2111.963,-99.6931 2102.7055,-90.3988\"/>\n<polygon fill=\"#000000\" stroke=\"#000000\" points=\"2104.9276,-87.6701 2095.3907,-83.055 2099.968,-92.61 2104.9276,-87.6701\"/>\n</g>\n<!-- 39 -->\n<g id=\"node40\" class=\"node\">\n<title>39</title>\n<path fill=\"#399de5\" stroke=\"#000000\" d=\"M2411,-83C2411,-83 2201,-83 2201,-83 2195,-83 2189,-77 2189,-71 2189,-71 2189,-12 2189,-12 2189,-6 2195,0 2201,0 2201,0 2411,0 2411,0 2417,0 2423,-6 2423,-12 2423,-12 2423,-71 2423,-71 2423,-77 2417,-83 2411,-83\"/>\n<text text-anchor=\"start\" x=\"2275\" y=\"-67.8\" font-family=\"Helvetica,sans-Serif\" font-size=\"14.00\" fill=\"#000000\">node #39</text>\n<text text-anchor=\"start\" x=\"2276.5\" y=\"-52.8\" font-family=\"Helvetica,sans-Serif\" font-size=\"14.00\" fill=\"#000000\">gini = 0.0</text>\n<text text-anchor=\"start\" x=\"2254\" y=\"-37.8\" font-family=\"Helvetica,sans-Serif\" font-size=\"14.00\" fill=\"#000000\">samples = 0.2%</text>\n<text text-anchor=\"start\" x=\"2197\" y=\"-22.8\" font-family=\"Helvetica,sans-Serif\" font-size=\"14.00\" fill=\"#000000\">value = [0.0, 0.0, 0.0, 1.0, 0.0, 0.0]</text>\n<text text-anchor=\"start\" x=\"2272.5\" y=\"-7.8\" font-family=\"Helvetica,sans-Serif\" font-size=\"14.00\" fill=\"#000000\">class = 20</text>\n</g>\n<!-- 37&#45;&gt;39 -->\n<g id=\"edge39\" class=\"edge\">\n<title>37&#45;&gt;39</title>\n<path fill=\"none\" stroke=\"#000000\" d=\"M2229.0757,-118.7296C2238.3447,-109.4238 2248.037,-99.6931 2257.2945,-90.3988\"/>\n<polygon fill=\"#000000\" stroke=\"#000000\" points=\"2260.032,-92.61 2264.6093,-83.055 2255.0724,-87.6701 2260.032,-92.61\"/>\n</g>\n<!-- 42 -->\n<g id=\"node43\" class=\"node\">\n<title>42</title>\n<path fill=\"#39e581\" stroke=\"#000000\" d=\"M2558,-343.5C2558,-343.5 2348,-343.5 2348,-343.5 2342,-343.5 2336,-337.5 2336,-331.5 2336,-331.5 2336,-272.5 2336,-272.5 2336,-266.5 2342,-260.5 2348,-260.5 2348,-260.5 2558,-260.5 2558,-260.5 2564,-260.5 2570,-266.5 2570,-272.5 2570,-272.5 2570,-331.5 2570,-331.5 2570,-337.5 2564,-343.5 2558,-343.5\"/>\n<text text-anchor=\"start\" x=\"2422\" y=\"-328.3\" font-family=\"Helvetica,sans-Serif\" font-size=\"14.00\" fill=\"#000000\">node #42</text>\n<text text-anchor=\"start\" x=\"2423.5\" y=\"-313.3\" font-family=\"Helvetica,sans-Serif\" font-size=\"14.00\" fill=\"#000000\">gini = 0.0</text>\n<text text-anchor=\"start\" x=\"2401\" y=\"-298.3\" font-family=\"Helvetica,sans-Serif\" font-size=\"14.00\" fill=\"#000000\">samples = 0.4%</text>\n<text text-anchor=\"start\" x=\"2344\" y=\"-283.3\" font-family=\"Helvetica,sans-Serif\" font-size=\"14.00\" fill=\"#000000\">value = [0.0, 0.0, 1.0, 0.0, 0.0, 0.0]</text>\n<text text-anchor=\"start\" x=\"2419.5\" y=\"-268.3\" font-family=\"Helvetica,sans-Serif\" font-size=\"14.00\" fill=\"#000000\">class = 15</text>\n</g>\n<!-- 41&#45;&gt;42 -->\n<g id=\"edge42\" class=\"edge\">\n<title>41&#45;&gt;42</title>\n<path fill=\"none\" stroke=\"#000000\" d=\"M2463.7664,-386.8642C2462.4019,-376.1094 2460.9535,-364.6921 2459.5761,-353.8354\"/>\n<polygon fill=\"#000000\" stroke=\"#000000\" points=\"2463.0133,-353.1181 2458.2825,-343.6381 2456.0689,-353.9992 2463.0133,-353.1181\"/>\n</g>\n<!-- 43 -->\n<g id=\"node44\" class=\"node\">\n<title>43</title>\n<path fill=\"#399de5\" stroke=\"#000000\" d=\"M2810,-343.5C2810,-343.5 2600,-343.5 2600,-343.5 2594,-343.5 2588,-337.5 2588,-331.5 2588,-331.5 2588,-272.5 2588,-272.5 2588,-266.5 2594,-260.5 2600,-260.5 2600,-260.5 2810,-260.5 2810,-260.5 2816,-260.5 2822,-266.5 2822,-272.5 2822,-272.5 2822,-331.5 2822,-331.5 2822,-337.5 2816,-343.5 2810,-343.5\"/>\n<text text-anchor=\"start\" x=\"2674\" y=\"-328.3\" font-family=\"Helvetica,sans-Serif\" font-size=\"14.00\" fill=\"#000000\">node #43</text>\n<text text-anchor=\"start\" x=\"2675.5\" y=\"-313.3\" font-family=\"Helvetica,sans-Serif\" font-size=\"14.00\" fill=\"#000000\">gini = 0.0</text>\n<text text-anchor=\"start\" x=\"2653\" y=\"-298.3\" font-family=\"Helvetica,sans-Serif\" font-size=\"14.00\" fill=\"#000000\">samples = 0.6%</text>\n<text text-anchor=\"start\" x=\"2596\" y=\"-283.3\" font-family=\"Helvetica,sans-Serif\" font-size=\"14.00\" fill=\"#000000\">value = [0.0, 0.0, 0.0, 1.0, 0.0, 0.0]</text>\n<text text-anchor=\"start\" x=\"2671.5\" y=\"-268.3\" font-family=\"Helvetica,sans-Serif\" font-size=\"14.00\" fill=\"#000000\">class = 20</text>\n</g>\n<!-- 41&#45;&gt;43 -->\n<g id=\"edge43\" class=\"edge\">\n<title>41&#45;&gt;43</title>\n<path fill=\"none\" stroke=\"#000000\" d=\"M2556.1709,-386.8642C2578.0459,-374.3909 2601.4837,-361.0263 2623.1378,-348.6788\"/>\n<polygon fill=\"#000000\" stroke=\"#000000\" points=\"2625.0246,-351.6321 2631.9779,-343.6381 2621.5572,-345.5512 2625.0246,-351.6321\"/>\n</g>\n<!-- 45 -->\n<g id=\"node46\" class=\"node\">\n<title>45</title>\n<path fill=\"#5dafea\" stroke=\"#000000\" d=\"M3502.5,-619C3502.5,-619 3251.5,-619 3251.5,-619 3245.5,-619 3239.5,-613 3239.5,-607 3239.5,-607 3239.5,-533 3239.5,-533 3239.5,-527 3245.5,-521 3251.5,-521 3251.5,-521 3502.5,-521 3502.5,-521 3508.5,-521 3514.5,-527 3514.5,-533 3514.5,-533 3514.5,-607 3514.5,-607 3514.5,-613 3508.5,-619 3502.5,-619\"/>\n<text text-anchor=\"start\" x=\"3346\" y=\"-603.8\" font-family=\"Helvetica,sans-Serif\" font-size=\"14.00\" fill=\"#000000\">node #45</text>\n<text text-anchor=\"start\" x=\"3346\" y=\"-588.8\" font-family=\"Helvetica,sans-Serif\" font-size=\"14.00\" fill=\"#000000\">FT ≤ 4.45</text>\n<text text-anchor=\"start\" x=\"3339\" y=\"-573.8\" font-family=\"Helvetica,sans-Serif\" font-size=\"14.00\" fill=\"#000000\">gini = 0.286</text>\n<text text-anchor=\"start\" x=\"3325\" y=\"-558.8\" font-family=\"Helvetica,sans-Serif\" font-size=\"14.00\" fill=\"#000000\">samples = 9.1%</text>\n<text text-anchor=\"start\" x=\"3247.5\" y=\"-543.8\" font-family=\"Helvetica,sans-Serif\" font-size=\"14.00\" fill=\"#000000\">value = [0.0, 0.0, 0.093, 0.837, 0.07, 0.0]</text>\n<text text-anchor=\"start\" x=\"3343.5\" y=\"-528.8\" font-family=\"Helvetica,sans-Serif\" font-size=\"14.00\" fill=\"#000000\">class = 20</text>\n</g>\n<!-- 44&#45;&gt;45 -->\n<g id=\"edge45\" class=\"edge\">\n<title>44&#45;&gt;45</title>\n<path fill=\"none\" stroke=\"#000000\" d=\"M3377,-654.8642C3377,-646.5802 3377,-637.903 3377,-629.3918\"/>\n<polygon fill=\"#000000\" stroke=\"#000000\" points=\"3380.5001,-629.1298 3377,-619.1298 3373.5001,-629.1299 3380.5001,-629.1298\"/>\n</g>\n<!-- 56 -->\n<g id=\"node57\" class=\"node\">\n<title>56</title>\n<path fill=\"#d8c1f7\" stroke=\"#000000\" d=\"M4259,-619C4259,-619 3999,-619 3999,-619 3993,-619 3987,-613 3987,-607 3987,-607 3987,-533 3987,-533 3987,-527 3993,-521 3999,-521 3999,-521 4259,-521 4259,-521 4265,-521 4271,-527 4271,-533 4271,-533 4271,-607 4271,-607 4271,-613 4265,-619 4259,-619\"/>\n<text text-anchor=\"start\" x=\"4098\" y=\"-603.8\" font-family=\"Helvetica,sans-Serif\" font-size=\"14.00\" fill=\"#000000\">node #56</text>\n<text text-anchor=\"start\" x=\"4092.5\" y=\"-588.8\" font-family=\"Helvetica,sans-Serif\" font-size=\"14.00\" fill=\"#000000\">AST ≤ 5.65</text>\n<text text-anchor=\"start\" x=\"4091\" y=\"-573.8\" font-family=\"Helvetica,sans-Serif\" font-size=\"14.00\" fill=\"#000000\">gini = 0.518</text>\n<text text-anchor=\"start\" x=\"4077\" y=\"-558.8\" font-family=\"Helvetica,sans-Serif\" font-size=\"14.00\" fill=\"#000000\">samples = 5.5%</text>\n<text text-anchor=\"start\" x=\"3995\" y=\"-543.8\" font-family=\"Helvetica,sans-Serif\" font-size=\"14.00\" fill=\"#000000\">value = [0.0, 0.0, 0.0, 0.038, 0.577, 0.385]</text>\n<text text-anchor=\"start\" x=\"4095.5\" y=\"-528.8\" font-family=\"Helvetica,sans-Serif\" font-size=\"14.00\" fill=\"#000000\">class = 25</text>\n</g>\n<!-- 44&#45;&gt;56 -->\n<g id=\"edge56\" class=\"edge\">\n<title>44&#45;&gt;56</title>\n<path fill=\"none\" stroke=\"#000000\" d=\"M3527.371,-677.2052C3657.809,-653.9622 3845.7349,-620.4754 3976.7277,-597.1336\"/>\n<polygon fill=\"#000000\" stroke=\"#000000\" points=\"3977.6167,-600.5304 3986.8476,-595.3303 3976.3887,-593.639 3977.6167,-600.5304\"/>\n</g>\n<!-- 46 -->\n<g id=\"node47\" class=\"node\">\n<title>46</title>\n<path fill=\"#50a8e8\" stroke=\"#000000\" d=\"M3360.5,-485C3360.5,-485 3117.5,-485 3117.5,-485 3111.5,-485 3105.5,-479 3105.5,-473 3105.5,-473 3105.5,-399 3105.5,-399 3105.5,-393 3111.5,-387 3117.5,-387 3117.5,-387 3360.5,-387 3360.5,-387 3366.5,-387 3372.5,-393 3372.5,-399 3372.5,-399 3372.5,-473 3372.5,-473 3372.5,-479 3366.5,-485 3360.5,-485\"/>\n<text text-anchor=\"start\" x=\"3208\" y=\"-469.8\" font-family=\"Helvetica,sans-Serif\" font-size=\"14.00\" fill=\"#000000\">node #46</text>\n<text text-anchor=\"start\" x=\"3212\" y=\"-454.8\" font-family=\"Helvetica,sans-Serif\" font-size=\"14.00\" fill=\"#000000\">3P ≤ 0.9</text>\n<text text-anchor=\"start\" x=\"3201\" y=\"-439.8\" font-family=\"Helvetica,sans-Serif\" font-size=\"14.00\" fill=\"#000000\">gini = 0.184</text>\n<text text-anchor=\"start\" x=\"3187\" y=\"-424.8\" font-family=\"Helvetica,sans-Serif\" font-size=\"14.00\" fill=\"#000000\">samples = 8.3%</text>\n<text text-anchor=\"start\" x=\"3113.5\" y=\"-409.8\" font-family=\"Helvetica,sans-Serif\" font-size=\"14.00\" fill=\"#000000\">value = [0.0, 0.0, 0.103, 0.897, 0.0, 0.0]</text>\n<text text-anchor=\"start\" x=\"3205.5\" y=\"-394.8\" font-family=\"Helvetica,sans-Serif\" font-size=\"14.00\" fill=\"#000000\">class = 20</text>\n</g>\n<!-- 45&#45;&gt;46 -->\n<g id=\"edge46\" class=\"edge\">\n<title>45&#45;&gt;46</title>\n<path fill=\"none\" stroke=\"#000000\" d=\"M3326.3975,-520.8642C3316.8349,-511.5788 3306.7637,-501.7995 3296.9946,-492.3136\"/>\n<polygon fill=\"#000000\" stroke=\"#000000\" points=\"3299.2089,-489.5852 3289.5964,-485.1298 3294.3325,-494.6072 3299.2089,-489.5852\"/>\n</g>\n<!-- 53 -->\n<g id=\"node54\" class=\"node\">\n<title>53</title>\n<path fill=\"#ab7bee\" stroke=\"#000000\" d=\"M3629.5,-485C3629.5,-485 3402.5,-485 3402.5,-485 3396.5,-485 3390.5,-479 3390.5,-473 3390.5,-473 3390.5,-399 3390.5,-399 3390.5,-393 3396.5,-387 3402.5,-387 3402.5,-387 3629.5,-387 3629.5,-387 3635.5,-387 3641.5,-393 3641.5,-399 3641.5,-399 3641.5,-473 3641.5,-473 3641.5,-479 3635.5,-485 3629.5,-485\"/>\n<text text-anchor=\"start\" x=\"3485\" y=\"-469.8\" font-family=\"Helvetica,sans-Serif\" font-size=\"14.00\" fill=\"#000000\">node #53</text>\n<text text-anchor=\"start\" x=\"3478.5\" y=\"-454.8\" font-family=\"Helvetica,sans-Serif\" font-size=\"14.00\" fill=\"#000000\">DRB ≤ 9.25</text>\n<text text-anchor=\"start\" x=\"3478\" y=\"-439.8\" font-family=\"Helvetica,sans-Serif\" font-size=\"14.00\" fill=\"#000000\">gini = 0.375</text>\n<text text-anchor=\"start\" x=\"3464\" y=\"-424.8\" font-family=\"Helvetica,sans-Serif\" font-size=\"14.00\" fill=\"#000000\">samples = 0.8%</text>\n<text text-anchor=\"start\" x=\"3398.5\" y=\"-409.8\" font-family=\"Helvetica,sans-Serif\" font-size=\"14.00\" fill=\"#000000\">value = [0.0, 0.0, 0.0, 0.25, 0.75, 0.0]</text>\n<text text-anchor=\"start\" x=\"3482.5\" y=\"-394.8\" font-family=\"Helvetica,sans-Serif\" font-size=\"14.00\" fill=\"#000000\">class = 25</text>\n</g>\n<!-- 45&#45;&gt;53 -->\n<g id=\"edge53\" class=\"edge\">\n<title>45&#45;&gt;53</title>\n<path fill=\"none\" stroke=\"#000000\" d=\"M3427.9692,-520.8642C3437.6011,-511.5788 3447.7453,-501.7995 3457.5852,-492.3136\"/>\n<polygon fill=\"#000000\" stroke=\"#000000\" points=\"3460.2667,-494.59 3465.037,-485.1298 3455.4084,-489.5505 3460.2667,-494.59\"/>\n</g>\n<!-- 47 -->\n<g id=\"node48\" class=\"node\">\n<title>47</title>\n<path fill=\"#7beeab\" stroke=\"#000000\" d=\"M3079.5,-351C3079.5,-351 2852.5,-351 2852.5,-351 2846.5,-351 2840.5,-345 2840.5,-339 2840.5,-339 2840.5,-265 2840.5,-265 2840.5,-259 2846.5,-253 2852.5,-253 2852.5,-253 3079.5,-253 3079.5,-253 3085.5,-253 3091.5,-259 3091.5,-265 3091.5,-265 3091.5,-339 3091.5,-339 3091.5,-345 3085.5,-351 3079.5,-351\"/>\n<text text-anchor=\"start\" x=\"2935\" y=\"-335.8\" font-family=\"Helvetica,sans-Serif\" font-size=\"14.00\" fill=\"#000000\">node #47</text>\n<text text-anchor=\"start\" x=\"2919\" y=\"-320.8\" font-family=\"Helvetica,sans-Serif\" font-size=\"14.00\" fill=\"#000000\">eFG% ≤ 0.602</text>\n<text text-anchor=\"start\" x=\"2928\" y=\"-305.8\" font-family=\"Helvetica,sans-Serif\" font-size=\"14.00\" fill=\"#000000\">gini = 0.375</text>\n<text text-anchor=\"start\" x=\"2914\" y=\"-290.8\" font-family=\"Helvetica,sans-Serif\" font-size=\"14.00\" fill=\"#000000\">samples = 0.8%</text>\n<text text-anchor=\"start\" x=\"2848.5\" y=\"-275.8\" font-family=\"Helvetica,sans-Serif\" font-size=\"14.00\" fill=\"#000000\">value = [0.0, 0.0, 0.75, 0.25, 0.0, 0.0]</text>\n<text text-anchor=\"start\" x=\"2932.5\" y=\"-260.8\" font-family=\"Helvetica,sans-Serif\" font-size=\"14.00\" fill=\"#000000\">class = 15</text>\n</g>\n<!-- 46&#45;&gt;47 -->\n<g id=\"edge47\" class=\"edge\">\n<title>46&#45;&gt;47</title>\n<path fill=\"none\" stroke=\"#000000\" d=\"M3138.8951,-386.8642C3118.2158,-376.714 3096.3342,-365.9736 3075.3454,-355.6713\"/>\n<polygon fill=\"#000000\" stroke=\"#000000\" points=\"3076.612,-352.3942 3066.0929,-351.1298 3073.5276,-358.6781 3076.612,-352.3942\"/>\n</g>\n<!-- 50 -->\n<g id=\"node51\" class=\"node\">\n<title>50</title>\n<path fill=\"#3fa0e6\" stroke=\"#000000\" d=\"M3364.5,-351C3364.5,-351 3121.5,-351 3121.5,-351 3115.5,-351 3109.5,-345 3109.5,-339 3109.5,-339 3109.5,-265 3109.5,-265 3109.5,-259 3115.5,-253 3121.5,-253 3121.5,-253 3364.5,-253 3364.5,-253 3370.5,-253 3376.5,-259 3376.5,-265 3376.5,-265 3376.5,-339 3376.5,-339 3376.5,-345 3370.5,-351 3364.5,-351\"/>\n<text text-anchor=\"start\" x=\"3212\" y=\"-335.8\" font-family=\"Helvetica,sans-Serif\" font-size=\"14.00\" fill=\"#000000\">node #50</text>\n<text text-anchor=\"start\" x=\"3201.5\" y=\"-320.8\" font-family=\"Helvetica,sans-Serif\" font-size=\"14.00\" fill=\"#000000\">3P% ≤ 0.435</text>\n<text text-anchor=\"start\" x=\"3205\" y=\"-305.8\" font-family=\"Helvetica,sans-Serif\" font-size=\"14.00\" fill=\"#000000\">gini = 0.056</text>\n<text text-anchor=\"start\" x=\"3191\" y=\"-290.8\" font-family=\"Helvetica,sans-Serif\" font-size=\"14.00\" fill=\"#000000\">samples = 7.4%</text>\n<text text-anchor=\"start\" x=\"3117.5\" y=\"-275.8\" font-family=\"Helvetica,sans-Serif\" font-size=\"14.00\" fill=\"#000000\">value = [0.0, 0.0, 0.029, 0.971, 0.0, 0.0]</text>\n<text text-anchor=\"start\" x=\"3209.5\" y=\"-260.8\" font-family=\"Helvetica,sans-Serif\" font-size=\"14.00\" fill=\"#000000\">class = 20</text>\n</g>\n<!-- 46&#45;&gt;50 -->\n<g id=\"edge50\" class=\"edge\">\n<title>46&#45;&gt;50</title>\n<path fill=\"none\" stroke=\"#000000\" d=\"M3240.4667,-386.8642C3240.714,-378.5802 3240.973,-369.903 3241.2271,-361.3918\"/>\n<polygon fill=\"#000000\" stroke=\"#000000\" points=\"3244.7334,-361.2298 3241.5334,-351.1298 3237.7365,-361.0209 3244.7334,-361.2298\"/>\n</g>\n<!-- 48 -->\n<g id=\"node49\" class=\"node\">\n<title>48</title>\n<path fill=\"#39e581\" stroke=\"#000000\" d=\"M2826,-209.5C2826,-209.5 2616,-209.5 2616,-209.5 2610,-209.5 2604,-203.5 2604,-197.5 2604,-197.5 2604,-138.5 2604,-138.5 2604,-132.5 2610,-126.5 2616,-126.5 2616,-126.5 2826,-126.5 2826,-126.5 2832,-126.5 2838,-132.5 2838,-138.5 2838,-138.5 2838,-197.5 2838,-197.5 2838,-203.5 2832,-209.5 2826,-209.5\"/>\n<text text-anchor=\"start\" x=\"2690\" y=\"-194.3\" font-family=\"Helvetica,sans-Serif\" font-size=\"14.00\" fill=\"#000000\">node #48</text>\n<text text-anchor=\"start\" x=\"2691.5\" y=\"-179.3\" font-family=\"Helvetica,sans-Serif\" font-size=\"14.00\" fill=\"#000000\">gini = 0.0</text>\n<text text-anchor=\"start\" x=\"2669\" y=\"-164.3\" font-family=\"Helvetica,sans-Serif\" font-size=\"14.00\" fill=\"#000000\">samples = 0.6%</text>\n<text text-anchor=\"start\" x=\"2612\" y=\"-149.3\" font-family=\"Helvetica,sans-Serif\" font-size=\"14.00\" fill=\"#000000\">value = [0.0, 0.0, 1.0, 0.0, 0.0, 0.0]</text>\n<text text-anchor=\"start\" x=\"2687.5\" y=\"-134.3\" font-family=\"Helvetica,sans-Serif\" font-size=\"14.00\" fill=\"#000000\">class = 15</text>\n</g>\n<!-- 47&#45;&gt;48 -->\n<g id=\"edge48\" class=\"edge\">\n<title>47&#45;&gt;48</title>\n<path fill=\"none\" stroke=\"#000000\" d=\"M2876.1622,-252.8642C2853.2551,-240.3354 2828.704,-226.9075 2806.0448,-214.5143\"/>\n<polygon fill=\"#000000\" stroke=\"#000000\" points=\"2807.5824,-211.366 2797.1294,-209.6381 2804.2234,-217.5075 2807.5824,-211.366\"/>\n</g>\n<!-- 49 -->\n<g id=\"node50\" class=\"node\">\n<title>49</title>\n<path fill=\"#399de5\" stroke=\"#000000\" d=\"M3078,-209.5C3078,-209.5 2868,-209.5 2868,-209.5 2862,-209.5 2856,-203.5 2856,-197.5 2856,-197.5 2856,-138.5 2856,-138.5 2856,-132.5 2862,-126.5 2868,-126.5 2868,-126.5 3078,-126.5 3078,-126.5 3084,-126.5 3090,-132.5 3090,-138.5 3090,-138.5 3090,-197.5 3090,-197.5 3090,-203.5 3084,-209.5 3078,-209.5\"/>\n<text text-anchor=\"start\" x=\"2942\" y=\"-194.3\" font-family=\"Helvetica,sans-Serif\" font-size=\"14.00\" fill=\"#000000\">node #49</text>\n<text text-anchor=\"start\" x=\"2943.5\" y=\"-179.3\" font-family=\"Helvetica,sans-Serif\" font-size=\"14.00\" fill=\"#000000\">gini = 0.0</text>\n<text text-anchor=\"start\" x=\"2921\" y=\"-164.3\" font-family=\"Helvetica,sans-Serif\" font-size=\"14.00\" fill=\"#000000\">samples = 0.2%</text>\n<text text-anchor=\"start\" x=\"2864\" y=\"-149.3\" font-family=\"Helvetica,sans-Serif\" font-size=\"14.00\" fill=\"#000000\">value = [0.0, 0.0, 0.0, 1.0, 0.0, 0.0]</text>\n<text text-anchor=\"start\" x=\"2939.5\" y=\"-134.3\" font-family=\"Helvetica,sans-Serif\" font-size=\"14.00\" fill=\"#000000\">class = 20</text>\n</g>\n<!-- 47&#45;&gt;49 -->\n<g id=\"edge49\" class=\"edge\">\n<title>47&#45;&gt;49</title>\n<path fill=\"none\" stroke=\"#000000\" d=\"M2968.5668,-252.8642C2969.1286,-242.1094 2969.725,-230.6921 2970.2922,-219.8354\"/>\n<polygon fill=\"#000000\" stroke=\"#000000\" points=\"2973.7983,-219.8071 2970.8249,-209.6381 2966.8079,-219.4419 2973.7983,-219.8071\"/>\n</g>\n<!-- 51 -->\n<g id=\"node52\" class=\"node\">\n<title>51</title>\n<path fill=\"#399de5\" stroke=\"#000000\" d=\"M3342,-209.5C3342,-209.5 3132,-209.5 3132,-209.5 3126,-209.5 3120,-203.5 3120,-197.5 3120,-197.5 3120,-138.5 3120,-138.5 3120,-132.5 3126,-126.5 3132,-126.5 3132,-126.5 3342,-126.5 3342,-126.5 3348,-126.5 3354,-132.5 3354,-138.5 3354,-138.5 3354,-197.5 3354,-197.5 3354,-203.5 3348,-209.5 3342,-209.5\"/>\n<text text-anchor=\"start\" x=\"3206\" y=\"-194.3\" font-family=\"Helvetica,sans-Serif\" font-size=\"14.00\" fill=\"#000000\">node #51</text>\n<text text-anchor=\"start\" x=\"3207.5\" y=\"-179.3\" font-family=\"Helvetica,sans-Serif\" font-size=\"14.00\" fill=\"#000000\">gini = 0.0</text>\n<text text-anchor=\"start\" x=\"3185\" y=\"-164.3\" font-family=\"Helvetica,sans-Serif\" font-size=\"14.00\" fill=\"#000000\">samples = 7.2%</text>\n<text text-anchor=\"start\" x=\"3128\" y=\"-149.3\" font-family=\"Helvetica,sans-Serif\" font-size=\"14.00\" fill=\"#000000\">value = [0.0, 0.0, 0.0, 1.0, 0.0, 0.0]</text>\n<text text-anchor=\"start\" x=\"3203.5\" y=\"-134.3\" font-family=\"Helvetica,sans-Serif\" font-size=\"14.00\" fill=\"#000000\">class = 20</text>\n</g>\n<!-- 50&#45;&gt;51 -->\n<g id=\"edge51\" class=\"edge\">\n<title>50&#45;&gt;51</title>\n<path fill=\"none\" stroke=\"#000000\" d=\"M3240.7999,-252.8642C3240.3183,-242.1094 3239.8071,-230.6921 3239.321,-219.8354\"/>\n<polygon fill=\"#000000\" stroke=\"#000000\" points=\"3242.8083,-219.4715 3238.8644,-209.6381 3235.8153,-219.7847 3242.8083,-219.4715\"/>\n</g>\n<!-- 52 -->\n<g id=\"node53\" class=\"node\">\n<title>52</title>\n<path fill=\"#39e581\" stroke=\"#000000\" d=\"M3594,-209.5C3594,-209.5 3384,-209.5 3384,-209.5 3378,-209.5 3372,-203.5 3372,-197.5 3372,-197.5 3372,-138.5 3372,-138.5 3372,-132.5 3378,-126.5 3384,-126.5 3384,-126.5 3594,-126.5 3594,-126.5 3600,-126.5 3606,-132.5 3606,-138.5 3606,-138.5 3606,-197.5 3606,-197.5 3606,-203.5 3600,-209.5 3594,-209.5\"/>\n<text text-anchor=\"start\" x=\"3458\" y=\"-194.3\" font-family=\"Helvetica,sans-Serif\" font-size=\"14.00\" fill=\"#000000\">node #52</text>\n<text text-anchor=\"start\" x=\"3459.5\" y=\"-179.3\" font-family=\"Helvetica,sans-Serif\" font-size=\"14.00\" fill=\"#000000\">gini = 0.0</text>\n<text text-anchor=\"start\" x=\"3437\" y=\"-164.3\" font-family=\"Helvetica,sans-Serif\" font-size=\"14.00\" fill=\"#000000\">samples = 0.2%</text>\n<text text-anchor=\"start\" x=\"3380\" y=\"-149.3\" font-family=\"Helvetica,sans-Serif\" font-size=\"14.00\" fill=\"#000000\">value = [0.0, 0.0, 1.0, 0.0, 0.0, 0.0]</text>\n<text text-anchor=\"start\" x=\"3455.5\" y=\"-134.3\" font-family=\"Helvetica,sans-Serif\" font-size=\"14.00\" fill=\"#000000\">class = 15</text>\n</g>\n<!-- 50&#45;&gt;52 -->\n<g id=\"edge52\" class=\"edge\">\n<title>50&#45;&gt;52</title>\n<path fill=\"none\" stroke=\"#000000\" d=\"M3333.2045,-252.8642C3356.2051,-240.3354 3380.8564,-226.9075 3403.6081,-214.5143\"/>\n<polygon fill=\"#000000\" stroke=\"#000000\" points=\"3405.4524,-217.4953 3412.5598,-209.6381 3402.1039,-211.3481 3405.4524,-217.4953\"/>\n</g>\n<!-- 54 -->\n<g id=\"node55\" class=\"node\">\n<title>54</title>\n<path fill=\"#8139e5\" stroke=\"#000000\" d=\"M3617,-343.5C3617,-343.5 3407,-343.5 3407,-343.5 3401,-343.5 3395,-337.5 3395,-331.5 3395,-331.5 3395,-272.5 3395,-272.5 3395,-266.5 3401,-260.5 3407,-260.5 3407,-260.5 3617,-260.5 3617,-260.5 3623,-260.5 3629,-266.5 3629,-272.5 3629,-272.5 3629,-331.5 3629,-331.5 3629,-337.5 3623,-343.5 3617,-343.5\"/>\n<text text-anchor=\"start\" x=\"3481\" y=\"-328.3\" font-family=\"Helvetica,sans-Serif\" font-size=\"14.00\" fill=\"#000000\">node #54</text>\n<text text-anchor=\"start\" x=\"3482.5\" y=\"-313.3\" font-family=\"Helvetica,sans-Serif\" font-size=\"14.00\" fill=\"#000000\">gini = 0.0</text>\n<text text-anchor=\"start\" x=\"3460\" y=\"-298.3\" font-family=\"Helvetica,sans-Serif\" font-size=\"14.00\" fill=\"#000000\">samples = 0.6%</text>\n<text text-anchor=\"start\" x=\"3403\" y=\"-283.3\" font-family=\"Helvetica,sans-Serif\" font-size=\"14.00\" fill=\"#000000\">value = [0.0, 0.0, 0.0, 0.0, 1.0, 0.0]</text>\n<text text-anchor=\"start\" x=\"3478.5\" y=\"-268.3\" font-family=\"Helvetica,sans-Serif\" font-size=\"14.00\" fill=\"#000000\">class = 25</text>\n</g>\n<!-- 53&#45;&gt;54 -->\n<g id=\"edge54\" class=\"edge\">\n<title>53&#45;&gt;54</title>\n<path fill=\"none\" stroke=\"#000000\" d=\"M3514.5333,-386.8642C3514.2122,-376.1094 3513.8714,-364.6921 3513.5473,-353.8354\"/>\n<polygon fill=\"#000000\" stroke=\"#000000\" points=\"3517.0398,-353.5292 3513.2429,-343.6381 3510.043,-353.7381 3517.0398,-353.5292\"/>\n</g>\n<!-- 55 -->\n<g id=\"node56\" class=\"node\">\n<title>55</title>\n<path fill=\"#399de5\" stroke=\"#000000\" d=\"M3869,-343.5C3869,-343.5 3659,-343.5 3659,-343.5 3653,-343.5 3647,-337.5 3647,-331.5 3647,-331.5 3647,-272.5 3647,-272.5 3647,-266.5 3653,-260.5 3659,-260.5 3659,-260.5 3869,-260.5 3869,-260.5 3875,-260.5 3881,-266.5 3881,-272.5 3881,-272.5 3881,-331.5 3881,-331.5 3881,-337.5 3875,-343.5 3869,-343.5\"/>\n<text text-anchor=\"start\" x=\"3733\" y=\"-328.3\" font-family=\"Helvetica,sans-Serif\" font-size=\"14.00\" fill=\"#000000\">node #55</text>\n<text text-anchor=\"start\" x=\"3734.5\" y=\"-313.3\" font-family=\"Helvetica,sans-Serif\" font-size=\"14.00\" fill=\"#000000\">gini = 0.0</text>\n<text text-anchor=\"start\" x=\"3712\" y=\"-298.3\" font-family=\"Helvetica,sans-Serif\" font-size=\"14.00\" fill=\"#000000\">samples = 0.2%</text>\n<text text-anchor=\"start\" x=\"3655\" y=\"-283.3\" font-family=\"Helvetica,sans-Serif\" font-size=\"14.00\" fill=\"#000000\">value = [0.0, 0.0, 0.0, 1.0, 0.0, 0.0]</text>\n<text text-anchor=\"start\" x=\"3730.5\" y=\"-268.3\" font-family=\"Helvetica,sans-Serif\" font-size=\"14.00\" fill=\"#000000\">class = 20</text>\n</g>\n<!-- 53&#45;&gt;55 -->\n<g id=\"edge55\" class=\"edge\">\n<title>53&#45;&gt;55</title>\n<path fill=\"none\" stroke=\"#000000\" d=\"M3606.9378,-386.8642C3630.1255,-374.3354 3654.9771,-360.9075 3677.9139,-348.5143\"/>\n<polygon fill=\"#000000\" stroke=\"#000000\" points=\"3679.8043,-351.4711 3686.9384,-343.6381 3676.4767,-345.3126 3679.8043,-351.4711\"/>\n</g>\n<!-- 57 -->\n<g id=\"node58\" class=\"node\">\n<title>57</title>\n<path fill=\"#9c63eb\" stroke=\"#000000\" d=\"M4250.5,-485C4250.5,-485 4007.5,-485 4007.5,-485 4001.5,-485 3995.5,-479 3995.5,-473 3995.5,-473 3995.5,-399 3995.5,-399 3995.5,-393 4001.5,-387 4007.5,-387 4007.5,-387 4250.5,-387 4250.5,-387 4256.5,-387 4262.5,-393 4262.5,-399 4262.5,-399 4262.5,-473 4262.5,-473 4262.5,-479 4256.5,-485 4250.5,-485\"/>\n<text text-anchor=\"start\" x=\"4098\" y=\"-469.8\" font-family=\"Helvetica,sans-Serif\" font-size=\"14.00\" fill=\"#000000\">node #57</text>\n<text text-anchor=\"start\" x=\"4096.5\" y=\"-454.8\" font-family=\"Helvetica,sans-Serif\" font-size=\"14.00\" fill=\"#000000\">GS ≤ 39.5</text>\n<text text-anchor=\"start\" x=\"4091\" y=\"-439.8\" font-family=\"Helvetica,sans-Serif\" font-size=\"14.00\" fill=\"#000000\">gini = 0.291</text>\n<text text-anchor=\"start\" x=\"4077\" y=\"-424.8\" font-family=\"Helvetica,sans-Serif\" font-size=\"14.00\" fill=\"#000000\">samples = 3.6%</text>\n<text text-anchor=\"start\" x=\"4003.5\" y=\"-409.8\" font-family=\"Helvetica,sans-Serif\" font-size=\"14.00\" fill=\"#000000\">value = [0.0, 0.0, 0.0, 0.0, 0.824, 0.176]</text>\n<text text-anchor=\"start\" x=\"4095.5\" y=\"-394.8\" font-family=\"Helvetica,sans-Serif\" font-size=\"14.00\" fill=\"#000000\">class = 25</text>\n</g>\n<!-- 56&#45;&gt;57 -->\n<g id=\"edge57\" class=\"edge\">\n<title>56&#45;&gt;57</title>\n<path fill=\"none\" stroke=\"#000000\" d=\"M4129,-520.8642C4129,-512.5802 4129,-503.903 4129,-495.3918\"/>\n<polygon fill=\"#000000\" stroke=\"#000000\" points=\"4132.5001,-495.1298 4129,-485.1298 4125.5001,-495.1299 4132.5001,-495.1298\"/>\n</g>\n<!-- 62 -->\n<g id=\"node63\" class=\"node\">\n<title>62</title>\n<path fill=\"#ec6ab6\" stroke=\"#000000\" d=\"M4667,-485C4667,-485 4407,-485 4407,-485 4401,-485 4395,-479 4395,-473 4395,-473 4395,-399 4395,-399 4395,-393 4401,-387 4407,-387 4407,-387 4667,-387 4667,-387 4673,-387 4679,-393 4679,-399 4679,-399 4679,-473 4679,-473 4679,-479 4673,-485 4667,-485\"/>\n<text text-anchor=\"start\" x=\"4506\" y=\"-469.8\" font-family=\"Helvetica,sans-Serif\" font-size=\"14.00\" fill=\"#000000\">node #62</text>\n<text text-anchor=\"start\" x=\"4491.5\" y=\"-454.8\" font-family=\"Helvetica,sans-Serif\" font-size=\"14.00\" fill=\"#000000\">Pos_SG ≤ 0.5</text>\n<text text-anchor=\"start\" x=\"4503.5\" y=\"-439.8\" font-family=\"Helvetica,sans-Serif\" font-size=\"14.00\" fill=\"#000000\">gini = 0.37</text>\n<text text-anchor=\"start\" x=\"4485\" y=\"-424.8\" font-family=\"Helvetica,sans-Serif\" font-size=\"14.00\" fill=\"#000000\">samples = 1.9%</text>\n<text text-anchor=\"start\" x=\"4403\" y=\"-409.8\" font-family=\"Helvetica,sans-Serif\" font-size=\"14.00\" fill=\"#000000\">value = [0.0, 0.0, 0.0, 0.111, 0.111, 0.778]</text>\n<text text-anchor=\"start\" x=\"4503.5\" y=\"-394.8\" font-family=\"Helvetica,sans-Serif\" font-size=\"14.00\" fill=\"#000000\">class = 30</text>\n</g>\n<!-- 56&#45;&gt;62 -->\n<g id=\"edge62\" class=\"edge\">\n<title>56&#45;&gt;62</title>\n<path fill=\"none\" stroke=\"#000000\" d=\"M4271.1258,-523.3214C4307.8593,-511.257 4347.5492,-498.2216 4384.7759,-485.9952\"/>\n<polygon fill=\"#000000\" stroke=\"#000000\" points=\"4386.2844,-489.1837 4394.693,-482.7381 4384.1001,-482.5332 4386.2844,-489.1837\"/>\n</g>\n<!-- 58 -->\n<g id=\"node59\" class=\"node\">\n<title>58</title>\n<path fill=\"#8139e5\" stroke=\"#000000\" d=\"M4121,-343.5C4121,-343.5 3911,-343.5 3911,-343.5 3905,-343.5 3899,-337.5 3899,-331.5 3899,-331.5 3899,-272.5 3899,-272.5 3899,-266.5 3905,-260.5 3911,-260.5 3911,-260.5 4121,-260.5 4121,-260.5 4127,-260.5 4133,-266.5 4133,-272.5 4133,-272.5 4133,-331.5 4133,-331.5 4133,-337.5 4127,-343.5 4121,-343.5\"/>\n<text text-anchor=\"start\" x=\"3985\" y=\"-328.3\" font-family=\"Helvetica,sans-Serif\" font-size=\"14.00\" fill=\"#000000\">node #58</text>\n<text text-anchor=\"start\" x=\"3986.5\" y=\"-313.3\" font-family=\"Helvetica,sans-Serif\" font-size=\"14.00\" fill=\"#000000\">gini = 0.0</text>\n<text text-anchor=\"start\" x=\"3964\" y=\"-298.3\" font-family=\"Helvetica,sans-Serif\" font-size=\"14.00\" fill=\"#000000\">samples = 2.5%</text>\n<text text-anchor=\"start\" x=\"3907\" y=\"-283.3\" font-family=\"Helvetica,sans-Serif\" font-size=\"14.00\" fill=\"#000000\">value = [0.0, 0.0, 0.0, 0.0, 1.0, 0.0]</text>\n<text text-anchor=\"start\" x=\"3982.5\" y=\"-268.3\" font-family=\"Helvetica,sans-Serif\" font-size=\"14.00\" fill=\"#000000\">class = 25</text>\n</g>\n<!-- 57&#45;&gt;58 -->\n<g id=\"edge58\" class=\"edge\">\n<title>57&#45;&gt;58</title>\n<path fill=\"none\" stroke=\"#000000\" d=\"M4087.5646,-386.8642C4077.8408,-375.3333 4067.4747,-363.0408 4057.7377,-351.4942\"/>\n<polygon fill=\"#000000\" stroke=\"#000000\" points=\"4060.2351,-349.0265 4051.1128,-343.6381 4054.8838,-353.5392 4060.2351,-349.0265\"/>\n</g>\n<!-- 59 -->\n<g id=\"node60\" class=\"node\">\n<title>59</title>\n<path fill=\"#f6bdde\" stroke=\"#000000\" d=\"M4373,-351C4373,-351 4163,-351 4163,-351 4157,-351 4151,-345 4151,-339 4151,-339 4151,-265 4151,-265 4151,-259 4157,-253 4163,-253 4163,-253 4373,-253 4373,-253 4379,-253 4385,-259 4385,-265 4385,-265 4385,-339 4385,-339 4385,-345 4379,-351 4373,-351\"/>\n<text text-anchor=\"start\" x=\"4237\" y=\"-335.8\" font-family=\"Helvetica,sans-Serif\" font-size=\"14.00\" fill=\"#000000\">node #59</text>\n<text text-anchor=\"start\" x=\"4226.5\" y=\"-320.8\" font-family=\"Helvetica,sans-Serif\" font-size=\"14.00\" fill=\"#000000\">FT% ≤ 0.836</text>\n<text text-anchor=\"start\" x=\"4234.5\" y=\"-305.8\" font-family=\"Helvetica,sans-Serif\" font-size=\"14.00\" fill=\"#000000\">gini = 0.48</text>\n<text text-anchor=\"start\" x=\"4216\" y=\"-290.8\" font-family=\"Helvetica,sans-Serif\" font-size=\"14.00\" fill=\"#000000\">samples = 1.1%</text>\n<text text-anchor=\"start\" x=\"4159\" y=\"-275.8\" font-family=\"Helvetica,sans-Serif\" font-size=\"14.00\" fill=\"#000000\">value = [0.0, 0.0, 0.0, 0.0, 0.4, 0.6]</text>\n<text text-anchor=\"start\" x=\"4234.5\" y=\"-260.8\" font-family=\"Helvetica,sans-Serif\" font-size=\"14.00\" fill=\"#000000\">class = 30</text>\n</g>\n<!-- 57&#45;&gt;59 -->\n<g id=\"edge59\" class=\"edge\">\n<title>57&#45;&gt;59</title>\n<path fill=\"none\" stroke=\"#000000\" d=\"M4179.9692,-386.8642C4189.6011,-377.5788 4199.7453,-367.7995 4209.5852,-358.3136\"/>\n<polygon fill=\"#000000\" stroke=\"#000000\" points=\"4212.2667,-360.59 4217.037,-351.1298 4207.4084,-355.5505 4212.2667,-360.59\"/>\n</g>\n<!-- 60 -->\n<g id=\"node61\" class=\"node\">\n<title>60</title>\n<path fill=\"#8139e5\" stroke=\"#000000\" d=\"M4125,-209.5C4125,-209.5 3915,-209.5 3915,-209.5 3909,-209.5 3903,-203.5 3903,-197.5 3903,-197.5 3903,-138.5 3903,-138.5 3903,-132.5 3909,-126.5 3915,-126.5 3915,-126.5 4125,-126.5 4125,-126.5 4131,-126.5 4137,-132.5 4137,-138.5 4137,-138.5 4137,-197.5 4137,-197.5 4137,-203.5 4131,-209.5 4125,-209.5\"/>\n<text text-anchor=\"start\" x=\"3989\" y=\"-194.3\" font-family=\"Helvetica,sans-Serif\" font-size=\"14.00\" fill=\"#000000\">node #60</text>\n<text text-anchor=\"start\" x=\"3990.5\" y=\"-179.3\" font-family=\"Helvetica,sans-Serif\" font-size=\"14.00\" fill=\"#000000\">gini = 0.0</text>\n<text text-anchor=\"start\" x=\"3968\" y=\"-164.3\" font-family=\"Helvetica,sans-Serif\" font-size=\"14.00\" fill=\"#000000\">samples = 0.4%</text>\n<text text-anchor=\"start\" x=\"3911\" y=\"-149.3\" font-family=\"Helvetica,sans-Serif\" font-size=\"14.00\" fill=\"#000000\">value = [0.0, 0.0, 0.0, 0.0, 1.0, 0.0]</text>\n<text text-anchor=\"start\" x=\"3986.5\" y=\"-134.3\" font-family=\"Helvetica,sans-Serif\" font-size=\"14.00\" fill=\"#000000\">class = 25</text>\n</g>\n<!-- 59&#45;&gt;60 -->\n<g id=\"edge60\" class=\"edge\">\n<title>59&#45;&gt;60</title>\n<path fill=\"none\" stroke=\"#000000\" d=\"M4177.0622,-252.8642C4153.8745,-240.3354 4129.0229,-226.9075 4106.0861,-214.5143\"/>\n<polygon fill=\"#000000\" stroke=\"#000000\" points=\"4107.5233,-211.3126 4097.0616,-209.6381 4104.1957,-217.4711 4107.5233,-211.3126\"/>\n</g>\n<!-- 61 -->\n<g id=\"node62\" class=\"node\">\n<title>61</title>\n<path fill=\"#e5399d\" stroke=\"#000000\" d=\"M4377,-209.5C4377,-209.5 4167,-209.5 4167,-209.5 4161,-209.5 4155,-203.5 4155,-197.5 4155,-197.5 4155,-138.5 4155,-138.5 4155,-132.5 4161,-126.5 4167,-126.5 4167,-126.5 4377,-126.5 4377,-126.5 4383,-126.5 4389,-132.5 4389,-138.5 4389,-138.5 4389,-197.5 4389,-197.5 4389,-203.5 4383,-209.5 4377,-209.5\"/>\n<text text-anchor=\"start\" x=\"4241\" y=\"-194.3\" font-family=\"Helvetica,sans-Serif\" font-size=\"14.00\" fill=\"#000000\">node #61</text>\n<text text-anchor=\"start\" x=\"4242.5\" y=\"-179.3\" font-family=\"Helvetica,sans-Serif\" font-size=\"14.00\" fill=\"#000000\">gini = 0.0</text>\n<text text-anchor=\"start\" x=\"4220\" y=\"-164.3\" font-family=\"Helvetica,sans-Serif\" font-size=\"14.00\" fill=\"#000000\">samples = 0.6%</text>\n<text text-anchor=\"start\" x=\"4163\" y=\"-149.3\" font-family=\"Helvetica,sans-Serif\" font-size=\"14.00\" fill=\"#000000\">value = [0.0, 0.0, 0.0, 0.0, 0.0, 1.0]</text>\n<text text-anchor=\"start\" x=\"4238.5\" y=\"-134.3\" font-family=\"Helvetica,sans-Serif\" font-size=\"14.00\" fill=\"#000000\">class = 30</text>\n</g>\n<!-- 59&#45;&gt;61 -->\n<g id=\"edge61\" class=\"edge\">\n<title>59&#45;&gt;61</title>\n<path fill=\"none\" stroke=\"#000000\" d=\"M4269.4667,-252.8642C4269.7878,-242.1094 4270.1286,-230.6921 4270.4527,-219.8354\"/>\n<polygon fill=\"#000000\" stroke=\"#000000\" points=\"4273.957,-219.7381 4270.7571,-209.6381 4266.9602,-219.5292 4273.957,-219.7381\"/>\n</g>\n<!-- 63 -->\n<g id=\"node64\" class=\"node\">\n<title>63</title>\n<path fill=\"#e955ab\" stroke=\"#000000\" d=\"M4658.5,-351C4658.5,-351 4415.5,-351 4415.5,-351 4409.5,-351 4403.5,-345 4403.5,-339 4403.5,-339 4403.5,-265 4403.5,-265 4403.5,-259 4409.5,-253 4415.5,-253 4415.5,-253 4658.5,-253 4658.5,-253 4664.5,-253 4670.5,-259 4670.5,-265 4670.5,-265 4670.5,-339 4670.5,-339 4670.5,-345 4664.5,-351 4658.5,-351\"/>\n<text text-anchor=\"start\" x=\"4506\" y=\"-335.8\" font-family=\"Helvetica,sans-Serif\" font-size=\"14.00\" fill=\"#000000\">node #63</text>\n<text text-anchor=\"start\" x=\"4490\" y=\"-320.8\" font-family=\"Helvetica,sans-Serif\" font-size=\"14.00\" fill=\"#000000\">eFG% ≤ 0.488</text>\n<text text-anchor=\"start\" x=\"4499\" y=\"-305.8\" font-family=\"Helvetica,sans-Serif\" font-size=\"14.00\" fill=\"#000000\">gini = 0.219</text>\n<text text-anchor=\"start\" x=\"4485\" y=\"-290.8\" font-family=\"Helvetica,sans-Serif\" font-size=\"14.00\" fill=\"#000000\">samples = 1.7%</text>\n<text text-anchor=\"start\" x=\"4411.5\" y=\"-275.8\" font-family=\"Helvetica,sans-Serif\" font-size=\"14.00\" fill=\"#000000\">value = [0.0, 0.0, 0.0, 0.125, 0.0, 0.875]</text>\n<text text-anchor=\"start\" x=\"4503.5\" y=\"-260.8\" font-family=\"Helvetica,sans-Serif\" font-size=\"14.00\" fill=\"#000000\">class = 30</text>\n</g>\n<!-- 62&#45;&gt;63 -->\n<g id=\"edge63\" class=\"edge\">\n<title>62&#45;&gt;63</title>\n<path fill=\"none\" stroke=\"#000000\" d=\"M4537,-386.8642C4537,-378.5802 4537,-369.903 4537,-361.3918\"/>\n<polygon fill=\"#000000\" stroke=\"#000000\" points=\"4540.5001,-361.1298 4537,-351.1298 4533.5001,-361.1299 4540.5001,-361.1298\"/>\n</g>\n<!-- 66 -->\n<g id=\"node67\" class=\"node\">\n<title>66</title>\n<path fill=\"#8139e5\" stroke=\"#000000\" d=\"M4911,-343.5C4911,-343.5 4701,-343.5 4701,-343.5 4695,-343.5 4689,-337.5 4689,-331.5 4689,-331.5 4689,-272.5 4689,-272.5 4689,-266.5 4695,-260.5 4701,-260.5 4701,-260.5 4911,-260.5 4911,-260.5 4917,-260.5 4923,-266.5 4923,-272.5 4923,-272.5 4923,-331.5 4923,-331.5 4923,-337.5 4917,-343.5 4911,-343.5\"/>\n<text text-anchor=\"start\" x=\"4775\" y=\"-328.3\" font-family=\"Helvetica,sans-Serif\" font-size=\"14.00\" fill=\"#000000\">node #66</text>\n<text text-anchor=\"start\" x=\"4776.5\" y=\"-313.3\" font-family=\"Helvetica,sans-Serif\" font-size=\"14.00\" fill=\"#000000\">gini = 0.0</text>\n<text text-anchor=\"start\" x=\"4754\" y=\"-298.3\" font-family=\"Helvetica,sans-Serif\" font-size=\"14.00\" fill=\"#000000\">samples = 0.2%</text>\n<text text-anchor=\"start\" x=\"4697\" y=\"-283.3\" font-family=\"Helvetica,sans-Serif\" font-size=\"14.00\" fill=\"#000000\">value = [0.0, 0.0, 0.0, 0.0, 1.0, 0.0]</text>\n<text text-anchor=\"start\" x=\"4772.5\" y=\"-268.3\" font-family=\"Helvetica,sans-Serif\" font-size=\"14.00\" fill=\"#000000\">class = 25</text>\n</g>\n<!-- 62&#45;&gt;66 -->\n<g id=\"edge66\" class=\"edge\">\n<title>62&#45;&gt;66</title>\n<path fill=\"none\" stroke=\"#000000\" d=\"M4635.6382,-386.8642C4661.0119,-374.2245 4688.2226,-360.6698 4713.2843,-348.1855\"/>\n<polygon fill=\"#000000\" stroke=\"#000000\" points=\"4715.0227,-351.2298 4722.413,-343.6381 4711.9015,-344.9642 4715.0227,-351.2298\"/>\n</g>\n<!-- 64 -->\n<g id=\"node65\" class=\"node\">\n<title>64</title>\n<path fill=\"#399de5\" stroke=\"#000000\" d=\"M4637,-209.5C4637,-209.5 4427,-209.5 4427,-209.5 4421,-209.5 4415,-203.5 4415,-197.5 4415,-197.5 4415,-138.5 4415,-138.5 4415,-132.5 4421,-126.5 4427,-126.5 4427,-126.5 4637,-126.5 4637,-126.5 4643,-126.5 4649,-132.5 4649,-138.5 4649,-138.5 4649,-197.5 4649,-197.5 4649,-203.5 4643,-209.5 4637,-209.5\"/>\n<text text-anchor=\"start\" x=\"4501\" y=\"-194.3\" font-family=\"Helvetica,sans-Serif\" font-size=\"14.00\" fill=\"#000000\">node #64</text>\n<text text-anchor=\"start\" x=\"4502.5\" y=\"-179.3\" font-family=\"Helvetica,sans-Serif\" font-size=\"14.00\" fill=\"#000000\">gini = 0.0</text>\n<text text-anchor=\"start\" x=\"4480\" y=\"-164.3\" font-family=\"Helvetica,sans-Serif\" font-size=\"14.00\" fill=\"#000000\">samples = 0.2%</text>\n<text text-anchor=\"start\" x=\"4423\" y=\"-149.3\" font-family=\"Helvetica,sans-Serif\" font-size=\"14.00\" fill=\"#000000\">value = [0.0, 0.0, 0.0, 1.0, 0.0, 0.0]</text>\n<text text-anchor=\"start\" x=\"4498.5\" y=\"-134.3\" font-family=\"Helvetica,sans-Serif\" font-size=\"14.00\" fill=\"#000000\">class = 20</text>\n</g>\n<!-- 63&#45;&gt;64 -->\n<g id=\"edge64\" class=\"edge\">\n<title>63&#45;&gt;64</title>\n<path fill=\"none\" stroke=\"#000000\" d=\"M4535.1666,-252.8642C4534.7653,-242.1094 4534.3393,-230.6921 4533.9342,-219.8354\"/>\n<polygon fill=\"#000000\" stroke=\"#000000\" points=\"4537.4242,-219.5006 4533.5537,-209.6381 4530.4291,-219.7617 4537.4242,-219.5006\"/>\n</g>\n<!-- 65 -->\n<g id=\"node66\" class=\"node\">\n<title>65</title>\n<path fill=\"#e5399d\" stroke=\"#000000\" d=\"M4889,-209.5C4889,-209.5 4679,-209.5 4679,-209.5 4673,-209.5 4667,-203.5 4667,-197.5 4667,-197.5 4667,-138.5 4667,-138.5 4667,-132.5 4673,-126.5 4679,-126.5 4679,-126.5 4889,-126.5 4889,-126.5 4895,-126.5 4901,-132.5 4901,-138.5 4901,-138.5 4901,-197.5 4901,-197.5 4901,-203.5 4895,-209.5 4889,-209.5\"/>\n<text text-anchor=\"start\" x=\"4753\" y=\"-194.3\" font-family=\"Helvetica,sans-Serif\" font-size=\"14.00\" fill=\"#000000\">node #65</text>\n<text text-anchor=\"start\" x=\"4754.5\" y=\"-179.3\" font-family=\"Helvetica,sans-Serif\" font-size=\"14.00\" fill=\"#000000\">gini = 0.0</text>\n<text text-anchor=\"start\" x=\"4732\" y=\"-164.3\" font-family=\"Helvetica,sans-Serif\" font-size=\"14.00\" fill=\"#000000\">samples = 1.5%</text>\n<text text-anchor=\"start\" x=\"4675\" y=\"-149.3\" font-family=\"Helvetica,sans-Serif\" font-size=\"14.00\" fill=\"#000000\">value = [0.0, 0.0, 0.0, 0.0, 0.0, 1.0]</text>\n<text text-anchor=\"start\" x=\"4750.5\" y=\"-134.3\" font-family=\"Helvetica,sans-Serif\" font-size=\"14.00\" fill=\"#000000\">class = 30</text>\n</g>\n<!-- 63&#45;&gt;65 -->\n<g id=\"edge65\" class=\"edge\">\n<title>63&#45;&gt;65</title>\n<path fill=\"none\" stroke=\"#000000\" d=\"M4627.5711,-252.8642C4650.6653,-240.3354 4675.4168,-226.9075 4698.261,-214.5143\"/>\n<polygon fill=\"#000000\" stroke=\"#000000\" points=\"4700.1283,-217.4832 4707.2491,-209.6381 4696.7903,-211.3303 4700.1283,-217.4832\"/>\n</g>\n</g>\n</svg>\n"
          },
          "metadata": {},
          "execution_count": 41
        }
      ]
    },
    {
      "cell_type": "markdown",
      "source": [
        "## Avaliação da árvore de decisão"
      ],
      "metadata": {
        "id": "QX2GRO6yDE_Z"
      }
    },
    {
      "cell_type": "code",
      "source": [
        "#matriz de confusão\n",
        "print (pd.crosstab(y_test,resultado, rownames=['Real'], colnames=['Predito'], margins=True))"
      ],
      "metadata": {
        "colab": {
          "base_uri": "https://localhost:8080/"
        },
        "id": "5lsRnfGhCVx3",
        "outputId": "db9b2f51-fbb3-41ce-9c3a-6b5430825405"
      },
      "execution_count": null,
      "outputs": [
        {
          "output_type": "stream",
          "name": "stdout",
          "text": [
            "Predito   5  10  15  20  25  30  All\n",
            "Real                                \n",
            "5        46   2   0   0   0   0   48\n",
            "10        1  31   5   0   0   0   37\n",
            "15        0   0  17   0   0   0   17\n",
            "20        0   0   0   9   1   0   10\n",
            "25        0   0   0   2   2   0    4\n",
            "30        0   0   0   0   1   1    2\n",
            "All      47  33  22  11   4   1  118\n"
          ]
        }
      ]
    },
    {
      "cell_type": "code",
      "source": [
        "from sklearn import metrics\n",
        "print(metrics.classification_report(y_test,resultado))"
      ],
      "metadata": {
        "colab": {
          "base_uri": "https://localhost:8080/"
        },
        "id": "gt94Hd-tDJqu",
        "outputId": "5b88b693-c620-42c8-a48c-51f6f759c6f8"
      },
      "execution_count": null,
      "outputs": [
        {
          "output_type": "stream",
          "name": "stdout",
          "text": [
            "              precision    recall  f1-score   support\n",
            "\n",
            "           5       0.98      0.96      0.97        48\n",
            "          10       0.94      0.84      0.89        37\n",
            "          15       0.77      1.00      0.87        17\n",
            "          20       0.82      0.90      0.86        10\n",
            "          25       0.50      0.50      0.50         4\n",
            "          30       1.00      0.50      0.67         2\n",
            "\n",
            "    accuracy                           0.90       118\n",
            "   macro avg       0.83      0.78      0.79       118\n",
            "weighted avg       0.91      0.90      0.90       118\n",
            "\n"
          ]
        }
      ]
    },
    {
      "cell_type": "markdown",
      "source": [
        "## Naive Bayes"
      ],
      "metadata": {
        "id": "rbhe9qDdDxHy"
      }
    },
    {
      "cell_type": "code",
      "source": [
        "from sklearn.naive_bayes import GaussianNB"
      ],
      "metadata": {
        "id": "E9ReeY0hD1uy"
      },
      "execution_count": null,
      "outputs": []
    },
    {
      "cell_type": "code",
      "source": [
        "gnb = GaussianNB()\n",
        "gnb.fit(X_train, y_train)"
      ],
      "metadata": {
        "colab": {
          "base_uri": "https://localhost:8080/"
        },
        "id": "kSpuJTuQGhzc",
        "outputId": "5208feb4-ca4e-490c-d462-dc8a4e85f490"
      },
      "execution_count": null,
      "outputs": [
        {
          "output_type": "execute_result",
          "data": {
            "text/plain": [
              "GaussianNB()"
            ]
          },
          "metadata": {},
          "execution_count": 48
        }
      ]
    },
    {
      "cell_type": "code",
      "source": [
        "resultado = gnb.predict(X_test)\n",
        "resultado"
      ],
      "metadata": {
        "colab": {
          "base_uri": "https://localhost:8080/"
        },
        "id": "GgWANMZdG43D",
        "outputId": "65b83b71-08b2-4ebc-db53-66bc86a46864"
      },
      "execution_count": null,
      "outputs": [
        {
          "output_type": "execute_result",
          "data": {
            "text/plain": [
              "array([ 5,  5,  5, 10,  5, 10,  5, 15, 15,  5, 15, 10, 15,  5, 15, 10, 20,\n",
              "       15,  5, 10, 15,  5,  5,  5,  5,  5,  5, 10, 10, 15, 10,  5,  5,  5,\n",
              "       15, 15, 15, 10,  5, 15, 25,  5, 10, 20,  5,  5, 25, 10, 20,  5,  5,\n",
              "       10,  5, 20, 10, 10, 30, 10, 20, 10, 10, 10, 15,  5, 10,  5,  5, 10,\n",
              "       25, 10, 10, 10,  5, 10,  5, 10, 15, 10,  5, 10, 10, 10, 10,  5,  5,\n",
              "        5,  5,  5, 20,  5,  5,  5,  5, 15, 10, 20, 20,  5, 10, 20, 10, 10,\n",
              "       25, 10,  5, 15, 20, 10, 15,  5, 30, 15,  5,  5,  5, 10, 10,  5])"
            ]
          },
          "metadata": {},
          "execution_count": 50
        }
      ]
    },
    {
      "cell_type": "markdown",
      "source": [
        "### Avaliação do Naive Bayes"
      ],
      "metadata": {
        "id": "XvESFPi_HE3z"
      }
    },
    {
      "cell_type": "code",
      "source": [
        "#matriz de confusão\n",
        "print (pd.crosstab(y_test,resultado, rownames=['Real'], colnames=['Predito'], margins=True))"
      ],
      "metadata": {
        "colab": {
          "base_uri": "https://localhost:8080/"
        },
        "id": "2MJdxOYBG-Ev",
        "outputId": "09f12267-4724-4155-d6bc-b79b82f63029"
      },
      "execution_count": null,
      "outputs": [
        {
          "output_type": "stream",
          "name": "stdout",
          "text": [
            "Predito   5  10  15  20  25  30  All\n",
            "Real                                \n",
            "5        44   4   0   0   0   0   48\n",
            "10        2  33   2   0   0   0   37\n",
            "15        0   1  15   1   0   0   17\n",
            "20        0   0   1   8   1   0   10\n",
            "25        0   0   0   1   3   0    4\n",
            "30        0   0   0   0   0   2    2\n",
            "All      46  38  18  10   4   2  118\n"
          ]
        }
      ]
    },
    {
      "cell_type": "code",
      "source": [
        "from sklearn import metrics\n",
        "print(metrics.classification_report(y_test,resultado))"
      ],
      "metadata": {
        "colab": {
          "base_uri": "https://localhost:8080/"
        },
        "id": "04VXhwrCHMya",
        "outputId": "055339d5-4640-4097-aeeb-31b94d36f270"
      },
      "execution_count": null,
      "outputs": [
        {
          "output_type": "stream",
          "name": "stdout",
          "text": [
            "              precision    recall  f1-score   support\n",
            "\n",
            "           5       0.96      0.92      0.94        48\n",
            "          10       0.87      0.89      0.88        37\n",
            "          15       0.83      0.88      0.86        17\n",
            "          20       0.80      0.80      0.80        10\n",
            "          25       0.75      0.75      0.75         4\n",
            "          30       1.00      1.00      1.00         2\n",
            "\n",
            "    accuracy                           0.89       118\n",
            "   macro avg       0.87      0.87      0.87       118\n",
            "weighted avg       0.89      0.89      0.89       118\n",
            "\n"
          ]
        }
      ]
    },
    {
      "cell_type": "markdown",
      "source": [
        "## Comparação dos Modelos"
      ],
      "metadata": {
        "id": "MdRNuxYlDZHY"
      }
    },
    {
      "cell_type": "code",
      "source": [
        "print(f\"Árvore de decisão: Treinamento - {clf.score(X_train,y_train):.2f}, Teste - {clf.score(X_test,y_test):.2f}\")\n",
        "print(f\"Knn:               Treinamento - {knn.score(X_train,y_train):.2f}, Teste - {knn.score(X_test,y_test):.2f}\")\n",
        "print(f\"Naive Bayes:       Treinamento - {gnb.score(X_train,y_train):.2f}, Teste - {gnb.score(X_test,y_test):.2f}\")"
      ],
      "metadata": {
        "colab": {
          "base_uri": "https://localhost:8080/"
        },
        "id": "tRIUYmgqDNyA",
        "outputId": "ec3629bf-0330-417d-e825-0036de48cca2"
      },
      "execution_count": null,
      "outputs": [
        {
          "output_type": "stream",
          "name": "stdout",
          "text": [
            "Árvore de decisão: Treinamento - 1.00, Teste - 0.90\n",
            "Knn:               Treinamento - 0.90, Teste - 0.76\n",
            "Naive Bayes:       Treinamento - 0.90, Teste - 0.89\n"
          ]
        }
      ]
    }
  ]
}